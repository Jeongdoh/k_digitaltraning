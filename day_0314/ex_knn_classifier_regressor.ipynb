{
 "cells": [
  {
   "cell_type": "markdown",
   "id": "ec50888d",
   "metadata": {},
   "source": [
    "## KNN  기반 모델 생성 ------------------------------------------------"
   ]
  },
  {
   "cell_type": "markdown",
   "id": "0f23baee",
   "metadata": {},
   "source": [
    "### [1]  분류  => 품종 분류"
   ]
  },
  {
   "cell_type": "code",
   "execution_count": 152,
   "id": "9619dca0",
   "metadata": {},
   "outputs": [],
   "source": [
    "# 모듈 로딩 -----------------------------------------------------------------------------------\n",
    "from sklearn.model_selection import train_test_split\n",
    "from sklearn.neighbors import KNeighborsClassifier, KNeighborsRegressor\n",
    "from sklearn.metrics import accuracy_score, r2_score, mean_squared_error\n",
    "\n",
    "import pandas as pd\n",
    "import numpy as np\n",
    "import matplotlib.pyplot as plt"
   ]
  },
  {
   "cell_type": "markdown",
   "id": "c4ec3a7f",
   "metadata": {},
   "source": [
    "#### [1-1]  데이터 준비 및 분석"
   ]
  },
  {
   "cell_type": "code",
   "execution_count": 153,
   "id": "4754465b",
   "metadata": {},
   "outputs": [],
   "source": [
    "FILE ='../data/sample_data.csv'\n",
    "\n",
    "samDF=pd.read_csv(FILE)"
   ]
  },
  {
   "cell_type": "code",
   "execution_count": 154,
   "id": "60631982",
   "metadata": {},
   "outputs": [
    {
     "name": "stdout",
     "output_type": "stream",
     "text": [
      "<class 'pandas.core.frame.DataFrame'>\n",
      "RangeIndex: 49 entries, 0 to 48\n",
      "Data columns (total 3 columns):\n",
      " #   Column   Non-Null Count  Dtype  \n",
      "---  ------   --------------  -----  \n",
      " 0   Length   49 non-null     float64\n",
      " 1   Weight   49 non-null     float64\n",
      " 2   Species  49 non-null     object \n",
      "dtypes: float64(2), object(1)\n",
      "memory usage: 1.3+ KB\n"
     ]
    }
   ],
   "source": [
    "samDF.info()"
   ]
  },
  {
   "cell_type": "code",
   "execution_count": 155,
   "id": "277bb5b1",
   "metadata": {},
   "outputs": [
    {
     "data": {
      "text/html": [
       "<div>\n",
       "<style scoped>\n",
       "    .dataframe tbody tr th:only-of-type {\n",
       "        vertical-align: middle;\n",
       "    }\n",
       "\n",
       "    .dataframe tbody tr th {\n",
       "        vertical-align: top;\n",
       "    }\n",
       "\n",
       "    .dataframe thead th {\n",
       "        text-align: right;\n",
       "    }\n",
       "</style>\n",
       "<table border=\"1\" class=\"dataframe\">\n",
       "  <thead>\n",
       "    <tr style=\"text-align: right;\">\n",
       "      <th></th>\n",
       "      <th>Length</th>\n",
       "      <th>Weight</th>\n",
       "      <th>Species</th>\n",
       "    </tr>\n",
       "  </thead>\n",
       "  <tbody>\n",
       "    <tr>\n",
       "      <th>0</th>\n",
       "      <td>25.4</td>\n",
       "      <td>242.0</td>\n",
       "      <td>B-Type</td>\n",
       "    </tr>\n",
       "    <tr>\n",
       "      <th>1</th>\n",
       "      <td>26.3</td>\n",
       "      <td>290.0</td>\n",
       "      <td>B-Type</td>\n",
       "    </tr>\n",
       "    <tr>\n",
       "      <th>2</th>\n",
       "      <td>26.5</td>\n",
       "      <td>340.0</td>\n",
       "      <td>B-Type</td>\n",
       "    </tr>\n",
       "    <tr>\n",
       "      <th>3</th>\n",
       "      <td>29.0</td>\n",
       "      <td>363.0</td>\n",
       "      <td>B-Type</td>\n",
       "    </tr>\n",
       "    <tr>\n",
       "      <th>4</th>\n",
       "      <td>29.0</td>\n",
       "      <td>430.0</td>\n",
       "      <td>B-Type</td>\n",
       "    </tr>\n",
       "  </tbody>\n",
       "</table>\n",
       "</div>"
      ],
      "text/plain": [
       "   Length  Weight Species\n",
       "0    25.4   242.0  B-Type\n",
       "1    26.3   290.0  B-Type\n",
       "2    26.5   340.0  B-Type\n",
       "3    29.0   363.0  B-Type\n",
       "4    29.0   430.0  B-Type"
      ]
     },
     "execution_count": 155,
     "metadata": {},
     "output_type": "execute_result"
    }
   ],
   "source": [
    "samDF.head()"
   ]
  },
  {
   "cell_type": "markdown",
   "id": "f73168e4",
   "metadata": {},
   "source": [
    "#### [1-2] 데이터 전처리"
   ]
  },
  {
   "cell_type": "code",
   "execution_count": 156,
   "id": "643c12c2",
   "metadata": {},
   "outputs": [],
   "source": [
    "# 타겟 => 품종 ,  데이터 => 길이, 무게  \n",
    "# 타겟 => 수치화 방법(1)\n",
    "samDF.Species.replace('B-Type', 0, inplace=True)\n",
    "samDF.Species.replace('S-Type', 1, inplace=True)"
   ]
  },
  {
   "cell_type": "code",
   "execution_count": 157,
   "id": "7edded4d",
   "metadata": {},
   "outputs": [
    {
     "data": {
      "text/plain": [
       "array([0, 0, 0, 0, 0, 0, 0, 0, 0, 0, 0, 0, 0, 0, 0, 0, 0, 0, 0, 0, 0, 0,\n",
       "       0, 0, 0, 0, 0, 0, 0, 0, 0, 0, 0, 0, 0, 1, 1, 1, 1, 1, 1, 1, 1, 1,\n",
       "       1, 1, 1, 1, 1], dtype=int64)"
      ]
     },
     "execution_count": 157,
     "metadata": {},
     "output_type": "execute_result"
    }
   ],
   "source": [
    "# 타겟 => 수치화 방법(2) \n",
    "from sklearn.preprocessing import LabelEncoder\n",
    "le=LabelEncoder()\n",
    "le.fit_transform(samDF.Species)"
   ]
  },
  {
   "cell_type": "code",
   "execution_count": 158,
   "id": "d3e92046",
   "metadata": {},
   "outputs": [],
   "source": [
    "#  타겟 & 데이터 선정\n",
    "data = samDF[samDF.columns[:-1]].to_numpy()\n",
    "target = samDF.Species"
   ]
  },
  {
   "cell_type": "code",
   "execution_count": 159,
   "id": "b0f027c2",
   "metadata": {},
   "outputs": [
    {
     "data": {
      "text/plain": [
       "((49, 2), (49,))"
      ]
     },
     "execution_count": 159,
     "metadata": {},
     "output_type": "execute_result"
    }
   ],
   "source": [
    "data.shape, target.shape"
   ]
  },
  {
   "cell_type": "code",
   "execution_count": 160,
   "id": "b89f0514",
   "metadata": {},
   "outputs": [],
   "source": [
    "# 수치 데이터 스케일링 --------------------------------------------------\n",
    "from sklearn.preprocessing import StandardScaler\n",
    "\n",
    "std= StandardScaler()\n",
    "std.fit(data)\n",
    "std_data=std.transform(data)"
   ]
  },
  {
   "cell_type": "code",
   "execution_count": 161,
   "id": "0bc6601c",
   "metadata": {},
   "outputs": [
    {
     "data": {
      "text/plain": [
       "array([[-0.16326134, -0.62350364],\n",
       "       [-0.07448421, -0.47571019],\n",
       "       [-0.05475596, -0.32175867],\n",
       "       [ 0.19184717, -0.25094097],\n",
       "       [ 0.19184717, -0.04464594]])"
      ]
     },
     "execution_count": 161,
     "metadata": {},
     "output_type": "execute_result"
    }
   ],
   "source": [
    "std_data[:5]"
   ]
  },
  {
   "cell_type": "code",
   "execution_count": 162,
   "id": "22dcdca5",
   "metadata": {},
   "outputs": [],
   "source": [
    "data =std_data"
   ]
  },
  {
   "cell_type": "markdown",
   "id": "262c1a60",
   "metadata": {},
   "source": [
    "#### [1-3] 학습용 & 테스트용 데이터 준비"
   ]
  },
  {
   "cell_type": "code",
   "execution_count": 163,
   "id": "3df7cbe8",
   "metadata": {},
   "outputs": [],
   "source": [
    "# 학습용 & 테스트용 데이터 분리\n",
    "X_train, X_test, y_train, y_test = train_test_split(data, target, random_state=10)"
   ]
  },
  {
   "cell_type": "code",
   "execution_count": 164,
   "id": "9a73f203",
   "metadata": {},
   "outputs": [
    {
     "data": {
      "text/plain": [
       "((36, 2), (36,), (13, 2), (13,))"
      ]
     },
     "execution_count": 164,
     "metadata": {},
     "output_type": "execute_result"
    }
   ],
   "source": [
    "X_train.shape, y_train.shape, X_test.shape, y_test.shape"
   ]
  },
  {
   "cell_type": "markdown",
   "id": "f127dd90",
   "metadata": {},
   "source": [
    "#### [1-4] 모델 객체 생성 및 학습"
   ]
  },
  {
   "cell_type": "code",
   "execution_count": 165,
   "id": "8e1352b4",
   "metadata": {},
   "outputs": [
    {
     "data": {
      "text/html": [
       "<style>#sk-container-id-9 {color: black;background-color: white;}#sk-container-id-9 pre{padding: 0;}#sk-container-id-9 div.sk-toggleable {background-color: white;}#sk-container-id-9 label.sk-toggleable__label {cursor: pointer;display: block;width: 100%;margin-bottom: 0;padding: 0.3em;box-sizing: border-box;text-align: center;}#sk-container-id-9 label.sk-toggleable__label-arrow:before {content: \"▸\";float: left;margin-right: 0.25em;color: #696969;}#sk-container-id-9 label.sk-toggleable__label-arrow:hover:before {color: black;}#sk-container-id-9 div.sk-estimator:hover label.sk-toggleable__label-arrow:before {color: black;}#sk-container-id-9 div.sk-toggleable__content {max-height: 0;max-width: 0;overflow: hidden;text-align: left;background-color: #f0f8ff;}#sk-container-id-9 div.sk-toggleable__content pre {margin: 0.2em;color: black;border-radius: 0.25em;background-color: #f0f8ff;}#sk-container-id-9 input.sk-toggleable__control:checked~div.sk-toggleable__content {max-height: 200px;max-width: 100%;overflow: auto;}#sk-container-id-9 input.sk-toggleable__control:checked~label.sk-toggleable__label-arrow:before {content: \"▾\";}#sk-container-id-9 div.sk-estimator input.sk-toggleable__control:checked~label.sk-toggleable__label {background-color: #d4ebff;}#sk-container-id-9 div.sk-label input.sk-toggleable__control:checked~label.sk-toggleable__label {background-color: #d4ebff;}#sk-container-id-9 input.sk-hidden--visually {border: 0;clip: rect(1px 1px 1px 1px);clip: rect(1px, 1px, 1px, 1px);height: 1px;margin: -1px;overflow: hidden;padding: 0;position: absolute;width: 1px;}#sk-container-id-9 div.sk-estimator {font-family: monospace;background-color: #f0f8ff;border: 1px dotted black;border-radius: 0.25em;box-sizing: border-box;margin-bottom: 0.5em;}#sk-container-id-9 div.sk-estimator:hover {background-color: #d4ebff;}#sk-container-id-9 div.sk-parallel-item::after {content: \"\";width: 100%;border-bottom: 1px solid gray;flex-grow: 1;}#sk-container-id-9 div.sk-label:hover label.sk-toggleable__label {background-color: #d4ebff;}#sk-container-id-9 div.sk-serial::before {content: \"\";position: absolute;border-left: 1px solid gray;box-sizing: border-box;top: 0;bottom: 0;left: 50%;z-index: 0;}#sk-container-id-9 div.sk-serial {display: flex;flex-direction: column;align-items: center;background-color: white;padding-right: 0.2em;padding-left: 0.2em;position: relative;}#sk-container-id-9 div.sk-item {position: relative;z-index: 1;}#sk-container-id-9 div.sk-parallel {display: flex;align-items: stretch;justify-content: center;background-color: white;position: relative;}#sk-container-id-9 div.sk-item::before, #sk-container-id-9 div.sk-parallel-item::before {content: \"\";position: absolute;border-left: 1px solid gray;box-sizing: border-box;top: 0;bottom: 0;left: 50%;z-index: -1;}#sk-container-id-9 div.sk-parallel-item {display: flex;flex-direction: column;z-index: 1;position: relative;background-color: white;}#sk-container-id-9 div.sk-parallel-item:first-child::after {align-self: flex-end;width: 50%;}#sk-container-id-9 div.sk-parallel-item:last-child::after {align-self: flex-start;width: 50%;}#sk-container-id-9 div.sk-parallel-item:only-child::after {width: 0;}#sk-container-id-9 div.sk-dashed-wrapped {border: 1px dashed gray;margin: 0 0.4em 0.5em 0.4em;box-sizing: border-box;padding-bottom: 0.4em;background-color: white;}#sk-container-id-9 div.sk-label label {font-family: monospace;font-weight: bold;display: inline-block;line-height: 1.2em;}#sk-container-id-9 div.sk-label-container {text-align: center;}#sk-container-id-9 div.sk-container {/* jupyter's `normalize.less` sets `[hidden] { display: none; }` but bootstrap.min.css set `[hidden] { display: none !important; }` so we also need the `!important` here to be able to override the default hidden behavior on the sphinx rendered scikit-learn.org. See: https://github.com/scikit-learn/scikit-learn/issues/21755 */display: inline-block !important;position: relative;}#sk-container-id-9 div.sk-text-repr-fallback {display: none;}</style><div id=\"sk-container-id-9\" class=\"sk-top-container\"><div class=\"sk-text-repr-fallback\"><pre>KNeighborsClassifier()</pre><b>In a Jupyter environment, please rerun this cell to show the HTML representation or trust the notebook. <br />On GitHub, the HTML representation is unable to render, please try loading this page with nbviewer.org.</b></div><div class=\"sk-container\" hidden><div class=\"sk-item\"><div class=\"sk-estimator sk-toggleable\"><input class=\"sk-toggleable__control sk-hidden--visually\" id=\"sk-estimator-id-9\" type=\"checkbox\" checked><label for=\"sk-estimator-id-9\" class=\"sk-toggleable__label sk-toggleable__label-arrow\">KNeighborsClassifier</label><div class=\"sk-toggleable__content\"><pre>KNeighborsClassifier()</pre></div></div></div></div></div>"
      ],
      "text/plain": [
       "KNeighborsClassifier()"
      ]
     },
     "execution_count": 165,
     "metadata": {},
     "output_type": "execute_result"
    }
   ],
   "source": [
    "knnModel = KNeighborsClassifier()\n",
    "knnModel.fit(X_train, y_train)"
   ]
  },
  {
   "cell_type": "code",
   "execution_count": 166,
   "id": "a2d4305f",
   "metadata": {},
   "outputs": [
    {
     "data": {
      "text/plain": [
       "1.0"
      ]
     },
     "execution_count": 166,
     "metadata": {},
     "output_type": "execute_result"
    }
   ],
   "source": [
    "knnModel.score(X_test, y_test)"
   ]
  },
  {
   "cell_type": "markdown",
   "id": "bd7f5684",
   "metadata": {},
   "source": [
    "#### [1-5] 예측 및 평가"
   ]
  },
  {
   "cell_type": "code",
   "execution_count": 167,
   "id": "939ff215",
   "metadata": {},
   "outputs": [
    {
     "data": {
      "text/plain": [
       "array([0], dtype=int64)"
      ]
     },
     "execution_count": 167,
     "metadata": {},
     "output_type": "execute_result"
    }
   ],
   "source": [
    "new_data = std.transform(np.array([27.8, 358]).reshape(-1,2))\n",
    "new_data\n",
    "\n",
    "# 예측값\n",
    "knnModel.predict(new_data)"
   ]
  },
  {
   "cell_type": "code",
   "execution_count": 168,
   "id": "73ac73fb",
   "metadata": {},
   "outputs": [
    {
     "data": {
      "text/plain": [
       "array([[1., 0.]])"
      ]
     },
     "execution_count": 168,
     "metadata": {},
     "output_type": "execute_result"
    }
   ],
   "source": [
    "# 예측 확률 - 품종별 확률값 \n",
    "knnModel.predict_proba(new_data)"
   ]
  },
  {
   "cell_type": "code",
   "execution_count": 169,
   "id": "a37b9354",
   "metadata": {},
   "outputs": [
    {
     "data": {
      "text/plain": [
       "(array([[0.25131231, 0.25637905, 0.33965864, 0.35684171, 0.41798393]]),\n",
       " array([[18,  7, 12, 27, 13]], dtype=int64))"
      ]
     },
     "execution_count": 169,
     "metadata": {},
     "output_type": "execute_result"
    }
   ],
   "source": [
    "# 데이터의 이웃 데이터 정보 => 거리, 인덱스\n",
    "distance_, index_ = knnModel.kneighbors(new_data)\n",
    "\n",
    "distance_, index_, "
   ]
  },
  {
   "cell_type": "code",
   "execution_count": 170,
   "id": "b936ee66",
   "metadata": {},
   "outputs": [
    {
     "data": {
      "text/plain": [
       "((36, 2), (36,))"
      ]
     },
     "execution_count": 170,
     "metadata": {},
     "output_type": "execute_result"
    }
   ],
   "source": [
    "X_train.shape, y_train.shape"
   ]
  },
  {
   "cell_type": "code",
   "execution_count": 171,
   "id": "94be1203",
   "metadata": {},
   "outputs": [],
   "source": [
    "knei_length = X_train[[13, 7, 18, 12, 27]][:, 0]\n",
    "knei_width = X_train[[13, 7, 18, 12, 27]][:, 1]"
   ]
  },
  {
   "cell_type": "code",
   "execution_count": 173,
   "id": "52ae0394",
   "metadata": {},
   "outputs": [
    {
     "data": {
      "text/plain": [
       "Text(0, 0.5, 'Weight')"
      ]
     },
     "execution_count": 173,
     "metadata": {},
     "output_type": "execute_result"
    },
    {
     "data": {
      "image/png": "[encoded data removed]",
      "text/plain": [
       "<Figure size 640x480 with 1 Axes>"
      ]
     },
     "metadata": {},
     "output_type": "display_data"
    }
   ],
   "source": [
    "plt.scatter(X_train[:, 0], X_train[:, 1])\n",
    "plt.scatter(new_data[0][0], new_data[0][1], marker='^', c='red')\n",
    "plt.scatter(knei_length, knei_width, marker='^', c='orange')\n",
    "plt.xlabel(\"Length\")\n",
    "plt.ylabel(\"Weight\")"
   ]
  },
  {
   "cell_type": "code",
   "execution_count": null,
   "id": "ce81ed78",
   "metadata": {},
   "outputs": [],
   "source": []
  },
  {
   "cell_type": "markdown",
   "id": "d1f0e98d",
   "metadata": {},
   "source": [
    "### [2] 회귀 => 길이로 무게 예측"
   ]
  },
  {
   "cell_type": "code",
   "execution_count": 174,
   "id": "beef66db",
   "metadata": {},
   "outputs": [],
   "source": [
    "#  타겟 & 데이터 선정\n",
    "data = samDF.Length.to_numpy().reshape(-1, 1)\n",
    "target = samDF.Weight.to_numpy()"
   ]
  },
  {
   "cell_type": "code",
   "execution_count": 178,
   "id": "b5f4bd3a",
   "metadata": {},
   "outputs": [
    {
     "data": {
      "text/plain": [
       "((49, 1), (49,))"
      ]
     },
     "execution_count": 178,
     "metadata": {},
     "output_type": "execute_result"
    }
   ],
   "source": [
    "data.shape, target.shape"
   ]
  },
  {
   "cell_type": "code",
   "execution_count": 179,
   "id": "ec20df63",
   "metadata": {},
   "outputs": [
    {
     "data": {
      "text/plain": [
       "(array([[25.4],\n",
       "        [26.3],\n",
       "        [26.5],\n",
       "        [29. ],\n",
       "        [29. ]]),\n",
       " array([242., 290., 340., 363., 430.]),\n",
       " 41.0,\n",
       " 1000.0)"
      ]
     },
     "execution_count": 179,
     "metadata": {},
     "output_type": "execute_result"
    }
   ],
   "source": [
    "data[:5], target[:5], data.max(), target.max()"
   ]
  },
  {
   "cell_type": "code",
   "execution_count": 180,
   "id": "eaf86232",
   "metadata": {},
   "outputs": [],
   "source": [
    "# 학습용 & 테스트용 데이터 분리\n",
    "X_train, X_test, y_train, y_test = train_test_split(data, target, random_state=10)"
   ]
  },
  {
   "cell_type": "code",
   "execution_count": 181,
   "id": "4f66eff6",
   "metadata": {},
   "outputs": [
    {
     "data": {
      "text/plain": [
       "(array([[39.5],\n",
       "        [31. ],\n",
       "        [34. ],\n",
       "        [ 9.8],\n",
       "        [36. ]]),\n",
       " array([925. , 475. , 685. ,   6.7, 714. ]))"
      ]
     },
     "execution_count": 181,
     "metadata": {},
     "output_type": "execute_result"
    }
   ],
   "source": [
    "X_train[:5], y_train[:5]"
   ]
  },
  {
   "cell_type": "code",
   "execution_count": 183,
   "id": "c688feb6",
   "metadata": {},
   "outputs": [
    {
     "data": {
      "text/plain": [
       "Text(0, 0.5, 'Weight')"
      ]
     },
     "execution_count": 183,
     "metadata": {},
     "output_type": "execute_result"
    },
    {
     "data": {
      "image/png": "[encoded data removed]",
      "text/plain": [
       "<Figure size 640x480 with 1 Axes>"
      ]
     },
     "metadata": {},
     "output_type": "display_data"
    }
   ],
   "source": [
    "plt.scatter(X_train, y_train)\n",
    "plt.xlabel(\"Length\")\n",
    "plt.ylabel(\"Weight\")"
   ]
  },
  {
   "cell_type": "markdown",
   "id": "9bb9ec97",
   "metadata": {},
   "source": [
    "#### [2-3] 회귀 모델 객체 생성"
   ]
  },
  {
   "cell_type": "code",
   "execution_count": 184,
   "id": "62dc1012",
   "metadata": {},
   "outputs": [],
   "source": [
    "regModel=KNeighborsRegressor()"
   ]
  },
  {
   "cell_type": "code",
   "execution_count": 185,
   "id": "1e783bbd",
   "metadata": {},
   "outputs": [
    {
     "data": {
      "text/html": [
       "<style>#sk-container-id-10 {color: black;background-color: white;}#sk-container-id-10 pre{padding: 0;}#sk-container-id-10 div.sk-toggleable {background-color: white;}#sk-container-id-10 label.sk-toggleable__label {cursor: pointer;display: block;width: 100%;margin-bottom: 0;padding: 0.3em;box-sizing: border-box;text-align: center;}#sk-container-id-10 label.sk-toggleable__label-arrow:before {content: \"▸\";float: left;margin-right: 0.25em;color: #696969;}#sk-container-id-10 label.sk-toggleable__label-arrow:hover:before {color: black;}#sk-container-id-10 div.sk-estimator:hover label.sk-toggleable__label-arrow:before {color: black;}#sk-container-id-10 div.sk-toggleable__content {max-height: 0;max-width: 0;overflow: hidden;text-align: left;background-color: #f0f8ff;}#sk-container-id-10 div.sk-toggleable__content pre {margin: 0.2em;color: black;border-radius: 0.25em;background-color: #f0f8ff;}#sk-container-id-10 input.sk-toggleable__control:checked~div.sk-toggleable__content {max-height: 200px;max-width: 100%;overflow: auto;}#sk-container-id-10 input.sk-toggleable__control:checked~label.sk-toggleable__label-arrow:before {content: \"▾\";}#sk-container-id-10 div.sk-estimator input.sk-toggleable__control:checked~label.sk-toggleable__label {background-color: #d4ebff;}#sk-container-id-10 div.sk-label input.sk-toggleable__control:checked~label.sk-toggleable__label {background-color: #d4ebff;}#sk-container-id-10 input.sk-hidden--visually {border: 0;clip: rect(1px 1px 1px 1px);clip: rect(1px, 1px, 1px, 1px);height: 1px;margin: -1px;overflow: hidden;padding: 0;position: absolute;width: 1px;}#sk-container-id-10 div.sk-estimator {font-family: monospace;background-color: #f0f8ff;border: 1px dotted black;border-radius: 0.25em;box-sizing: border-box;margin-bottom: 0.5em;}#sk-container-id-10 div.sk-estimator:hover {background-color: #d4ebff;}#sk-container-id-10 div.sk-parallel-item::after {content: \"\";width: 100%;border-bottom: 1px solid gray;flex-grow: 1;}#sk-container-id-10 div.sk-label:hover label.sk-toggleable__label {background-color: #d4ebff;}#sk-container-id-10 div.sk-serial::before {content: \"\";position: absolute;border-left: 1px solid gray;box-sizing: border-box;top: 0;bottom: 0;left: 50%;z-index: 0;}#sk-container-id-10 div.sk-serial {display: flex;flex-direction: column;align-items: center;background-color: white;padding-right: 0.2em;padding-left: 0.2em;position: relative;}#sk-container-id-10 div.sk-item {position: relative;z-index: 1;}#sk-container-id-10 div.sk-parallel {display: flex;align-items: stretch;justify-content: center;background-color: white;position: relative;}#sk-container-id-10 div.sk-item::before, #sk-container-id-10 div.sk-parallel-item::before {content: \"\";position: absolute;border-left: 1px solid gray;box-sizing: border-box;top: 0;bottom: 0;left: 50%;z-index: -1;}#sk-container-id-10 div.sk-parallel-item {display: flex;flex-direction: column;z-index: 1;position: relative;background-color: white;}#sk-container-id-10 div.sk-parallel-item:first-child::after {align-self: flex-end;width: 50%;}#sk-container-id-10 div.sk-parallel-item:last-child::after {align-self: flex-start;width: 50%;}#sk-container-id-10 div.sk-parallel-item:only-child::after {width: 0;}#sk-container-id-10 div.sk-dashed-wrapped {border: 1px dashed gray;margin: 0 0.4em 0.5em 0.4em;box-sizing: border-box;padding-bottom: 0.4em;background-color: white;}#sk-container-id-10 div.sk-label label {font-family: monospace;font-weight: bold;display: inline-block;line-height: 1.2em;}#sk-container-id-10 div.sk-label-container {text-align: center;}#sk-container-id-10 div.sk-container {/* jupyter's `normalize.less` sets `[hidden] { display: none; }` but bootstrap.min.css set `[hidden] { display: none !important; }` so we also need the `!important` here to be able to override the default hidden behavior on the sphinx rendered scikit-learn.org. See: https://github.com/scikit-learn/scikit-learn/issues/21755 */display: inline-block !important;position: relative;}#sk-container-id-10 div.sk-text-repr-fallback {display: none;}</style><div id=\"sk-container-id-10\" class=\"sk-top-container\"><div class=\"sk-text-repr-fallback\"><pre>KNeighborsRegressor()</pre><b>In a Jupyter environment, please rerun this cell to show the HTML representation or trust the notebook. <br />On GitHub, the HTML representation is unable to render, please try loading this page with nbviewer.org.</b></div><div class=\"sk-container\" hidden><div class=\"sk-item\"><div class=\"sk-estimator sk-toggleable\"><input class=\"sk-toggleable__control sk-hidden--visually\" id=\"sk-estimator-id-10\" type=\"checkbox\" checked><label for=\"sk-estimator-id-10\" class=\"sk-toggleable__label sk-toggleable__label-arrow\">KNeighborsRegressor</label><div class=\"sk-toggleable__content\"><pre>KNeighborsRegressor()</pre></div></div></div></div></div>"
      ],
      "text/plain": [
       "KNeighborsRegressor()"
      ]
     },
     "execution_count": 185,
     "metadata": {},
     "output_type": "execute_result"
    }
   ],
   "source": [
    "regModel.fit(X_train, y_train)"
   ]
  },
  {
   "cell_type": "code",
   "execution_count": 186,
   "id": "a0cc02b0",
   "metadata": {},
   "outputs": [
    {
     "data": {
      "text/plain": [
       "0.9790911706685951"
      ]
     },
     "execution_count": 186,
     "metadata": {},
     "output_type": "execute_result"
    }
   ],
   "source": [
    "regModel.score(X_test, y_test)"
   ]
  },
  {
   "cell_type": "code",
   "execution_count": 187,
   "id": "703aff66",
   "metadata": {},
   "outputs": [
    {
     "data": {
      "text/plain": [
       "array([588.])"
      ]
     },
     "execution_count": 187,
     "metadata": {},
     "output_type": "execute_result"
    }
   ],
   "source": [
    "new_data = np.array([32.7]).reshape(-1,1)\n",
    "y_pre = regModel.predict(new_data)\n",
    "y_pre"
   ]
  },
  {
   "cell_type": "code",
   "execution_count": 188,
   "id": "479dbc1d",
   "metadata": {},
   "outputs": [
    {
     "data": {
      "text/plain": [
       "array([[16, 23, 33, 13, 17]], dtype=int64)"
      ]
     },
     "execution_count": 188,
     "metadata": {},
     "output_type": "execute_result"
    }
   ],
   "source": [
    "distance_, index_ = regModel.kneighbors(new_data)\n",
    "\n",
    "index_"
   ]
  },
  {
   "cell_type": "code",
   "execution_count": 189,
   "id": "6eda5b8d",
   "metadata": {},
   "outputs": [],
   "source": [
    "knei_length = X_train[index_[0]]\n",
    "knei_width = y_train[index_[0]]"
   ]
  },
  {
   "cell_type": "code",
   "execution_count": 190,
   "id": "d4615c38",
   "metadata": {},
   "outputs": [
    {
     "data": {
      "text/plain": [
       "(array([[33.],\n",
       "        [33.],\n",
       "        [32.],\n",
       "        [32.],\n",
       "        [32.]]),\n",
       " array([700., 700., 600., 340., 600.]))"
      ]
     },
     "execution_count": 190,
     "metadata": {},
     "output_type": "execute_result"
    }
   ],
   "source": [
    "knei_length, knei_width"
   ]
  },
  {
   "cell_type": "code",
   "execution_count": 191,
   "id": "2f072796",
   "metadata": {
    "scrolled": true
   },
   "outputs": [
    {
     "data": {
      "text/plain": [
       "Text(0, 0.5, 'Weight')"
      ]
     },
     "execution_count": 191,
     "metadata": {},
     "output_type": "execute_result"
    },
    {
     "data": {
      "image/png": "[encoded data removed]",
      "text/plain": [
       "<Figure size 640x480 with 1 Axes>"
      ]
     },
     "metadata": {},
     "output_type": "display_data"
    }
   ],
   "source": [
    "plt.scatter(X_train,y_train)\n",
    "plt.scatter(new_data, y_pre, marker='^', c='red')\n",
    "plt.scatter(knei_length, knei_width, marker='^', c='orange')\n",
    "plt.xlabel(\"Length\")\n",
    "plt.ylabel(\"Weight\")"
   ]
  },
  {
   "cell_type": "markdown",
   "id": "06376111",
   "metadata": {},
   "source": [
    "### X, y 값의 범위 크기 발생 => 스케일링\n"
   ]
  },
  {
   "cell_type": "code",
   "execution_count": 251,
   "id": "f0a112d4",
   "metadata": {},
   "outputs": [],
   "source": [
    "#  타겟 & 데이터 선정\n",
    "data = samDF.Length.to_numpy().reshape(-1, 1)\n",
    "target = samDF.Weight.to_numpy().reshape(-1, 1)"
   ]
  },
  {
   "cell_type": "code",
   "execution_count": 252,
   "id": "512237d5",
   "metadata": {},
   "outputs": [
    {
     "data": {
      "text/plain": [
       "(array([[25.4],\n",
       "        [26.3],\n",
       "        [26.5],\n",
       "        [29. ],\n",
       "        [29. ]]),\n",
       " array([[242.],\n",
       "        [290.],\n",
       "        [340.],\n",
       "        [363.],\n",
       "        [430.]]),\n",
       " (49, 1),\n",
       " (49, 1))"
      ]
     },
     "execution_count": 252,
     "metadata": {},
     "output_type": "execute_result"
    }
   ],
   "source": [
    "data[:5], target[:5], data.shape, target.shape"
   ]
  },
  {
   "cell_type": "code",
   "execution_count": 253,
   "id": "6fcc9d49",
   "metadata": {},
   "outputs": [],
   "source": [
    "# 수치 데이터 스케일링 --------------------------------------------------\n",
    "from sklearn.preprocessing import StandardScaler\n",
    "\n",
    "stdData= StandardScaler()\n",
    "stdData.fit(data)\n",
    "std_data=stdData.transform(data)"
   ]
  },
  {
   "cell_type": "code",
   "execution_count": 254,
   "id": "a9c8e8fb",
   "metadata": {},
   "outputs": [],
   "source": [
    "data = std_data"
   ]
  },
  {
   "cell_type": "code",
   "execution_count": 255,
   "id": "dd4a109b",
   "metadata": {},
   "outputs": [],
   "source": [
    "stdTarget= StandardScaler()\n",
    "stdTarget.fit(target)\n",
    "std_target=stdTarget.transform(target)"
   ]
  },
  {
   "cell_type": "code",
   "execution_count": 256,
   "id": "922f7227",
   "metadata": {},
   "outputs": [],
   "source": [
    "target = std_target"
   ]
  },
  {
   "cell_type": "code",
   "execution_count": 257,
   "id": "0356c9d6",
   "metadata": {},
   "outputs": [
    {
     "data": {
      "text/plain": [
       "(array([[-0.16326134],\n",
       "        [-0.07448421],\n",
       "        [-0.05475596],\n",
       "        [ 0.19184717],\n",
       "        [ 0.19184717]]),\n",
       " array([[-0.62350364],\n",
       "        [-0.47571019],\n",
       "        [-0.32175867],\n",
       "        [-0.25094097],\n",
       "        [-0.04464594]]),\n",
       " 1.3755421942005543,\n",
       " 1.7104013561427538)"
      ]
     },
     "execution_count": 257,
     "metadata": {},
     "output_type": "execute_result"
    }
   ],
   "source": [
    "data[:5], target[:5], data.max(), target.max()"
   ]
  },
  {
   "cell_type": "code",
   "execution_count": 258,
   "id": "d7ad0110",
   "metadata": {},
   "outputs": [],
   "source": [
    "# 학습용 & 테스트용 데이터 분리\n",
    "X_train, X_test, y_train, y_test = train_test_split(data, target, random_state=10)"
   ]
  },
  {
   "cell_type": "code",
   "execution_count": 259,
   "id": "32f51ffa",
   "metadata": {},
   "outputs": [
    {
     "data": {
      "text/plain": [
       "(1.3755421942005543, 1.1289390641119141, 1.7104013561427538)"
      ]
     },
     "execution_count": 259,
     "metadata": {},
     "output_type": "execute_result"
    }
   ],
   "source": [
    "X_train.max(), X_test.max(), y_train.max()"
   ]
  },
  {
   "cell_type": "code",
   "execution_count": 260,
   "id": "cb6e90b7",
   "metadata": {},
   "outputs": [
    {
     "data": {
      "text/html": [
       "<style>#sk-container-id-14 {color: black;background-color: white;}#sk-container-id-14 pre{padding: 0;}#sk-container-id-14 div.sk-toggleable {background-color: white;}#sk-container-id-14 label.sk-toggleable__label {cursor: pointer;display: block;width: 100%;margin-bottom: 0;padding: 0.3em;box-sizing: border-box;text-align: center;}#sk-container-id-14 label.sk-toggleable__label-arrow:before {content: \"▸\";float: left;margin-right: 0.25em;color: #696969;}#sk-container-id-14 label.sk-toggleable__label-arrow:hover:before {color: black;}#sk-container-id-14 div.sk-estimator:hover label.sk-toggleable__label-arrow:before {color: black;}#sk-container-id-14 div.sk-toggleable__content {max-height: 0;max-width: 0;overflow: hidden;text-align: left;background-color: #f0f8ff;}#sk-container-id-14 div.sk-toggleable__content pre {margin: 0.2em;color: black;border-radius: 0.25em;background-color: #f0f8ff;}#sk-container-id-14 input.sk-toggleable__control:checked~div.sk-toggleable__content {max-height: 200px;max-width: 100%;overflow: auto;}#sk-container-id-14 input.sk-toggleable__control:checked~label.sk-toggleable__label-arrow:before {content: \"▾\";}#sk-container-id-14 div.sk-estimator input.sk-toggleable__control:checked~label.sk-toggleable__label {background-color: #d4ebff;}#sk-container-id-14 div.sk-label input.sk-toggleable__control:checked~label.sk-toggleable__label {background-color: #d4ebff;}#sk-container-id-14 input.sk-hidden--visually {border: 0;clip: rect(1px 1px 1px 1px);clip: rect(1px, 1px, 1px, 1px);height: 1px;margin: -1px;overflow: hidden;padding: 0;position: absolute;width: 1px;}#sk-container-id-14 div.sk-estimator {font-family: monospace;background-color: #f0f8ff;border: 1px dotted black;border-radius: 0.25em;box-sizing: border-box;margin-bottom: 0.5em;}#sk-container-id-14 div.sk-estimator:hover {background-color: #d4ebff;}#sk-container-id-14 div.sk-parallel-item::after {content: \"\";width: 100%;border-bottom: 1px solid gray;flex-grow: 1;}#sk-container-id-14 div.sk-label:hover label.sk-toggleable__label {background-color: #d4ebff;}#sk-container-id-14 div.sk-serial::before {content: \"\";position: absolute;border-left: 1px solid gray;box-sizing: border-box;top: 0;bottom: 0;left: 50%;z-index: 0;}#sk-container-id-14 div.sk-serial {display: flex;flex-direction: column;align-items: center;background-color: white;padding-right: 0.2em;padding-left: 0.2em;position: relative;}#sk-container-id-14 div.sk-item {position: relative;z-index: 1;}#sk-container-id-14 div.sk-parallel {display: flex;align-items: stretch;justify-content: center;background-color: white;position: relative;}#sk-container-id-14 div.sk-item::before, #sk-container-id-14 div.sk-parallel-item::before {content: \"\";position: absolute;border-left: 1px solid gray;box-sizing: border-box;top: 0;bottom: 0;left: 50%;z-index: -1;}#sk-container-id-14 div.sk-parallel-item {display: flex;flex-direction: column;z-index: 1;position: relative;background-color: white;}#sk-container-id-14 div.sk-parallel-item:first-child::after {align-self: flex-end;width: 50%;}#sk-container-id-14 div.sk-parallel-item:last-child::after {align-self: flex-start;width: 50%;}#sk-container-id-14 div.sk-parallel-item:only-child::after {width: 0;}#sk-container-id-14 div.sk-dashed-wrapped {border: 1px dashed gray;margin: 0 0.4em 0.5em 0.4em;box-sizing: border-box;padding-bottom: 0.4em;background-color: white;}#sk-container-id-14 div.sk-label label {font-family: monospace;font-weight: bold;display: inline-block;line-height: 1.2em;}#sk-container-id-14 div.sk-label-container {text-align: center;}#sk-container-id-14 div.sk-container {/* jupyter's `normalize.less` sets `[hidden] { display: none; }` but bootstrap.min.css set `[hidden] { display: none !important; }` so we also need the `!important` here to be able to override the default hidden behavior on the sphinx rendered scikit-learn.org. See: https://github.com/scikit-learn/scikit-learn/issues/21755 */display: inline-block !important;position: relative;}#sk-container-id-14 div.sk-text-repr-fallback {display: none;}</style><div id=\"sk-container-id-14\" class=\"sk-top-container\"><div class=\"sk-text-repr-fallback\"><pre>KNeighborsRegressor()</pre><b>In a Jupyter environment, please rerun this cell to show the HTML representation or trust the notebook. <br />On GitHub, the HTML representation is unable to render, please try loading this page with nbviewer.org.</b></div><div class=\"sk-container\" hidden><div class=\"sk-item\"><div class=\"sk-estimator sk-toggleable\"><input class=\"sk-toggleable__control sk-hidden--visually\" id=\"sk-estimator-id-14\" type=\"checkbox\" checked><label for=\"sk-estimator-id-14\" class=\"sk-toggleable__label sk-toggleable__label-arrow\">KNeighborsRegressor</label><div class=\"sk-toggleable__content\"><pre>KNeighborsRegressor()</pre></div></div></div></div></div>"
      ],
      "text/plain": [
       "KNeighborsRegressor()"
      ]
     },
     "execution_count": 260,
     "metadata": {},
     "output_type": "execute_result"
    }
   ],
   "source": [
    "regModel2=KNeighborsRegressor()\n",
    "regModel2.fit(X_train, y_train)"
   ]
  },
  {
   "cell_type": "code",
   "execution_count": 261,
   "id": "90e40a23",
   "metadata": {},
   "outputs": [
    {
     "data": {
      "text/plain": [
       "0.9773421802365502"
      ]
     },
     "execution_count": 261,
     "metadata": {},
     "output_type": "execute_result"
    }
   ],
   "source": [
    "regModel2.score(X_test, y_test)"
   ]
  },
  {
   "cell_type": "markdown",
   "id": "58059c79",
   "metadata": {},
   "source": [
    "#### 스케일링된 예측데이터"
   ]
  },
  {
   "cell_type": "code",
   "execution_count": 265,
   "id": "a8e16e74",
   "metadata": {},
   "outputs": [
    {
     "data": {
      "text/plain": [
       "(array([[0.5568198]]), (1, 1))"
      ]
     },
     "execution_count": 265,
     "metadata": {},
     "output_type": "execute_result"
    }
   ],
   "source": [
    "new_data2 = stdData.transform(np.array([32.7]).reshape(-1,1))\n",
    "new_data2, new_data2.shape"
   ]
  },
  {
   "cell_type": "code",
   "execution_count": 267,
   "id": "7d7556d6",
   "metadata": {},
   "outputs": [
    {
     "data": {
      "text/plain": [
       "(array([[0.5568198]]), array([[0.44184085]]))"
      ]
     },
     "execution_count": 267,
     "metadata": {},
     "output_type": "execute_result"
    }
   ],
   "source": [
    "y_pre = regModel2.predict(new_data2)\n",
    "new_data2, y_pre"
   ]
  },
  {
   "cell_type": "code",
   "execution_count": 272,
   "id": "4feaea8e",
   "metadata": {},
   "outputs": [
    {
     "data": {
      "text/plain": [
       "array([[16, 23, 33, 13, 17]], dtype=int64)"
      ]
     },
     "execution_count": 272,
     "metadata": {},
     "output_type": "execute_result"
    }
   ],
   "source": [
    "distance_, index_ = regModel2.kneighbors(new_data2)\n",
    "\n",
    "index_"
   ]
  },
  {
   "cell_type": "code",
   "execution_count": 273,
   "id": "4994c905",
   "metadata": {},
   "outputs": [],
   "source": [
    "knei_length = X_train[index_[0]]\n",
    "knei_width = y_train[index_[0]]"
   ]
  },
  {
   "cell_type": "code",
   "execution_count": 270,
   "id": "d6954aad",
   "metadata": {},
   "outputs": [
    {
     "data": {
      "text/plain": [
       "array([[0.58641218],\n",
       "       [0.58641218],\n",
       "       [0.48777093],\n",
       "       [0.48777093],\n",
       "       [0.48777093]])"
      ]
     },
     "execution_count": 270,
     "metadata": {},
     "output_type": "execute_result"
    }
   ],
   "source": [
    "knei_length"
   ]
  },
  {
   "cell_type": "markdown",
   "id": "9a8ad61c",
   "metadata": {},
   "source": [
    "####  예측결과 시각화"
   ]
  },
  {
   "cell_type": "code",
   "execution_count": 271,
   "id": "85f9844f",
   "metadata": {},
   "outputs": [
    {
     "data": {
      "text/plain": [
       "Text(0, 0.5, 'Weight')"
      ]
     },
     "execution_count": 271,
     "metadata": {},
     "output_type": "execute_result"
    },
    {
     "data": {
      "image/png": "[encoded data removed]",
      "text/plain": [
       "<Figure size 640x480 with 1 Axes>"
      ]
     },
     "metadata": {},
     "output_type": "display_data"
    }
   ],
   "source": [
    "plt.scatter(X_train,y_train)\n",
    "plt.scatter(new_data2, y_pre, marker='^', c='red')\n",
    "plt.scatter(knei_length, knei_width, marker='^', c='orange')\n",
    "plt.xlabel(\"Length\")\n",
    "plt.ylabel(\"Weight\")"
   ]
  },
  {
   "cell_type": "markdown",
   "id": "f77af202",
   "metadata": {},
   "source": [
    "####  아주 큰 데이터 입력 후 예측"
   ]
  },
  {
   "cell_type": "code",
   "execution_count": 231,
   "id": "a0bc3853",
   "metadata": {},
   "outputs": [
    {
     "data": {
      "text/plain": [
       "array([[1.59031917]])"
      ]
     },
     "execution_count": 231,
     "metadata": {},
     "output_type": "execute_result"
    }
   ],
   "source": [
    "big_data1 = stdData.transform(np.array([32.7]).reshape(-1,1))\n",
    "\n",
    "y_pre = regModel2.predict(big_data1)\n",
    "y_pre"
   ]
  },
  {
   "cell_type": "code",
   "execution_count": null,
   "id": "cee0eee9",
   "metadata": {},
   "outputs": [],
   "source": []
  }
 ],
 "metadata": {
  "kernelspec": {
   "display_name": "Python 3 (ipykernel)",
   "language": "python",
   "name": "python3"
  },
  "language_info": {
   "codemirror_mode": {
    "name": "ipython",
    "version": 3
   },
   "file_extension": ".py",
   "mimetype": "text/x-python",
   "name": "python",
   "nbconvert_exporter": "python",
   "pygments_lexer": "ipython3",
   "version": "3.9.13"
  }
 },
 "nbformat": 4,
 "nbformat_minor": 5
}
