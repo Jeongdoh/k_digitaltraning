{
 "cells": [
  {
   "attachments": {},
   "cell_type": "markdown",
   "metadata": {},
   "source": [
    "### 1. 회귀 기반 모델링 – 회귀 (예측)\n",
    "\n",
    "auto mpg 데이터셋으로 연비예측.\n",
    "\n",
    "1. LinearRegression\n",
    "2. PolynominalRegression\n",
    "3. Ridge\n",
    "4. Lasso\n",
    "각 모델들의 성능을 비교\n",
    "\n",
    "\n",
    "### 2. 회귀 기반 모델링 – 분류 타겟 변경 필요\n",
    "LogisticRegression\n",
    "\n",
    "\n",
    "\n",
    "### *columns 이름\n",
    "mpg: 연비 (종속 변수)\n",
    "\n",
    "cylinders: 실린더 수\n",
    "\n",
    "displacement: 배기량\n",
    "\n",
    "horsepower: 출력\n",
    "\n",
    "weight: 차량 무게\n",
    "\n",
    "acceleration: 가속도\n",
    "\n",
    "model year: 출시 년도\n",
    "\n",
    "origin: 제조국 (1: 미국, 2: 유럽, 3: 일본)\n",
    "\n",
    "car name: 차량 이름"
   ]
  },
  {
   "cell_type": "code",
   "execution_count": 2,
   "metadata": {},
   "outputs": [],
   "source": [
    "import pandas as pd\n",
    "import numpy as np\n",
    "from sklearn.model_selection import train_test_split\n",
    "from sklearn.preprocessing import OneHotEncoder, StandardScaler\n",
    "from sklearn.linear_model import LinearRegression, Ridge, Lasso\n",
    "from sklearn.preprocessing import PolynomialFeatures\n",
    "from sklearn.metrics import r2_score, mean_squared_error"
   ]
  },
  {
   "cell_type": "code",
   "execution_count": 3,
   "metadata": {},
   "outputs": [],
   "source": [
    "\n",
    "# 데이터셋 불러오기\n",
    "df = pd.read_csv('./data/auto-mpg.csv')"
   ]
  },
  {
   "cell_type": "code",
   "execution_count": 4,
   "metadata": {},
   "outputs": [
    {
     "data": {
      "text/html": [
       "<div>\n",
       "<style scoped>\n",
       "    .dataframe tbody tr th:only-of-type {\n",
       "        vertical-align: middle;\n",
       "    }\n",
       "\n",
       "    .dataframe tbody tr th {\n",
       "        vertical-align: top;\n",
       "    }\n",
       "\n",
       "    .dataframe thead th {\n",
       "        text-align: right;\n",
       "    }\n",
       "</style>\n",
       "<table border=\"1\" class=\"dataframe\">\n",
       "  <thead>\n",
       "    <tr style=\"text-align: right;\">\n",
       "      <th></th>\n",
       "      <th>mpg</th>\n",
       "      <th>cylinders</th>\n",
       "      <th>displacement</th>\n",
       "      <th>horsepower</th>\n",
       "      <th>weight</th>\n",
       "      <th>acceleration</th>\n",
       "      <th>model year</th>\n",
       "      <th>origin</th>\n",
       "      <th>car name</th>\n",
       "    </tr>\n",
       "  </thead>\n",
       "  <tbody>\n",
       "    <tr>\n",
       "      <th>0</th>\n",
       "      <td>18.0</td>\n",
       "      <td>8</td>\n",
       "      <td>307.0</td>\n",
       "      <td>130</td>\n",
       "      <td>3504</td>\n",
       "      <td>12.0</td>\n",
       "      <td>70</td>\n",
       "      <td>1</td>\n",
       "      <td>chevrolet chevelle malibu</td>\n",
       "    </tr>\n",
       "    <tr>\n",
       "      <th>1</th>\n",
       "      <td>15.0</td>\n",
       "      <td>8</td>\n",
       "      <td>350.0</td>\n",
       "      <td>165</td>\n",
       "      <td>3693</td>\n",
       "      <td>11.5</td>\n",
       "      <td>70</td>\n",
       "      <td>1</td>\n",
       "      <td>buick skylark 320</td>\n",
       "    </tr>\n",
       "    <tr>\n",
       "      <th>2</th>\n",
       "      <td>18.0</td>\n",
       "      <td>8</td>\n",
       "      <td>318.0</td>\n",
       "      <td>150</td>\n",
       "      <td>3436</td>\n",
       "      <td>11.0</td>\n",
       "      <td>70</td>\n",
       "      <td>1</td>\n",
       "      <td>plymouth satellite</td>\n",
       "    </tr>\n",
       "    <tr>\n",
       "      <th>3</th>\n",
       "      <td>16.0</td>\n",
       "      <td>8</td>\n",
       "      <td>304.0</td>\n",
       "      <td>150</td>\n",
       "      <td>3433</td>\n",
       "      <td>12.0</td>\n",
       "      <td>70</td>\n",
       "      <td>1</td>\n",
       "      <td>amc rebel sst</td>\n",
       "    </tr>\n",
       "    <tr>\n",
       "      <th>4</th>\n",
       "      <td>17.0</td>\n",
       "      <td>8</td>\n",
       "      <td>302.0</td>\n",
       "      <td>140</td>\n",
       "      <td>3449</td>\n",
       "      <td>10.5</td>\n",
       "      <td>70</td>\n",
       "      <td>1</td>\n",
       "      <td>ford torino</td>\n",
       "    </tr>\n",
       "    <tr>\n",
       "      <th>...</th>\n",
       "      <td>...</td>\n",
       "      <td>...</td>\n",
       "      <td>...</td>\n",
       "      <td>...</td>\n",
       "      <td>...</td>\n",
       "      <td>...</td>\n",
       "      <td>...</td>\n",
       "      <td>...</td>\n",
       "      <td>...</td>\n",
       "    </tr>\n",
       "    <tr>\n",
       "      <th>393</th>\n",
       "      <td>27.0</td>\n",
       "      <td>4</td>\n",
       "      <td>140.0</td>\n",
       "      <td>86</td>\n",
       "      <td>2790</td>\n",
       "      <td>15.6</td>\n",
       "      <td>82</td>\n",
       "      <td>1</td>\n",
       "      <td>ford mustang gl</td>\n",
       "    </tr>\n",
       "    <tr>\n",
       "      <th>394</th>\n",
       "      <td>44.0</td>\n",
       "      <td>4</td>\n",
       "      <td>97.0</td>\n",
       "      <td>52</td>\n",
       "      <td>2130</td>\n",
       "      <td>24.6</td>\n",
       "      <td>82</td>\n",
       "      <td>2</td>\n",
       "      <td>vw pickup</td>\n",
       "    </tr>\n",
       "    <tr>\n",
       "      <th>395</th>\n",
       "      <td>32.0</td>\n",
       "      <td>4</td>\n",
       "      <td>135.0</td>\n",
       "      <td>84</td>\n",
       "      <td>2295</td>\n",
       "      <td>11.6</td>\n",
       "      <td>82</td>\n",
       "      <td>1</td>\n",
       "      <td>dodge rampage</td>\n",
       "    </tr>\n",
       "    <tr>\n",
       "      <th>396</th>\n",
       "      <td>28.0</td>\n",
       "      <td>4</td>\n",
       "      <td>120.0</td>\n",
       "      <td>79</td>\n",
       "      <td>2625</td>\n",
       "      <td>18.6</td>\n",
       "      <td>82</td>\n",
       "      <td>1</td>\n",
       "      <td>ford ranger</td>\n",
       "    </tr>\n",
       "    <tr>\n",
       "      <th>397</th>\n",
       "      <td>31.0</td>\n",
       "      <td>4</td>\n",
       "      <td>119.0</td>\n",
       "      <td>82</td>\n",
       "      <td>2720</td>\n",
       "      <td>19.4</td>\n",
       "      <td>82</td>\n",
       "      <td>1</td>\n",
       "      <td>chevy s-10</td>\n",
       "    </tr>\n",
       "  </tbody>\n",
       "</table>\n",
       "<p>398 rows × 9 columns</p>\n",
       "</div>"
      ],
      "text/plain": [
       "      mpg  cylinders  displacement horsepower  weight  acceleration  \\\n",
       "0    18.0          8         307.0        130    3504          12.0   \n",
       "1    15.0          8         350.0        165    3693          11.5   \n",
       "2    18.0          8         318.0        150    3436          11.0   \n",
       "3    16.0          8         304.0        150    3433          12.0   \n",
       "4    17.0          8         302.0        140    3449          10.5   \n",
       "..    ...        ...           ...        ...     ...           ...   \n",
       "393  27.0          4         140.0         86    2790          15.6   \n",
       "394  44.0          4          97.0         52    2130          24.6   \n",
       "395  32.0          4         135.0         84    2295          11.6   \n",
       "396  28.0          4         120.0         79    2625          18.6   \n",
       "397  31.0          4         119.0         82    2720          19.4   \n",
       "\n",
       "     model year  origin                   car name  \n",
       "0            70       1  chevrolet chevelle malibu  \n",
       "1            70       1          buick skylark 320  \n",
       "2            70       1         plymouth satellite  \n",
       "3            70       1              amc rebel sst  \n",
       "4            70       1                ford torino  \n",
       "..          ...     ...                        ...  \n",
       "393          82       1            ford mustang gl  \n",
       "394          82       2                  vw pickup  \n",
       "395          82       1              dodge rampage  \n",
       "396          82       1                ford ranger  \n",
       "397          82       1                 chevy s-10  \n",
       "\n",
       "[398 rows x 9 columns]"
      ]
     },
     "execution_count": 4,
     "metadata": {},
     "output_type": "execute_result"
    }
   ],
   "source": [
    "# 데이터 확인\n",
    "df"
   ]
  },
  {
   "cell_type": "code",
   "execution_count": 5,
   "metadata": {},
   "outputs": [
    {
     "name": "stdout",
     "output_type": "stream",
     "text": [
      "<class 'pandas.core.frame.DataFrame'>\n",
      "RangeIndex: 398 entries, 0 to 397\n",
      "Data columns (total 9 columns):\n",
      " #   Column        Non-Null Count  Dtype  \n",
      "---  ------        --------------  -----  \n",
      " 0   mpg           398 non-null    float64\n",
      " 1   cylinders     398 non-null    int64  \n",
      " 2   displacement  398 non-null    float64\n",
      " 3   horsepower    398 non-null    object \n",
      " 4   weight        398 non-null    int64  \n",
      " 5   acceleration  398 non-null    float64\n",
      " 6   model year    398 non-null    int64  \n",
      " 7   origin        398 non-null    int64  \n",
      " 8   car name      398 non-null    object \n",
      "dtypes: float64(3), int64(4), object(2)\n",
      "memory usage: 28.1+ KB\n"
     ]
    }
   ],
   "source": [
    "df.info()"
   ]
  },
  {
   "cell_type": "code",
   "execution_count": 6,
   "metadata": {},
   "outputs": [
    {
     "data": {
      "text/plain": [
       "mpg             0\n",
       "cylinders       0\n",
       "displacement    0\n",
       "horsepower      0\n",
       "weight          0\n",
       "acceleration    0\n",
       "model year      0\n",
       "origin          0\n",
       "car name        0\n",
       "dtype: int64"
      ]
     },
     "execution_count": 6,
     "metadata": {},
     "output_type": "execute_result"
    }
   ],
   "source": [
    "#결측치 확인\n",
    "df.isnull().sum()"
   ]
  },
  {
   "cell_type": "code",
   "execution_count": 7,
   "metadata": {},
   "outputs": [
    {
     "data": {
      "text/plain": [
       "array(['130', '165', '150', '140', '198', '220', '215', '225', '190',\n",
       "       '170', '160', '95', '97', '85', '88', '46', '87', '90', '113',\n",
       "       '200', '210', '193', '?', '100', '105', '175', '153', '180', '110',\n",
       "       '72', '86', '70', '76', '65', '69', '60', '80', '54', '208', '155',\n",
       "       '112', '92', '145', '137', '158', '167', '94', '107', '230', '49',\n",
       "       '75', '91', '122', '67', '83', '78', '52', '61', '93', '148',\n",
       "       '129', '96', '71', '98', '115', '53', '81', '79', '120', '152',\n",
       "       '102', '108', '68', '58', '149', '89', '63', '48', '66', '139',\n",
       "       '103', '125', '133', '138', '135', '142', '77', '62', '132', '84',\n",
       "       '64', '74', '116', '82'], dtype=object)"
      ]
     },
     "execution_count": 7,
     "metadata": {},
     "output_type": "execute_result"
    }
   ],
   "source": [
    "df[\"horsepower\"].unique()"
   ]
  },
  {
   "cell_type": "code",
   "execution_count": 8,
   "metadata": {},
   "outputs": [],
   "source": [
    "# '?' 문자열을 결측치로 대체하기\n",
    "df.replace('?', np.nan, inplace=True)"
   ]
  },
  {
   "cell_type": "code",
   "execution_count": 9,
   "metadata": {},
   "outputs": [],
   "source": [
    "# 결측치가 있는 행 제거하기\n",
    "df.dropna(inplace=True)"
   ]
  },
  {
   "cell_type": "code",
   "execution_count": 10,
   "metadata": {},
   "outputs": [],
   "source": [
    "# 정규화\n",
    "from sklearn.preprocessing import StandardScaler\n",
    "\n",
    "scaler = StandardScaler()\n",
    "scaled_data = scaler.fit_transform(df[['cylinders', 'displacement', 'horsepower', 'weight', 'acceleration', 'model year']])"
   ]
  },
  {
   "cell_type": "code",
   "execution_count": 11,
   "metadata": {},
   "outputs": [],
   "source": [
    "from sklearn.model_selection import train_test_split\n",
    "\n",
    "# 데이터셋 분할\n",
    "X = scaled_data\n",
    "y = df['mpg']\n",
    "\n",
    "X_train, X_test, y_train, y_test = train_test_split(X, y, test_size=0.2, random_state=42)"
   ]
  },
  {
   "cell_type": "code",
   "execution_count": 12,
   "metadata": {},
   "outputs": [
    {
     "data": {
      "text/plain": [
       "array([[ 0.30996673,  0.29267898,  0.14386888,  0.75728144,  1.14638126,\n",
       "         0.54916798],\n",
       "       [-0.86401356, -0.52063686, -0.32436858, -0.47810369, -0.23275743,\n",
       "         0.00554715],\n",
       "       [ 0.30996673, -0.22401579, -0.19430262,  0.00756298, -0.37792992,\n",
       "        -0.26626326],\n",
       "       ...,\n",
       "       [-0.86401356, -0.41538422, -0.50646093, -0.14450256,  0.7471569 ,\n",
       "         0.54916798],\n",
       "       [-0.86401356, -0.92251057, -1.02672478, -0.7044338 ,  1.87224372,\n",
       "         1.36459922],\n",
       "       [ 1.48394702,  1.96715277,  1.18439658,  2.38049264, -0.55939554,\n",
       "        -0.80988409]])"
      ]
     },
     "execution_count": 12,
     "metadata": {},
     "output_type": "execute_result"
    }
   ],
   "source": [
    "X_train"
   ]
  },
  {
   "cell_type": "code",
   "execution_count": 13,
   "metadata": {},
   "outputs": [
    {
     "data": {
      "text/plain": [
       "array([[-8.64013555e-01, -9.41647417e-01, -9.22672014e-01,\n",
       "        -9.29585095e-01,  8.92329393e-01, -1.08169451e+00],\n",
       "       [-8.64013555e-01, -7.02436875e-01,  2.73934844e-01,\n",
       "        -2.15230712e-01,  5.75875579e-02,  5.49167980e-01],\n",
       "       [-8.64013555e-01, -9.89489525e-01, -1.15679075e+00,\n",
       "        -1.38813931e+00,  3.11639421e-01,  5.49167980e-01],\n",
       "       [-8.64013555e-01, -9.89489525e-01, -8.96658822e-01,\n",
       "        -1.20542491e+00,  1.79965748e+00, -1.35350492e+00],\n",
       "       [-8.64013555e-01, -5.20636863e-01, -4.80447740e-01,\n",
       "        -2.21124726e-01,  2.12944346e-02,  1.63640964e+00],\n",
       "       [-8.64013555e-01, -9.32078995e-01, -7.66592859e-01,\n",
       "        -9.69664384e-01,  3.11639421e-01,  5.54715131e-03],\n",
       "       [ 1.48394702e+00,  1.96715277e+00,  1.70466044e+00,\n",
       "         2.08461318e+00, -1.28525800e+00, -1.35350492e+00],\n",
       "       [-8.64013555e-01, -9.32078995e-01, -7.66592859e-01,\n",
       "        -8.39996096e-01,  9.64915640e-01,  2.77357566e-01],\n",
       "       [ 3.09966735e-01,  2.92678980e-01, -2.46329007e-01,\n",
       "         3.37627712e-01,  1.66466928e-01, -2.66263263e-01],\n",
       "       [-8.64013555e-01, -1.20956322e+00, -1.44293587e+00,\n",
       "        -1.30915954e+00,  1.43672624e+00, -8.09884091e-01],\n",
       "       [ 1.48394702e+00,  1.87146856e+00,  2.22492429e+00,\n",
       "         1.02840604e+00, -2.55551732e+00, -1.62531533e+00],\n",
       "       [ 3.09966735e-01, -3.67542116e-01,  9.18424962e-02,\n",
       "        -5.60923600e-02, -1.49986887e-02,  5.54715131e-03],\n",
       "       [ 1.48394702e+00,  1.48873169e+00,  1.31446255e+00,\n",
       "         1.62959537e+00, -2.32757428e-01,  8.20978394e-01],\n",
       "       [-8.64013555e-01, -9.32078995e-01, -7.66592859e-01,\n",
       "        -9.50803542e-01,  1.66466928e-01, -2.66263263e-01],\n",
       "       [ 3.09966735e-01, -3.00563164e-01,  7.42172311e-01,\n",
       "         5.09732893e-01,  9.38806811e-02,  5.49167980e-01],\n",
       "       [-8.64013555e-01, -7.88552670e-01, -4.28421355e-01,\n",
       "        -4.39203209e-01,  1.47301937e+00,  1.63640964e+00],\n",
       "       [ 3.09966735e-01,  3.43315946e-02, -2.46329007e-01,\n",
       "         1.46661689e-01,  3.47932544e-01, -5.38073677e-01],\n",
       "       [-8.64013555e-01, -8.26826357e-01, -7.66592859e-01,\n",
       "        -7.39797875e-01,  4.56811914e-01,  1.36459922e+00],\n",
       "       [-8.64013555e-01, -7.02436875e-01, -6.36526896e-01,\n",
       "        -3.62581039e-01, -1.96464305e-01,  8.20978394e-01],\n",
       "       [-8.64013555e-01, -6.92868453e-01, -4.28421355e-01,\n",
       "        -5.62977483e-01, -1.60171182e-01,  1.09278881e+00],\n",
       "       [ 3.09966735e-01,  3.43315946e-02, -2.46329007e-01,\n",
       "        -1.70436213e-01, -1.49986887e-02, -1.62531533e+00],\n",
       "       [-8.64013555e-01, -9.32078995e-01, -1.36489629e+00,\n",
       "        -9.99134449e-01,  3.28767553e+00,  1.63640964e+00],\n",
       "       [-8.64013555e-01, -9.89489525e-01, -9.48685207e-01,\n",
       "        -1.17006083e+00,  1.66466928e-01,  1.36459922e+00],\n",
       "       [ 1.48394702e+00,  1.07728956e+00,  6.64132733e-01,\n",
       "         6.20540339e-01, -1.28525800e+00, -1.62531533e+00],\n",
       "       [-8.64013555e-01, -1.10431059e+00, -9.74698399e-01,\n",
       "        -1.19599449e+00, -1.49986887e-02, -5.38073677e-01],\n",
       "       [-8.64013555e-01, -9.22510573e-01, -3.76394970e-01,\n",
       "        -8.39996096e-01, -1.49986887e-02, -8.09884091e-01],\n",
       "       [-8.64013555e-01, -7.12005296e-01, -4.54434548e-01,\n",
       "         1.66896798e-03,  1.43672624e+00, -1.08169451e+00],\n",
       "       [ 3.09966735e-01,  2.92678980e-01,  1.38029185e-02,\n",
       "         5.43918169e-01, -1.49986887e-02, -1.35350492e+00],\n",
       "       [-8.64013555e-01, -9.32078995e-01, -1.52097544e+00,\n",
       "        -1.21131892e+00,  1.98112309e+00, -8.09884091e-01],\n",
       "       [-8.64013555e-01, -7.02436875e-01, -7.40579666e-01,\n",
       "        -5.50010654e-01,  8.92329393e-01, -1.08169451e+00],\n",
       "       [ 1.48394702e+00,  1.48873169e+00,  1.05433062e+00,\n",
       "         1.72389958e+00, -5.59395538e-01, -2.66263263e-01],\n",
       "       [ 3.09966735e-01,  3.59657932e-01, -3.76394970e-01,\n",
       "         2.73972371e-01,  6.01984407e-01,  5.49167980e-01],\n",
       "       [ 1.48394702e+00,  6.94552691e-01,  5.34066770e-01,\n",
       "         7.39599403e-01, -1.96464305e-01,  8.20978394e-01],\n",
       "       [-8.64013555e-01, -7.12005296e-01, -7.92606051e-01,\n",
       "        -4.03839130e-01,  1.00120876e+00,  1.36459922e+00],\n",
       "       [ 1.48394702e+00,  1.96715277e+00,  1.18439658e+00,\n",
       "         1.75219085e+00, -1.28525800e+00, -8.09884091e-01],\n",
       "       [-8.64013555e-01, -9.89489525e-01, -9.74698399e-01,\n",
       "        -1.15827280e+00,  2.39053174e-01,  1.63640964e+00],\n",
       "       [ 1.48394702e+00,  1.02944745e+00,  9.24264659e-01,\n",
       "         1.95730250e+00,  1.66466928e-01, -5.38073677e-01],\n",
       "       [-8.64013555e-01, -9.27294784e-01, -6.36526896e-01,\n",
       "        -1.00384966e+00,  5.29398160e-01, -1.08169451e+00],\n",
       "       [ 1.48394702e+00,  1.02944745e+00,  9.24264659e-01,\n",
       "         1.55179440e+00,  1.66466928e-01, -1.08169451e+00],\n",
       "       [ 1.48394702e+00,  1.58441591e+00,  2.87525410e+00,\n",
       "         1.93019004e+00, -5.59395538e-01, -1.62531533e+00],\n",
       "       [ 1.48394702e+00,  1.07728956e+00,  6.64132733e-01,\n",
       "         1.32074909e+00, -5.59395538e-01, -1.08169451e+00],\n",
       "       [-8.64013555e-01, -9.99057947e-01, -7.66592859e-01,\n",
       "        -1.02506811e+00, -1.49986887e-02, -5.38073677e-01],\n",
       "       [-8.64013555e-01, -8.55531622e-01, -7.92606051e-01,\n",
       "        -1.17595484e+00, -8.75849353e-02,  1.63640964e+00],\n",
       "       [-8.64013555e-01, -9.32078995e-01, -6.88553281e-01,\n",
       "        -7.98738005e-01, -3.77929921e-01, -5.38073677e-01],\n",
       "       [ 1.48394702e+00,  1.49830011e+00,  1.13237020e+00,\n",
       "         1.97969975e+00, -7.40861154e-01, -2.66263263e-01],\n",
       "       [ 1.48394702e+00,  2.34988964e+00,  2.87525410e+00,\n",
       "         2.07164635e+00, -1.64818924e+00, -8.09884091e-01],\n",
       "       [ 3.09966735e-01,  5.31889522e-01, -1.16263044e-01,\n",
       "         3.58846159e-01, -1.96464305e-01, -1.35350492e+00],\n",
       "       [-8.64013555e-01, -9.89489525e-01, -9.22672014e-01,\n",
       "        -9.99134449e-01, -3.05343675e-01,  8.20978394e-01],\n",
       "       [-8.64013555e-01, -5.20636863e-01, -8.44632436e-01,\n",
       "        -6.79678941e-01,  1.43672624e+00, -8.09884091e-01],\n",
       "       [-8.64013555e-01, -9.99057947e-01, -8.96658822e-01,\n",
       "        -1.22664335e+00, -4.86809291e-01,  5.54715131e-03],\n",
       "       [ 1.48394702e+00,  1.49830011e+00,  1.26243616e+00,\n",
       "         1.38676204e+00, -7.40861154e-01, -1.35350492e+00],\n",
       "       [-8.64013555e-01, -7.78984248e-01, -2.46329007e-01,\n",
       "        -8.24671663e-01, -1.49986887e-02, -1.08169451e+00],\n",
       "       [-8.64013555e-01, -5.20636863e-01, -3.76394970e-01,\n",
       "        -8.41174899e-01, -1.49986887e-02, -1.35350492e+00],\n",
       "       [-8.64013555e-01, -7.12005296e-01, -4.28421355e-01,\n",
       "        -9.63770371e-01, -3.77929921e-01,  1.63640964e+00],\n",
       "       [ 3.09966735e-01,  3.59657932e-01,  1.95895267e-01,\n",
       "        -1.68078608e-01, -3.05343675e-01,  1.63640964e+00],\n",
       "       [ 3.09966735e-01,  6.08436895e-01,  1.43868881e-01,\n",
       "         7.71427073e-01,  8.92329393e-01, -5.38073677e-01],\n",
       "       [ 1.48394702e+00,  6.46710582e-01,  1.43868881e-01,\n",
       "         2.86939200e-01, -7.40861154e-01, -2.66263263e-01],\n",
       "       [ 3.09966735e-01,  3.59657932e-01, -1.16263044e-01,\n",
       "        -7.49532017e-02,  1.66466928e-01, -2.66263263e-01],\n",
       "       [-8.64013555e-01, -8.65100043e-01, -2.46329007e-01,\n",
       "        -7.10327809e-01,  7.10863777e-01, -1.62531533e+00],\n",
       "       [-8.64013555e-01, -7.78984248e-01, -2.46329007e-01,\n",
       "        -8.83611793e-01, -5.59395538e-01, -1.35350492e+00],\n",
       "       [ 1.48394702e+00,  2.49341597e+00,  3.13538603e+00,\n",
       "         2.32626772e+00, -1.64818924e+00, -8.09884091e-01],\n",
       "       [ 3.09966735e-01,  3.59657932e-01, -3.76394970e-01,\n",
       "         1.26622045e-01,  7.47156900e-01,  5.54715131e-03],\n",
       "       [ 3.09966735e-01, -2.04878947e-01,  2.73934844e-01,\n",
       "        -3.27216961e-01, -9.58619894e-01,  8.20978394e-01],\n",
       "       [-8.64013555e-01, -7.12005296e-01, -4.28421355e-01,\n",
       "        -2.42646895e-02,  5.29398160e-01, -2.66263263e-01],\n",
       "       [-8.64013555e-01, -5.78047393e-01, -2.46329007e-01,\n",
       "        -5.45295444e-01, -2.69050552e-01,  5.49167980e-01],\n",
       "       [-8.64013555e-01, -7.50278983e-01, -6.10513703e-01,\n",
       "        -8.93042214e-01,  4.93105037e-01,  5.54715131e-03],\n",
       "       [-8.64013555e-01, -5.20636863e-01, -4.28421355e-01,\n",
       "        -3.03640908e-01, -5.12918120e-02,  5.49167980e-01],\n",
       "       [-8.64013555e-01, -9.99057947e-01, -8.96658822e-01,\n",
       "        -1.22664335e+00, -5.59395538e-01, -2.66263263e-01],\n",
       "       [ 1.48394702e+00,  6.27573739e-01,  1.43868881e-01,\n",
       "         4.56686776e-01, -1.49986887e-02,  5.49167980e-01],\n",
       "       [ 1.48394702e+00,  2.24463700e+00,  2.43302983e+00,\n",
       "         1.60719812e+00, -2.01112047e+00, -1.62531533e+00],\n",
       "       [-8.64013555e-01, -5.20636863e-01, -8.44632436e-01,\n",
       "        -6.71427323e-01,  1.25526063e+00, -1.35350492e+00],\n",
       "       [ 1.48394702e+00,  1.48873169e+00,  1.83472640e+00,\n",
       "         1.32310670e+00, -9.22326771e-01, -8.09884091e-01],\n",
       "       [ 3.09966735e-01, -4.63226333e-01, -1.94302622e-01,\n",
       "        -1.91654660e-01, -3.77929921e-01,  2.77357566e-01],\n",
       "       [-1.45100370e+00, -1.19042638e+00, -3.76394970e-01,\n",
       "        -1.00620726e+00, -7.40861154e-01, -8.09884091e-01],\n",
       "       [ 3.09966735e-01,  2.92678980e-01, -5.06460933e-01,\n",
       "         5.74567037e-01,  3.84225667e-01,  1.36459922e+00],\n",
       "       [-8.64013555e-01, -9.22510573e-01, -6.36526896e-01,\n",
       "        -9.59055160e-01, -1.96464305e-01, -1.08169451e+00],\n",
       "       [ 1.48394702e+00,  1.48873169e+00,  1.05433062e+00,\n",
       "         1.30188825e+00, -9.22326771e-01, -8.09884091e-01],\n",
       "       [ 1.48394702e+00,  1.04858429e+00,  1.18439658e+00,\n",
       "         5.36845353e-01, -1.28525800e+00, -1.62531533e+00],\n",
       "       [-8.64013555e-01, -9.32078995e-01, -4.28421355e-01,\n",
       "        -9.99134449e-01, -3.77929921e-01, -1.62531533e+00]])"
      ]
     },
     "execution_count": 13,
     "metadata": {},
     "output_type": "execute_result"
    }
   ],
   "source": [
    "X_test"
   ]
  },
  {
   "cell_type": "code",
   "execution_count": 14,
   "metadata": {},
   "outputs": [
    {
     "data": {
      "text/plain": [
       "260    18.6\n",
       "184    25.0\n",
       "174    18.0\n",
       "64     15.0\n",
       "344    39.0\n",
       "       ... \n",
       "72     15.0\n",
       "107    18.0\n",
       "272    23.8\n",
       "352    29.9\n",
       "103    11.0\n",
       "Name: mpg, Length: 313, dtype: float64"
      ]
     },
     "execution_count": 14,
     "metadata": {},
     "output_type": "execute_result"
    }
   ],
   "source": [
    "y_train"
   ]
  },
  {
   "cell_type": "code",
   "execution_count": 15,
   "metadata": {},
   "outputs": [
    {
     "data": {
      "text/plain": [
       "79     26.0\n",
       "276    21.6\n",
       "248    36.1\n",
       "56     26.0\n",
       "393    27.0\n",
       "       ... \n",
       "366    17.6\n",
       "83     28.0\n",
       "115    15.0\n",
       "3      16.0\n",
       "18     27.0\n",
       "Name: mpg, Length: 79, dtype: float64"
      ]
     },
     "execution_count": 15,
     "metadata": {},
     "output_type": "execute_result"
    }
   ],
   "source": [
    "y_test"
   ]
  },
  {
   "attachments": {},
   "cell_type": "markdown",
   "metadata": {},
   "source": [
    "### Linear Regression"
   ]
  },
  {
   "cell_type": "code",
   "execution_count": 16,
   "metadata": {},
   "outputs": [
    {
     "name": "stdout",
     "output_type": "stream",
     "text": [
      "Linear Regression R2 Score: 0.794234907542859\n",
      "Linear Regression RMSE: 3.240736078334258\n"
     ]
    }
   ],
   "source": [
    "# LinearRegression 모델 학습\n",
    "lr = LinearRegression()\n",
    "lr.fit(X_train, y_train)\n",
    "\n",
    "# 예측\n",
    "y_pred = lr.predict(X_test)\n",
    "\n",
    "# 평가\n",
    "lr_r2 = r2_score(y_test, y_pred)\n",
    "lr_rmse = np.sqrt(mean_squared_error(y_test, y_pred))\n",
    "\n",
    "print(\"Linear Regression R2 Score:\", lr_r2)\n",
    "print(\"Linear Regression RMSE:\", lr_rmse)"
   ]
  },
  {
   "attachments": {},
   "cell_type": "markdown",
   "metadata": {},
   "source": [
    "### Polynominal Regression"
   ]
  },
  {
   "cell_type": "code",
   "execution_count": 29,
   "metadata": {},
   "outputs": [
    {
     "name": "stdout",
     "output_type": "stream",
     "text": [
      "Polynomial Regression R2 Score: 0.7554139494160395\n",
      "Polynomial Regression RMSE: 3.626364864538202\n"
     ]
    }
   ],
   "source": [
    "# Polynominal Regression는 다항회귀를 말한다고함. \n",
    "# 다항회귀는 PolynomialFeatures를 사용함. \n",
    "# 이를 위한 전처리\n",
    "poly = PolynomialFeatures(degree=2)\n",
    "X_train_poly = poly.fit_transform(X_train)\n",
    "X_test_poly = poly.transform(X_test)\n",
    "\n",
    "# 전처리를 하고나서 LinearRegression으로 모델 학습\n",
    "poly = LinearRegression()\n",
    "poly.fit(X_train_poly, y_train)\n",
    "\n",
    "# 예측\n",
    "y_pred = poly.predict(X_test_poly)\n",
    "\n",
    "# 평가\n",
    "poly_r2 = r2_score(y_test, y_pred)\n",
    "poly_rmse = np.sqrt(mean_squared_error(y_test, y_pred))\n",
    "\n",
    "print(\"Polynomial Regression R2 Score:\", poly_r2)\n",
    "print(\"Polynomial Regression RMSE:\", poly_rmse)"
   ]
  },
  {
   "cell_type": "code",
   "execution_count": 18,
   "metadata": {},
   "outputs": [
    {
     "name": "stdout",
     "output_type": "stream",
     "text": [
      "Ridge Regression R2 Score: 0.7938879367688432\n",
      "Ridge Regression RMSE: 3.2434672682316776\n"
     ]
    }
   ],
   "source": [
    "# ridge 모델 학습\n",
    "ridge = Ridge(alpha=0.5)\n",
    "ridge.fit(X_train, y_train)\n",
    "\n",
    "# 예측\n",
    "y_pred = ridge.predict(X_test)\n",
    "\n",
    "# 평가\n",
    "ridge_r2 = r2_score(y_test, y_pred)\n",
    "ridge_rmse = np.sqrt(mean_squared_error(y_test, y_pred))\n",
    "\n",
    "print(\"Ridge Regression R2 Score:\", ridge_r2)\n",
    "print(\"Ridge Regression RMSE:\", ridge_rmse)"
   ]
  },
  {
   "cell_type": "code",
   "execution_count": 19,
   "metadata": {},
   "outputs": [
    {
     "name": "stdout",
     "output_type": "stream",
     "text": [
      "Lasso Regression R2 Score: 0.8045109077858248\n",
      "Lasso Regression RMSE: 3.1587778148586736\n"
     ]
    }
   ],
   "source": [
    "# lasso 모델 학습\n",
    "lasso = Lasso(alpha=0.5)\n",
    "lasso.fit(X_train, y_train)\n",
    "\n",
    "# 예측\n",
    "y_pred = lasso.predict(X_test)\n",
    "\n",
    "# 평가\n",
    "lasso_r2 = r2_score(y_test, y_pred)\n",
    "lasso_rmse = np.sqrt(mean_squared_error(y_test, y_pred))\n",
    "\n",
    "print(\"Lasso Regression R2 Score:\", lasso_r2)\n",
    "print(\"Lasso Regression RMSE:\", lasso_rmse)"
   ]
  },
  {
   "attachments": {},
   "cell_type": "markdown",
   "metadata": {},
   "source": [
    "### 결과 비교\n",
    "\n",
    "스코어가 높으면 좋은 성능을 가지고 있다고 할 수 있고\n",
    "\n",
    "RMSE가 낮을 수록 좋은 성능을 가지고 있다고 할 수 있음.\n",
    "\n",
    "따라서, PolynomialFeatures > Lasso > LinearRegression > ridge 순.\n",
    "\n",
    "\n",
    "- 4개의 모델을 비교해 보면, PolynomialFeatures 모델이 가장 높은 R2 Score와 가장 낮은 RMSE를 가지며 가장 성능이 좋은 것으로 나타남.\n",
    "\n",
    "- Lasso Regression 모델이 그 다음으로 좋은 성능을 보여주고 있음.\n",
    "\n",
    "- LinearRegression모델과 Ridge Regression 모델은 비슷한 성능을 보이나,\n",
    "\n",
    "그래도 Ridge Regression 모델이 나머지 모델에 비해 R2 Score이 제일 낮고,\n",
    "RMSE가 제일 높게 나타나 성능이 가장 나쁜 것으로 나타남."
   ]
  },
  {
   "attachments": {},
   "cell_type": "markdown",
   "metadata": {},
   "source": [
    "### 2. 회귀 기반 모델링 – 분류 타겟 변경 필요\n",
    "LogisticRegression"
   ]
  },
  {
   "cell_type": "code",
   "execution_count": 20,
   "metadata": {},
   "outputs": [],
   "source": [
    "# 데이터셋 불러오기\n",
    "df = pd.read_csv(\"./data/auto-mpg.csv\")"
   ]
  },
  {
   "cell_type": "code",
   "execution_count": 21,
   "metadata": {},
   "outputs": [],
   "source": [
    "# mpg와 weight 열만 추출\n",
    "df = df[[\"mpg\", \"weight\"]]"
   ]
  },
  {
   "cell_type": "code",
   "execution_count": 22,
   "metadata": {},
   "outputs": [],
   "source": [
    "# 결측값 또는 이상치 처리\n",
    "df = df.dropna() # 결측값 제거\n",
    "df = df[df[\"mpg\"] > 0] # mpg가 0보다 작은 값 제거"
   ]
  },
  {
   "cell_type": "code",
   "execution_count": 23,
   "metadata": {},
   "outputs": [],
   "source": [
    "from sklearn.model_selection import train_test_split\n",
    "\n",
    "# 독립 변수와 종속 변수 분리\n",
    "X = df.drop(\"mpg\", axis=1)\n",
    "y = df[\"mpg\"]"
   ]
  },
  {
   "cell_type": "code",
   "execution_count": 24,
   "metadata": {},
   "outputs": [],
   "source": [
    "# 학습 데이터셋과 테스트 데이터셋 분할\n",
    "X_train, X_test, y_train, y_test = train_test_split(X, y, test_size=0.2, random_state=42)"
   ]
  },
  {
   "cell_type": "code",
   "execution_count": 25,
   "metadata": {},
   "outputs": [
    {
     "ename": "ValueError",
     "evalue": "Unknown label type: 'continuous'",
     "output_type": "error",
     "traceback": [
      "\u001b[1;31m---------------------------------------------------------------------------\u001b[0m",
      "\u001b[1;31mValueError\u001b[0m                                Traceback (most recent call last)",
      "Cell \u001b[1;32mIn[25], line 5\u001b[0m\n\u001b[0;32m      3\u001b[0m \u001b[39m# 로지스틱 회귀 모델 학습\u001b[39;00m\n\u001b[0;32m      4\u001b[0m model \u001b[39m=\u001b[39m LogisticRegression()\n\u001b[1;32m----> 5\u001b[0m model\u001b[39m.\u001b[39;49mfit(X_train, y_train)\n",
      "File \u001b[1;32mc:\\Users\\y2kjd\\anaconda3\\envs\\ML\\lib\\site-packages\\sklearn\\linear_model\\_logistic.py:1345\u001b[0m, in \u001b[0;36mLogisticRegression.fit\u001b[1;34m(self, X, y, sample_weight)\u001b[0m\n\u001b[0;32m   1340\u001b[0m     _dtype \u001b[39m=\u001b[39m [np\u001b[39m.\u001b[39mfloat64, np\u001b[39m.\u001b[39mfloat32]\n\u001b[0;32m   1342\u001b[0m X, y \u001b[39m=\u001b[39m \u001b[39mself\u001b[39m\u001b[39m.\u001b[39m_validate_data(X, y, accept_sparse\u001b[39m=\u001b[39m\u001b[39m'\u001b[39m\u001b[39mcsr\u001b[39m\u001b[39m'\u001b[39m, dtype\u001b[39m=\u001b[39m_dtype,\n\u001b[0;32m   1343\u001b[0m                            order\u001b[39m=\u001b[39m\u001b[39m\"\u001b[39m\u001b[39mC\u001b[39m\u001b[39m\"\u001b[39m,\n\u001b[0;32m   1344\u001b[0m                            accept_large_sparse\u001b[39m=\u001b[39msolver \u001b[39m!=\u001b[39m \u001b[39m'\u001b[39m\u001b[39mliblinear\u001b[39m\u001b[39m'\u001b[39m)\n\u001b[1;32m-> 1345\u001b[0m check_classification_targets(y)\n\u001b[0;32m   1346\u001b[0m \u001b[39mself\u001b[39m\u001b[39m.\u001b[39mclasses_ \u001b[39m=\u001b[39m np\u001b[39m.\u001b[39munique(y)\n\u001b[0;32m   1348\u001b[0m multi_class \u001b[39m=\u001b[39m _check_multi_class(\u001b[39mself\u001b[39m\u001b[39m.\u001b[39mmulti_class, solver,\n\u001b[0;32m   1349\u001b[0m                                  \u001b[39mlen\u001b[39m(\u001b[39mself\u001b[39m\u001b[39m.\u001b[39mclasses_))\n",
      "File \u001b[1;32mc:\\Users\\y2kjd\\anaconda3\\envs\\ML\\lib\\site-packages\\sklearn\\utils\\multiclass.py:172\u001b[0m, in \u001b[0;36mcheck_classification_targets\u001b[1;34m(y)\u001b[0m\n\u001b[0;32m    169\u001b[0m y_type \u001b[39m=\u001b[39m type_of_target(y)\n\u001b[0;32m    170\u001b[0m \u001b[39mif\u001b[39;00m y_type \u001b[39mnot\u001b[39;00m \u001b[39min\u001b[39;00m [\u001b[39m'\u001b[39m\u001b[39mbinary\u001b[39m\u001b[39m'\u001b[39m, \u001b[39m'\u001b[39m\u001b[39mmulticlass\u001b[39m\u001b[39m'\u001b[39m, \u001b[39m'\u001b[39m\u001b[39mmulticlass-multioutput\u001b[39m\u001b[39m'\u001b[39m,\n\u001b[0;32m    171\u001b[0m                   \u001b[39m'\u001b[39m\u001b[39mmultilabel-indicator\u001b[39m\u001b[39m'\u001b[39m, \u001b[39m'\u001b[39m\u001b[39mmultilabel-sequences\u001b[39m\u001b[39m'\u001b[39m]:\n\u001b[1;32m--> 172\u001b[0m     \u001b[39mraise\u001b[39;00m \u001b[39mValueError\u001b[39;00m(\u001b[39m\"\u001b[39m\u001b[39mUnknown label type: \u001b[39m\u001b[39m%r\u001b[39;00m\u001b[39m\"\u001b[39m \u001b[39m%\u001b[39m y_type)\n",
      "\u001b[1;31mValueError\u001b[0m: Unknown label type: 'continuous'"
     ]
    }
   ],
   "source": [
    "from sklearn.linear_model import LogisticRegression\n",
    "\n",
    "# 로지스틱 회귀 모델 학습\n",
    "model = LogisticRegression()\n",
    "model.fit(X_train, y_train)"
   ]
  },
  {
   "attachments": {},
   "cell_type": "markdown",
   "metadata": {},
   "source": [
    "그냥 돌리니 무슨 에러가 뜨는데\n",
    "\n",
    "타겟변수 y를 이산형으로 바꾸면 해결될거라 함"
   ]
  },
  {
   "cell_type": "code",
   "execution_count": null,
   "metadata": {},
   "outputs": [],
   "source": [
    "# 문턱값?을 25로 설정하고 25이상이면 좋음 : 1,  미만이면 나쁨 : 0 으로 분류해주는 코드\n",
    "threshold = 25\n",
    "y = np.where(df['mpg'] >= threshold, 1, 0)"
   ]
  },
  {
   "cell_type": "code",
   "execution_count": null,
   "metadata": {},
   "outputs": [],
   "source": [
    "# 학습 데이터셋과 테스트 데이터셋 분할\n",
    "X_train, X_test, y_train, y_test = train_test_split(X, y, test_size=0.2, random_state=42)"
   ]
  },
  {
   "cell_type": "code",
   "execution_count": null,
   "metadata": {},
   "outputs": [
    {
     "data": {
      "text/plain": [
       "LogisticRegression()"
      ]
     },
     "execution_count": 161,
     "metadata": {},
     "output_type": "execute_result"
    }
   ],
   "source": [
    "from sklearn.linear_model import LogisticRegression\n",
    "\n",
    "# 로지스틱 회귀 모델 학습\n",
    "model = LogisticRegression()\n",
    "model.fit(X_train, y_train)"
   ]
  },
  {
   "cell_type": "code",
   "execution_count": null,
   "metadata": {},
   "outputs": [],
   "source": [
    "y_pred = model.predict(X_test)"
   ]
  },
  {
   "cell_type": "code",
   "execution_count": null,
   "metadata": {},
   "outputs": [
    {
     "name": "stdout",
     "output_type": "stream",
     "text": [
      "Accuracy: 0.85\n",
      "Precision: 0.7837837837837838\n",
      "Recall: 0.8787878787878788\n",
      "F1-score: 0.8285714285714285\n"
     ]
    }
   ],
   "source": [
    "from sklearn.metrics import accuracy_score, precision_score, recall_score, f1_score\n",
    "\n",
    "print(\"Accuracy:\", accuracy_score(y_test, y_pred))\n",
    "print(\"Precision:\", precision_score(y_test, y_pred))\n",
    "print(\"Recall:\", recall_score(y_test, y_pred))\n",
    "print(\"F1-score:\", f1_score(y_test, y_pred))"
   ]
  },
  {
   "attachments": {},
   "cell_type": "markdown",
   "metadata": {},
   "source": [
    "- Accuracy (정확도): 전체 예측 중 실제값과 일치한 비율을 의미.\n",
    "\n",
    "여기서는 0.85로, 전체 예측 중 85%가 올바른 예측을 한 것을 나타냄.\n",
    "\n",
    "\n",
    "\n",
    "- Precision (정밀도): 모델이 True로 예측한 데이터 중 실제 True인 데이터의 비율을 의미함.\n",
    "\n",
    "여기서는 0.7838로, 모델이 True로 예측한 데이터 중 78.38%만이 실제로 True인 것을 나타냄.\n",
    "\n",
    "\n",
    "\n",
    "- Recall (재현율): 실제 True인 데이터 중 모델이 True로 예측한 데이터의 비율을 의미.\n",
    "\n",
    "여기서는 0.8788로, 실제 True인 데이터 중 87.88%가 모델에 의해 True로 예측된 것을 나타냄.\n",
    "\n",
    "\n",
    "\n",
    "- F1-score: 정밀도와 재현율의 조화평균으로 계산된 지표로, 모델의 예측 성능을 종합적으로 나타냄.\n",
    "\n",
    "여기서는 0.8286으로, 정밀도와 재현율이 모두 균형있게 나타나고 있음을 나타냄."
   ]
  }
 ],
 "metadata": {
  "kernelspec": {
   "display_name": "ML",
   "language": "python",
   "name": "python3"
  },
  "language_info": {
   "codemirror_mode": {
    "name": "ipython",
    "version": 3
   },
   "file_extension": ".py",
   "mimetype": "text/x-python",
   "name": "python",
   "nbconvert_exporter": "python",
   "pygments_lexer": "ipython3",
   "version": "3.8.1"
  },
  "orig_nbformat": 4
 },
 "nbformat": 4,
 "nbformat_minor": 2
}
