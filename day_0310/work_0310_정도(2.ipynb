{
 "cells": [
  {
   "attachments": {},
   "cell_type": "markdown",
   "metadata": {},
   "source": [
    "### 1. 회귀 기반 모델링 – 회귀 (예측)\n",
    "\n",
    "auto mpg 데이터셋으로 연비예측.\n",
    "\n",
    "1. LinearRegression\n",
    "2. PolynominalRegression\n",
    "3. Ridge\n",
    "4. Lasso\n",
    "각 모델들의 성능을 비교\n",
    "\n",
    "\n",
    "### 2. 회귀 기반 모델링 – 분류 타겟 변경 필요\n",
    "LogisticRegression\n",
    "\n",
    "\n",
    "\n",
    "### *columns 이름\n",
    "mpg: 연비 (종속 변수)\n",
    "\n",
    "cylinders: 실린더 수\n",
    "\n",
    "displacement: 배기량\n",
    "\n",
    "horsepower: 출력\n",
    "\n",
    "weight: 차량 무게\n",
    "\n",
    "acceleration: 가속도\n",
    "\n",
    "model year: 출시 년도\n",
    "\n",
    "origin: 제조국 (1: 미국, 2: 유럽, 3: 일본)\n",
    "\n",
    "car name: 차량 이름"
   ]
  },
  {
   "cell_type": "code",
   "execution_count": 24,
   "metadata": {},
   "outputs": [],
   "source": [
    "import pandas as pd\n",
    "import numpy as np\n",
    "import matplotlib.pyplot as plt\n",
    "import seaborn as sns"
   ]
  },
  {
   "cell_type": "code",
   "execution_count": 25,
   "metadata": {},
   "outputs": [],
   "source": [
    "auto_df=pd.read_csv('./data/auto-mpg.csv')"
   ]
  },
  {
   "cell_type": "code",
   "execution_count": 26,
   "metadata": {},
   "outputs": [
    {
     "data": {
      "text/html": [
       "<div>\n",
       "<style scoped>\n",
       "    .dataframe tbody tr th:only-of-type {\n",
       "        vertical-align: middle;\n",
       "    }\n",
       "\n",
       "    .dataframe tbody tr th {\n",
       "        vertical-align: top;\n",
       "    }\n",
       "\n",
       "    .dataframe thead th {\n",
       "        text-align: right;\n",
       "    }\n",
       "</style>\n",
       "<table border=\"1\" class=\"dataframe\">\n",
       "  <thead>\n",
       "    <tr style=\"text-align: right;\">\n",
       "      <th></th>\n",
       "      <th>mpg</th>\n",
       "      <th>cylinders</th>\n",
       "      <th>displacement</th>\n",
       "      <th>horsepower</th>\n",
       "      <th>weight</th>\n",
       "      <th>acceleration</th>\n",
       "      <th>model year</th>\n",
       "      <th>origin</th>\n",
       "      <th>car name</th>\n",
       "    </tr>\n",
       "  </thead>\n",
       "  <tbody>\n",
       "    <tr>\n",
       "      <th>0</th>\n",
       "      <td>18.0</td>\n",
       "      <td>8</td>\n",
       "      <td>307.0</td>\n",
       "      <td>130</td>\n",
       "      <td>3504</td>\n",
       "      <td>12.0</td>\n",
       "      <td>70</td>\n",
       "      <td>1</td>\n",
       "      <td>chevrolet chevelle malibu</td>\n",
       "    </tr>\n",
       "    <tr>\n",
       "      <th>1</th>\n",
       "      <td>15.0</td>\n",
       "      <td>8</td>\n",
       "      <td>350.0</td>\n",
       "      <td>165</td>\n",
       "      <td>3693</td>\n",
       "      <td>11.5</td>\n",
       "      <td>70</td>\n",
       "      <td>1</td>\n",
       "      <td>buick skylark 320</td>\n",
       "    </tr>\n",
       "    <tr>\n",
       "      <th>2</th>\n",
       "      <td>18.0</td>\n",
       "      <td>8</td>\n",
       "      <td>318.0</td>\n",
       "      <td>150</td>\n",
       "      <td>3436</td>\n",
       "      <td>11.0</td>\n",
       "      <td>70</td>\n",
       "      <td>1</td>\n",
       "      <td>plymouth satellite</td>\n",
       "    </tr>\n",
       "    <tr>\n",
       "      <th>3</th>\n",
       "      <td>16.0</td>\n",
       "      <td>8</td>\n",
       "      <td>304.0</td>\n",
       "      <td>150</td>\n",
       "      <td>3433</td>\n",
       "      <td>12.0</td>\n",
       "      <td>70</td>\n",
       "      <td>1</td>\n",
       "      <td>amc rebel sst</td>\n",
       "    </tr>\n",
       "    <tr>\n",
       "      <th>4</th>\n",
       "      <td>17.0</td>\n",
       "      <td>8</td>\n",
       "      <td>302.0</td>\n",
       "      <td>140</td>\n",
       "      <td>3449</td>\n",
       "      <td>10.5</td>\n",
       "      <td>70</td>\n",
       "      <td>1</td>\n",
       "      <td>ford torino</td>\n",
       "    </tr>\n",
       "    <tr>\n",
       "      <th>...</th>\n",
       "      <td>...</td>\n",
       "      <td>...</td>\n",
       "      <td>...</td>\n",
       "      <td>...</td>\n",
       "      <td>...</td>\n",
       "      <td>...</td>\n",
       "      <td>...</td>\n",
       "      <td>...</td>\n",
       "      <td>...</td>\n",
       "    </tr>\n",
       "    <tr>\n",
       "      <th>393</th>\n",
       "      <td>27.0</td>\n",
       "      <td>4</td>\n",
       "      <td>140.0</td>\n",
       "      <td>86</td>\n",
       "      <td>2790</td>\n",
       "      <td>15.6</td>\n",
       "      <td>82</td>\n",
       "      <td>1</td>\n",
       "      <td>ford mustang gl</td>\n",
       "    </tr>\n",
       "    <tr>\n",
       "      <th>394</th>\n",
       "      <td>44.0</td>\n",
       "      <td>4</td>\n",
       "      <td>97.0</td>\n",
       "      <td>52</td>\n",
       "      <td>2130</td>\n",
       "      <td>24.6</td>\n",
       "      <td>82</td>\n",
       "      <td>2</td>\n",
       "      <td>vw pickup</td>\n",
       "    </tr>\n",
       "    <tr>\n",
       "      <th>395</th>\n",
       "      <td>32.0</td>\n",
       "      <td>4</td>\n",
       "      <td>135.0</td>\n",
       "      <td>84</td>\n",
       "      <td>2295</td>\n",
       "      <td>11.6</td>\n",
       "      <td>82</td>\n",
       "      <td>1</td>\n",
       "      <td>dodge rampage</td>\n",
       "    </tr>\n",
       "    <tr>\n",
       "      <th>396</th>\n",
       "      <td>28.0</td>\n",
       "      <td>4</td>\n",
       "      <td>120.0</td>\n",
       "      <td>79</td>\n",
       "      <td>2625</td>\n",
       "      <td>18.6</td>\n",
       "      <td>82</td>\n",
       "      <td>1</td>\n",
       "      <td>ford ranger</td>\n",
       "    </tr>\n",
       "    <tr>\n",
       "      <th>397</th>\n",
       "      <td>31.0</td>\n",
       "      <td>4</td>\n",
       "      <td>119.0</td>\n",
       "      <td>82</td>\n",
       "      <td>2720</td>\n",
       "      <td>19.4</td>\n",
       "      <td>82</td>\n",
       "      <td>1</td>\n",
       "      <td>chevy s-10</td>\n",
       "    </tr>\n",
       "  </tbody>\n",
       "</table>\n",
       "<p>398 rows × 9 columns</p>\n",
       "</div>"
      ],
      "text/plain": [
       "      mpg  cylinders  displacement horsepower  weight  acceleration  \\\n",
       "0    18.0          8         307.0        130    3504          12.0   \n",
       "1    15.0          8         350.0        165    3693          11.5   \n",
       "2    18.0          8         318.0        150    3436          11.0   \n",
       "3    16.0          8         304.0        150    3433          12.0   \n",
       "4    17.0          8         302.0        140    3449          10.5   \n",
       "..    ...        ...           ...        ...     ...           ...   \n",
       "393  27.0          4         140.0         86    2790          15.6   \n",
       "394  44.0          4          97.0         52    2130          24.6   \n",
       "395  32.0          4         135.0         84    2295          11.6   \n",
       "396  28.0          4         120.0         79    2625          18.6   \n",
       "397  31.0          4         119.0         82    2720          19.4   \n",
       "\n",
       "     model year  origin                   car name  \n",
       "0            70       1  chevrolet chevelle malibu  \n",
       "1            70       1          buick skylark 320  \n",
       "2            70       1         plymouth satellite  \n",
       "3            70       1              amc rebel sst  \n",
       "4            70       1                ford torino  \n",
       "..          ...     ...                        ...  \n",
       "393          82       1            ford mustang gl  \n",
       "394          82       2                  vw pickup  \n",
       "395          82       1              dodge rampage  \n",
       "396          82       1                ford ranger  \n",
       "397          82       1                 chevy s-10  \n",
       "\n",
       "[398 rows x 9 columns]"
      ]
     },
     "execution_count": 26,
     "metadata": {},
     "output_type": "execute_result"
    }
   ],
   "source": [
    "auto_df"
   ]
  },
  {
   "cell_type": "code",
   "execution_count": 27,
   "metadata": {},
   "outputs": [
    {
     "name": "stdout",
     "output_type": "stream",
     "text": [
      "<class 'pandas.core.frame.DataFrame'>\n",
      "RangeIndex: 398 entries, 0 to 397\n",
      "Data columns (total 9 columns):\n",
      " #   Column        Non-Null Count  Dtype  \n",
      "---  ------        --------------  -----  \n",
      " 0   mpg           398 non-null    float64\n",
      " 1   cylinders     398 non-null    int64  \n",
      " 2   displacement  398 non-null    float64\n",
      " 3   horsepower    398 non-null    object \n",
      " 4   weight        398 non-null    int64  \n",
      " 5   acceleration  398 non-null    float64\n",
      " 6   model year    398 non-null    int64  \n",
      " 7   origin        398 non-null    int64  \n",
      " 8   car name      398 non-null    object \n",
      "dtypes: float64(3), int64(4), object(2)\n",
      "memory usage: 28.1+ KB\n"
     ]
    }
   ],
   "source": [
    "auto_df.info()"
   ]
  },
  {
   "cell_type": "code",
   "execution_count": 28,
   "metadata": {},
   "outputs": [
    {
     "data": {
      "text/plain": [
       "mpg             0\n",
       "cylinders       0\n",
       "displacement    0\n",
       "horsepower      0\n",
       "weight          0\n",
       "acceleration    0\n",
       "model year      0\n",
       "origin          0\n",
       "car name        0\n",
       "dtype: int64"
      ]
     },
     "execution_count": 28,
     "metadata": {},
     "output_type": "execute_result"
    }
   ],
   "source": [
    "auto_df.isnull().sum()"
   ]
  },
  {
   "cell_type": "code",
   "execution_count": 29,
   "metadata": {},
   "outputs": [
    {
     "data": {
      "text/plain": [
       "array(['130', '165', '150', '140', '198', '220', '215', '225', '190',\n",
       "       '170', '160', '95', '97', '85', '88', '46', '87', '90', '113',\n",
       "       '200', '210', '193', '?', '100', '105', '175', '153', '180', '110',\n",
       "       '72', '86', '70', '76', '65', '69', '60', '80', '54', '208', '155',\n",
       "       '112', '92', '145', '137', '158', '167', '94', '107', '230', '49',\n",
       "       '75', '91', '122', '67', '83', '78', '52', '61', '93', '148',\n",
       "       '129', '96', '71', '98', '115', '53', '81', '79', '120', '152',\n",
       "       '102', '108', '68', '58', '149', '89', '63', '48', '66', '139',\n",
       "       '103', '125', '133', '138', '135', '142', '77', '62', '132', '84',\n",
       "       '64', '74', '116', '82'], dtype=object)"
      ]
     },
     "execution_count": 29,
     "metadata": {},
     "output_type": "execute_result"
    }
   ],
   "source": [
    "auto_df[\"horsepower\"].unique()"
   ]
  },
  {
   "cell_type": "code",
   "execution_count": 30,
   "metadata": {},
   "outputs": [],
   "source": [
    "#\"horsepower\" 열에서 \"?\" 값을 NaN 값으로 대체\n",
    "auto_df[\"horsepower\"] = auto_df[\"horsepower\"].replace('?', np.nan)\n",
    "\n",
    "#NaN 값을 제외한 \"horsepower\" 열의 데이터 평균값을 계산\n",
    "avg_horsepower = auto_df[\"horsepower\"].astype(\"float\").mean(skipna=True)\n",
    "\n",
    "#NaN 값을 평균값으로 대체\n",
    "auto_df[\"horsepower\"] = auto_df[\"horsepower\"].astype(\"float\").fillna(avg_horsepower)\n",
    "\n",
    "#\"horsepower\" 열의 데이터를 int64로 변환\n",
    "auto_df[\"horsepower\"] = auto_df[\"horsepower\"].astype(\"int64\")"
   ]
  },
  {
   "cell_type": "code",
   "execution_count": 31,
   "metadata": {},
   "outputs": [
    {
     "data": {
      "text/plain": [
       "array([130, 165, 150, 140, 198, 220, 215, 225, 190, 170, 160,  95,  97,\n",
       "        85,  88,  46,  87,  90, 113, 200, 210, 193, 104, 100, 105, 175,\n",
       "       153, 180, 110,  72,  86,  70,  76,  65,  69,  60,  80,  54, 208,\n",
       "       155, 112,  92, 145, 137, 158, 167,  94, 107, 230,  49,  75,  91,\n",
       "       122,  67,  83,  78,  52,  61,  93, 148, 129,  96,  71,  98, 115,\n",
       "        53,  81,  79, 120, 152, 102, 108,  68,  58, 149,  89,  63,  48,\n",
       "        66, 139, 103, 125, 133, 138, 135, 142,  77,  62, 132,  84,  64,\n",
       "        74, 116,  82], dtype=int64)"
      ]
     },
     "execution_count": 31,
     "metadata": {},
     "output_type": "execute_result"
    }
   ],
   "source": [
    "auto_df[\"horsepower\"].unique()"
   ]
  },
  {
   "cell_type": "code",
   "execution_count": 35,
   "metadata": {},
   "outputs": [
    {
     "name": "stderr",
     "output_type": "stream",
     "text": [
      "C:\\Users\\y2kjd\\AppData\\Local\\Temp\\ipykernel_20192\\1066327421.py:3: FutureWarning: The default value of numeric_only in DataFrame.corr is deprecated. In a future version, it will default to False. Select only valid columns or specify the value of numeric_only to silence this warning.\n",
      "  mobile=(abs(auto_df.corr().mpg))\n"
     ]
    },
    {
     "data": {
      "text/plain": [
       "mpg             1.000000\n",
       "cylinders       0.775396\n",
       "displacement    0.804203\n",
       "horsepower      0.771543\n",
       "weight          0.831741\n",
       "acceleration    0.420289\n",
       "model year      0.579267\n",
       "origin          0.563450\n",
       "Name: mpg, dtype: float64"
      ]
     },
     "execution_count": 35,
     "metadata": {},
     "output_type": "execute_result"
    }
   ],
   "source": [
    "# 상관계수 확인\n",
    "mobile=(abs(auto_df.corr().mpg))\n",
    "mobile"
   ]
  },
  {
   "cell_type": "code",
   "execution_count": 38,
   "metadata": {},
   "outputs": [
    {
     "data": {
      "text/plain": [
       "mpg             1.000000\n",
       "weight          0.831741\n",
       "displacement    0.804203\n",
       "cylinders       0.775396\n",
       "horsepower      0.771543\n",
       "model year      0.579267\n",
       "origin          0.563450\n",
       "acceleration    0.420289\n",
       "Name: mpg, dtype: float64"
      ]
     },
     "execution_count": 38,
     "metadata": {},
     "output_type": "execute_result"
    }
   ],
   "source": [
    "# 결과 정렬\n",
    "mobile.sort_values(ascending=False)"
   ]
  },
  {
   "cell_type": "code",
   "execution_count": 40,
   "metadata": {},
   "outputs": [
    {
     "data": {
      "text/plain": [
       "(array([31., 90., 59., 54., 37., 40., 29., 34., 18.,  6.]),\n",
       " array([1613. , 1965.7, 2318.4, 2671.1, 3023.8, 3376.5, 3729.2, 4081.9,\n",
       "        4434.6, 4787.3, 5140. ]),\n",
       " <BarContainer object of 10 artists>)"
      ]
     },
     "execution_count": 40,
     "metadata": {},
     "output_type": "execute_result"
    },
    {
     "data": {
      "image/png": "[encoded data removed]",
      "text/plain": [
       "<Figure size 640x480 with 1 Axes>"
      ]
     },
     "metadata": {},
     "output_type": "display_data"
    }
   ],
   "source": [
    "# 정규분포 확인-------------------------------------------------------\n",
    "plt.hist(auto_df.weight)"
   ]
  },
  {
   "cell_type": "code",
   "execution_count": 41,
   "metadata": {},
   "outputs": [
    {
     "data": {
      "text/plain": [
       "(array([107.,  89.,  31.,  13.,  57.,   3.,  42.,  31.,  16.,   9.]),\n",
       " array([ 68. , 106.7, 145.4, 184.1, 222.8, 261.5, 300.2, 338.9, 377.6,\n",
       "        416.3, 455. ]),\n",
       " <BarContainer object of 10 artists>)"
      ]
     },
     "execution_count": 41,
     "metadata": {},
     "output_type": "execute_result"
    },
    {
     "data": {
      "image/png": "[encoded data removed]",
      "text/plain": [
       "<Figure size 640x480 with 1 Axes>"
      ]
     },
     "metadata": {},
     "output_type": "display_data"
    }
   ],
   "source": [
    "# 정규분포 확인-------------------------------------------------------\n",
    "plt.hist(auto_df.displacement)"
   ]
  },
  {
   "cell_type": "code",
   "execution_count": 42,
   "metadata": {},
   "outputs": [
    {
     "data": {
      "text/plain": [
       "(array([  4.,   0., 204.,   0.,   3.,   0.,  84.,   0.,   0., 103.]),\n",
       " array([3. , 3.5, 4. , 4.5, 5. , 5.5, 6. , 6.5, 7. , 7.5, 8. ]),\n",
       " <BarContainer object of 10 artists>)"
      ]
     },
     "execution_count": 42,
     "metadata": {},
     "output_type": "execute_result"
    },
    {
     "data": {
      "image/png": "[encoded data removed]",
      "text/plain": [
       "<Figure size 640x480 with 1 Axes>"
      ]
     },
     "metadata": {},
     "output_type": "display_data"
    }
   ],
   "source": [
    "# 정규분포 확인-------------------------------------------------------\n",
    "plt.hist(auto_df.cylinders)"
   ]
  },
  {
   "cell_type": "code",
   "execution_count": 43,
   "metadata": {},
   "outputs": [
    {
     "data": {
      "text/plain": [
       "(array([ 27.,  95., 120.,  50.,  19.,  47.,  13.,  14.,   5.,   8.]),\n",
       " array([ 46. ,  64.4,  82.8, 101.2, 119.6, 138. , 156.4, 174.8, 193.2,\n",
       "        211.6, 230. ]),\n",
       " <BarContainer object of 10 artists>)"
      ]
     },
     "execution_count": 43,
     "metadata": {},
     "output_type": "execute_result"
    },
    {
     "data": {
      "image/png": "[encoded data removed]",
      "text/plain": [
       "<Figure size 640x480 with 1 Axes>"
      ]
     },
     "metadata": {},
     "output_type": "display_data"
    }
   ],
   "source": [
    "# 정규분포 확인-------------------------------------------------------\n",
    "plt.hist(auto_df.horsepower)"
   ]
  },
  {
   "cell_type": "code",
   "execution_count": 45,
   "metadata": {},
   "outputs": [
    {
     "name": "stdout",
     "output_type": "stream",
     "text": [
      "[18.  15.  16.  17.  14.  24.  22.  21.  27.  26.  25.  10.  11.   9.\n",
      " 28.  19.  12.  13.  23.  30.  31.  35.  20.  29.  32.  33.  17.5 15.5\n",
      " 14.5 22.5 24.5 18.5 29.5 26.5 16.5 31.5 36.  25.5 33.5 20.5 30.5 21.5\n",
      " 43.1 36.1 32.8 39.4 19.9 19.4 20.2 19.2 25.1 20.6 20.8 18.6 18.1 17.7\n",
      " 27.5 27.2 30.9 21.1 23.2 23.8 23.9 20.3 21.6 16.2 19.8 22.3 17.6 18.2\n",
      " 16.9 31.9 34.1 35.7 27.4 25.4 34.2 34.5 31.8 37.3 28.4 28.8 26.8 41.5\n",
      " 38.1 32.1 37.2 26.4 24.3 19.1 34.3 29.8 31.3 37.  32.2 46.6 27.9 40.8\n",
      " 44.3 43.4 36.4 44.6 40.9 33.8 32.7 23.7 23.6 32.4 26.6 25.8 23.5 39.1\n",
      " 39.  35.1 32.3 37.7 34.7 34.4 29.9 33.7 32.9 31.6 28.1 30.7 24.2 22.4\n",
      " 34.  38.  44. ]\n",
      "[8 4 6 3 5]\n",
      "[307.  350.  318.  304.  302.  429.  454.  440.  455.  390.  383.  340.\n",
      " 400.  113.  198.  199.  200.   97.  110.  107.  104.  121.  360.  140.\n",
      "  98.  232.  225.  250.  351.  258.  122.  116.   79.   88.   71.   72.\n",
      "  91.   97.5  70.  120.   96.  108.  155.   68.  114.  156.   76.   83.\n",
      "  90.  231.  262.  134.  119.  171.  115.  101.  305.   85.  130.  168.\n",
      " 111.  260.  151.  146.   80.   78.  105.  131.  163.   89.  267.   86.\n",
      " 183.  141.  173.  135.   81.  100.  145.  112.  181.  144. ]\n",
      "[130 165 150 140 198 220 215 225 190 170 160  95  97  85  88  46  87  90\n",
      " 113 200 210 193 104 100 105 175 153 180 110  72  86  70  76  65  69  60\n",
      "  80  54 208 155 112  92 145 137 158 167  94 107 230  49  75  91 122  67\n",
      "  83  78  52  61  93 148 129  96  71  98 115  53  81  79 120 152 102 108\n",
      "  68  58 149  89  63  48  66 139 103 125 133 138 135 142  77  62 132  84\n",
      "  64  74 116  82]\n",
      "[3504 3693 3436 3433 3449 4341 4354 4312 4425 3850 3563 3609 3761 3086\n",
      " 2372 2833 2774 2587 2130 1835 2672 2430 2375 2234 2648 4615 4376 4382\n",
      " 4732 2264 2228 2046 2634 3439 3329 3302 3288 4209 4464 4154 4096 4955\n",
      " 4746 5140 2962 2408 3282 3139 2220 2123 2074 2065 1773 1613 1834 1955\n",
      " 2278 2126 2254 2226 4274 4385 4135 4129 3672 4633 4502 4456 4422 2330\n",
      " 3892 4098 4294 4077 2933 2511 2979 2189 2395 2288 2506 2164 2100 4100\n",
      " 3988 4042 3777 4952 4363 4237 4735 4951 3821 3121 3278 2945 3021 2904\n",
      " 1950 4997 4906 4654 4499 2789 2279 2401 2379 2124 2310 2472 2265 4082\n",
      " 4278 1867 2158 2582 2868 3399 2660 2807 3664 3102 2875 2901 3336 2451\n",
      " 1836 2542 3781 3632 3613 4141 4699 4457 4638 4257 2219 1963 2300 1649\n",
      " 2003 2125 2108 2246 2489 2391 2000 3264 3459 3432 3158 4668 4440 4498\n",
      " 4657 3907 3897 3730 3785 3039 3221 3169 2171 2639 2914 2592 2702 2223\n",
      " 2545 2984 1937 3211 2694 2957 2671 1795 2464 2572 2255 2202 4215 4190\n",
      " 3962 3233 3353 3012 3085 2035 3651 3574 3645 3193 1825 1990 2155 2565\n",
      " 3150 3940 3270 2930 3820 4380 4055 3870 3755 2045 1945 3880 4060 4140\n",
      " 4295 3520 3425 3630 3525 4220 4165 4325 4335 1940 2740 2755 2051 2075\n",
      " 1985 2190 2815 2600 2720 1800 2070 3365 3735 3570 3535 3155 2965 3430\n",
      " 3210 3380 3070 3620 3410 3445 3205 4080 2560 2230 2515 2745 2855 2405\n",
      " 2830 3140 2795 2135 3245 2990 2890 3265 3360 3840 3725 3955 3830 4360\n",
      " 4054 3605 1925 1975 1915 2670 3530 3900 3190 3420 2200 2150 2020 2595\n",
      " 2700 2556 2144 1968 2120 2019 2678 2870 3003 3381 2188 2711 2434 2110\n",
      " 2800 2085 2335 2950 3250 1850 2145 1845 2910 2420 2500 2905 2290 2490\n",
      " 2635 2620 2725 2385 1755 1875 1760 2050 2215 2380 2320 2210 2350 2615\n",
      " 3230 3160 2900 3415 3060 3465 2605 2640 2575 2525 2735 2865 3035 1980\n",
      " 2025 1970 2160 2205 2245 1965 1995 3015 2585 2835 2665 2370 2790 2295\n",
      " 2625]\n",
      "[12.  11.5 11.  10.5 10.   9.   8.5  8.   9.5 15.  15.5 16.  14.5 20.5\n",
      " 17.5 12.5 14.  13.5 18.5 19.  13.  19.5 18.  17.  23.5 16.5 21.  16.9\n",
      " 14.9 17.7 15.3 13.9 12.8 15.4 17.6 22.2 22.1 14.2 17.4 16.2 17.8 12.2\n",
      " 16.4 13.6 15.7 13.2 21.9 16.7 12.1 14.8 18.6 16.8 13.7 11.1 11.4 18.2\n",
      " 15.8 15.9 14.1 21.5 14.4 19.4 19.2 17.2 18.7 15.1 13.4 11.2 14.7 16.6\n",
      " 17.3 15.2 14.3 20.1 24.8 11.3 12.9 18.8 18.1 17.9 21.7 23.7 19.9 21.8\n",
      " 13.8 12.6 16.1 20.7 18.3 20.4 19.6 17.1 15.6 24.6 11.6]\n",
      "[70 71 72 73 74 75 76 77 78 79 80 81 82]\n",
      "[1 3 2]\n",
      "['chevrolet chevelle malibu' 'buick skylark 320' 'plymouth satellite'\n",
      " 'amc rebel sst' 'ford torino' 'ford galaxie 500' 'chevrolet impala'\n",
      " 'plymouth fury iii' 'pontiac catalina' 'amc ambassador dpl'\n",
      " 'dodge challenger se' \"plymouth 'cuda 340\" 'chevrolet monte carlo'\n",
      " 'buick estate wagon (sw)' 'toyota corona mark ii' 'plymouth duster'\n",
      " 'amc hornet' 'ford maverick' 'datsun pl510'\n",
      " 'volkswagen 1131 deluxe sedan' 'peugeot 504' 'audi 100 ls' 'saab 99e'\n",
      " 'bmw 2002' 'amc gremlin' 'ford f250' 'chevy c20' 'dodge d200' 'hi 1200d'\n",
      " 'chevrolet vega 2300' 'toyota corona' 'ford pinto'\n",
      " 'plymouth satellite custom' 'ford torino 500' 'amc matador'\n",
      " 'pontiac catalina brougham' 'dodge monaco (sw)'\n",
      " 'ford country squire (sw)' 'pontiac safari (sw)'\n",
      " 'amc hornet sportabout (sw)' 'chevrolet vega (sw)' 'pontiac firebird'\n",
      " 'ford mustang' 'mercury capri 2000' 'opel 1900' 'peugeot 304' 'fiat 124b'\n",
      " 'toyota corolla 1200' 'datsun 1200' 'volkswagen model 111'\n",
      " 'plymouth cricket' 'toyota corona hardtop' 'dodge colt hardtop'\n",
      " 'volkswagen type 3' 'chevrolet vega' 'ford pinto runabout'\n",
      " 'amc ambassador sst' 'mercury marquis' 'buick lesabre custom'\n",
      " 'oldsmobile delta 88 royale' 'chrysler newport royal' 'mazda rx2 coupe'\n",
      " 'amc matador (sw)' 'chevrolet chevelle concours (sw)'\n",
      " 'ford gran torino (sw)' 'plymouth satellite custom (sw)'\n",
      " 'volvo 145e (sw)' 'volkswagen 411 (sw)' 'peugeot 504 (sw)'\n",
      " 'renault 12 (sw)' 'ford pinto (sw)' 'datsun 510 (sw)'\n",
      " 'toyouta corona mark ii (sw)' 'dodge colt (sw)'\n",
      " 'toyota corolla 1600 (sw)' 'buick century 350' 'chevrolet malibu'\n",
      " 'ford gran torino' 'dodge coronet custom' 'mercury marquis brougham'\n",
      " 'chevrolet caprice classic' 'ford ltd' 'plymouth fury gran sedan'\n",
      " 'chrysler new yorker brougham' 'buick electra 225 custom'\n",
      " 'amc ambassador brougham' 'plymouth valiant' 'chevrolet nova custom'\n",
      " 'volkswagen super beetle' 'ford country' 'plymouth custom suburb'\n",
      " 'oldsmobile vista cruiser' 'toyota carina' 'datsun 610' 'maxda rx3'\n",
      " 'mercury capri v6' 'fiat 124 sport coupe' 'chevrolet monte carlo s'\n",
      " 'pontiac grand prix' 'fiat 128' 'opel manta' 'audi 100ls' 'volvo 144ea'\n",
      " 'dodge dart custom' 'saab 99le' 'toyota mark ii' 'oldsmobile omega'\n",
      " 'chevrolet nova' 'datsun b210' 'chevrolet chevelle malibu classic'\n",
      " 'plymouth satellite sebring' 'buick century luxus (sw)'\n",
      " 'dodge coronet custom (sw)' 'audi fox' 'volkswagen dasher' 'datsun 710'\n",
      " 'dodge colt' 'fiat 124 tc' 'honda civic' 'subaru' 'fiat x1.9'\n",
      " 'plymouth valiant custom' 'mercury monarch' 'chevrolet bel air'\n",
      " 'plymouth grand fury' 'buick century' 'chevroelt chevelle malibu'\n",
      " 'plymouth fury' 'buick skyhawk' 'chevrolet monza 2+2' 'ford mustang ii'\n",
      " 'toyota corolla' 'pontiac astro' 'volkswagen rabbit' 'amc pacer'\n",
      " 'volvo 244dl' 'honda civic cvcc' 'fiat 131' 'capri ii' 'renault 12tl'\n",
      " 'dodge coronet brougham' 'chevrolet chevette' 'chevrolet woody'\n",
      " 'vw rabbit' 'dodge aspen se' 'ford granada ghia' 'pontiac ventura sj'\n",
      " 'amc pacer d/l' 'datsun b-210' 'volvo 245' 'plymouth volare premier v8'\n",
      " 'mercedes-benz 280s' 'cadillac seville' 'chevy c10' 'ford f108'\n",
      " 'dodge d100' 'honda accord cvcc' 'buick opel isuzu deluxe'\n",
      " 'renault 5 gtl' 'plymouth arrow gs' 'datsun f-10 hatchback'\n",
      " 'oldsmobile cutlass supreme' 'dodge monaco brougham'\n",
      " 'mercury cougar brougham' 'chevrolet concours' 'buick skylark'\n",
      " 'plymouth volare custom' 'ford granada' 'pontiac grand prix lj'\n",
      " 'chevrolet monte carlo landau' 'chrysler cordoba' 'ford thunderbird'\n",
      " 'volkswagen rabbit custom' 'pontiac sunbird coupe'\n",
      " 'toyota corolla liftback' 'ford mustang ii 2+2' 'dodge colt m/m'\n",
      " 'subaru dl' 'datsun 810' 'bmw 320i' 'mazda rx-4'\n",
      " 'volkswagen rabbit custom diesel' 'ford fiesta' 'mazda glc deluxe'\n",
      " 'datsun b210 gx' 'oldsmobile cutlass salon brougham' 'dodge diplomat'\n",
      " 'mercury monarch ghia' 'pontiac phoenix lj' 'ford fairmont (auto)'\n",
      " 'ford fairmont (man)' 'plymouth volare' 'amc concord'\n",
      " 'buick century special' 'mercury zephyr' 'dodge aspen' 'amc concord d/l'\n",
      " 'buick regal sport coupe (turbo)' 'ford futura' 'dodge magnum xe'\n",
      " 'datsun 510' 'dodge omni' 'toyota celica gt liftback' 'plymouth sapporo'\n",
      " 'oldsmobile starfire sx' 'datsun 200-sx' 'audi 5000' 'volvo 264gl'\n",
      " 'saab 99gle' 'peugeot 604sl' 'volkswagen scirocco' 'honda accord lx'\n",
      " 'pontiac lemans v6' 'mercury zephyr 6' 'ford fairmont 4'\n",
      " 'amc concord dl 6' 'dodge aspen 6' 'ford ltd landau'\n",
      " 'mercury grand marquis' 'dodge st. regis' 'chevrolet malibu classic (sw)'\n",
      " 'chrysler lebaron town @ country (sw)' 'vw rabbit custom'\n",
      " 'maxda glc deluxe' 'dodge colt hatchback custom' 'amc spirit dl'\n",
      " 'mercedes benz 300d' 'cadillac eldorado' 'plymouth horizon'\n",
      " 'plymouth horizon tc3' 'datsun 210' 'fiat strada custom'\n",
      " 'buick skylark limited' 'chevrolet citation' 'oldsmobile omega brougham'\n",
      " 'pontiac phoenix' 'toyota corolla tercel' 'datsun 310' 'ford fairmont'\n",
      " 'audi 4000' 'toyota corona liftback' 'mazda 626' 'datsun 510 hatchback'\n",
      " 'mazda glc' 'vw rabbit c (diesel)' 'vw dasher (diesel)'\n",
      " 'audi 5000s (diesel)' 'mercedes-benz 240d' 'honda civic 1500 gl'\n",
      " 'renault lecar deluxe' 'vokswagen rabbit' 'datsun 280-zx' 'mazda rx-7 gs'\n",
      " 'triumph tr7 coupe' 'ford mustang cobra' 'honda accord'\n",
      " 'plymouth reliant' 'dodge aries wagon (sw)' 'toyota starlet'\n",
      " 'plymouth champ' 'honda civic 1300' 'datsun 210 mpg' 'toyota tercel'\n",
      " 'mazda glc 4' 'plymouth horizon 4' 'ford escort 4w' 'ford escort 2h'\n",
      " 'volkswagen jetta' 'renault 18i' 'honda prelude' 'datsun 200sx'\n",
      " 'peugeot 505s turbo diesel' 'volvo diesel' 'toyota cressida'\n",
      " 'datsun 810 maxima' 'oldsmobile cutlass ls' 'ford granada gl'\n",
      " 'chrysler lebaron salon' 'chevrolet cavalier' 'chevrolet cavalier wagon'\n",
      " 'chevrolet cavalier 2-door' 'pontiac j2000 se hatchback' 'dodge aries se'\n",
      " 'ford fairmont futura' 'amc concord dl' 'volkswagen rabbit l'\n",
      " 'mazda glc custom l' 'mazda glc custom' 'plymouth horizon miser'\n",
      " 'mercury lynx l' 'nissan stanza xe' 'honda civic (auto)' 'datsun 310 gx'\n",
      " 'buick century limited' 'oldsmobile cutlass ciera (diesel)'\n",
      " 'chrysler lebaron medallion' 'ford granada l' 'toyota celica gt'\n",
      " 'dodge charger 2.2' 'chevrolet camaro' 'ford mustang gl' 'vw pickup'\n",
      " 'dodge rampage' 'ford ranger' 'chevy s-10']\n"
     ]
    }
   ],
   "source": [
    "# [2-2]모순값 또는 노이즈 데이터 체크 : 다른 데이터와 다른 이상한 값 여부\n",
    "for col in auto_df.columns:\n",
    "    print(auto_df[col].unique())"
   ]
  },
  {
   "cell_type": "code",
   "execution_count": 44,
   "metadata": {},
   "outputs": [
    {
     "name": "stdout",
     "output_type": "stream",
     "text": [
      "--[mpg----------]\n",
      "13.0    20\n",
      "14.0    19\n",
      "18.0    17\n",
      "15.0    16\n",
      "26.0    14\n",
      "        ..\n",
      "31.9     1\n",
      "16.9     1\n",
      "18.2     1\n",
      "22.3     1\n",
      "44.0     1\n",
      "Name: mpg, Length: 129, dtype: int64\n",
      "--[cylinders----------]\n",
      "4    204\n",
      "8    103\n",
      "6     84\n",
      "3      4\n",
      "5      3\n",
      "Name: cylinders, dtype: int64\n",
      "--[displacement----------]\n",
      "97.0     21\n",
      "98.0     18\n",
      "350.0    18\n",
      "318.0    17\n",
      "250.0    17\n",
      "         ..\n",
      "104.0     1\n",
      "110.0     1\n",
      "130.0     1\n",
      "111.0     1\n",
      "144.0     1\n",
      "Name: displacement, Length: 82, dtype: int64\n",
      "--[horsepower----------]\n",
      "150    22\n",
      "90     20\n",
      "88     19\n",
      "110    18\n",
      "100    17\n",
      "       ..\n",
      "61      1\n",
      "93      1\n",
      "148     1\n",
      "152     1\n",
      "82      1\n",
      "Name: horsepower, Length: 94, dtype: int64\n",
      "--[weight----------]\n",
      "1985    4\n",
      "2130    4\n",
      "2125    3\n",
      "2945    3\n",
      "2265    3\n",
      "       ..\n",
      "2875    1\n",
      "3102    1\n",
      "3664    1\n",
      "2807    1\n",
      "2625    1\n",
      "Name: weight, Length: 351, dtype: int64\n",
      "--[acceleration----------]\n",
      "14.5    23\n",
      "15.5    21\n",
      "14.0    16\n",
      "16.0    16\n",
      "13.5    15\n",
      "        ..\n",
      "11.1     1\n",
      "12.1     1\n",
      "21.9     1\n",
      "22.1     1\n",
      "11.6     1\n",
      "Name: acceleration, Length: 95, dtype: int64\n",
      "--[model year----------]\n",
      "73    40\n",
      "78    36\n",
      "76    34\n",
      "82    31\n",
      "75    30\n",
      "70    29\n",
      "79    29\n",
      "80    29\n",
      "81    29\n",
      "71    28\n",
      "72    28\n",
      "77    28\n",
      "74    27\n",
      "Name: model year, dtype: int64\n",
      "--[origin----------]\n",
      "1    249\n",
      "3     79\n",
      "2     70\n",
      "Name: origin, dtype: int64\n",
      "--[car name----------]\n",
      "ford pinto             6\n",
      "toyota corolla         5\n",
      "amc matador            5\n",
      "ford maverick          5\n",
      "chevrolet chevette     4\n",
      "                      ..\n",
      "chevrolet monza 2+2    1\n",
      "ford mustang ii        1\n",
      "pontiac astro          1\n",
      "amc pacer              1\n",
      "chevy s-10             1\n",
      "Name: car name, Length: 305, dtype: int64\n"
     ]
    }
   ],
   "source": [
    "# 모순값 또는 노이즈 데이터 체크 : 다른 데이터와 다른 이상한 값 여부\n",
    "for col in auto_df.columns:\n",
    "    print(f\"--[{col}----------]\")\n",
    "    print(auto_df[col].value_counts())"
   ]
  },
  {
   "cell_type": "code",
   "execution_count": 46,
   "metadata": {},
   "outputs": [],
   "source": [
    "from sklearn.linear_model import LinearRegression"
   ]
  },
  {
   "cell_type": "code",
   "execution_count": 47,
   "metadata": {},
   "outputs": [],
   "source": [
    "# 다중선형회귀=============================================================\n",
    "model1=LinearRegression()"
   ]
  },
  {
   "cell_type": "code",
   "execution_count": 61,
   "metadata": {},
   "outputs": [],
   "source": [
    "# 데이터 분리\n",
    "from sklearn.model_selection import train_test_split\n",
    "\n",
    "X=auto_df[auto_df.columns[:-1]]\n",
    "y=auto_df.mpg\n",
    "X_train, X_test, y_train, y_test = train_test_split(X, y, train_size=0.8, random_state=1)"
   ]
  },
  {
   "cell_type": "code",
   "execution_count": 59,
   "metadata": {},
   "outputs": [
    {
     "data": {
      "text/plain": [
       "((398, 8), (398,))"
      ]
     },
     "execution_count": 59,
     "metadata": {},
     "output_type": "execute_result"
    }
   ],
   "source": [
    "X.shape, y.shape"
   ]
  },
  {
   "cell_type": "code",
   "execution_count": 53,
   "metadata": {},
   "outputs": [
    {
     "data": {
      "text/plain": [
       "LinearRegression()"
      ]
     },
     "execution_count": 53,
     "metadata": {},
     "output_type": "execute_result"
    }
   ],
   "source": [
    "model1.fit(X,y)"
   ]
  },
  {
   "cell_type": "code",
   "execution_count": 54,
   "metadata": {},
   "outputs": [
    {
     "data": {
      "text/plain": [
       "(array([-90.11698839]), 5089.487113013488)"
      ]
     },
     "execution_count": 54,
     "metadata": {},
     "output_type": "execute_result"
    }
   ],
   "source": [
    "# 회귀계수 확인\n",
    "model1.coef_, model1.intercept_"
   ]
  },
  {
   "cell_type": "code",
   "execution_count": 56,
   "metadata": {},
   "outputs": [
    {
     "data": {
      "text/plain": [
       "array([3467.38132193, 3737.73228711, 3467.38132193, 3647.61529871,\n",
       "       3557.49831032, 3737.73228711, 3827.8492755 , 3827.8492755 ,\n",
       "       3827.8492755 , 3737.73228711, 3737.73228711, 3827.8492755 ,\n",
       "       3737.73228711, 3827.8492755 , 2926.67939156, 3106.91336835,\n",
       "       3467.38132193, 3197.03035674, 2656.32842638, 2746.44541478,\n",
       "       2836.56240317, 2926.67939156, 2836.56240317, 2746.44541478,\n",
       "       3197.03035674, 4188.31722908, 4188.31722908, 4098.20024068,\n",
       "       4278.43421747, 2656.32842638, 2566.21143799, 2836.56240317,\n",
       "       2836.56240317, 3377.26433353, 3647.61529871, 3557.49831032,\n",
       "       3377.26433353, 3467.38132193, 3827.8492755 , 3827.8492755 ,\n",
       "       3827.8492755 , 3827.8492755 , 4008.08325229, 3917.96626389,\n",
       "       3917.96626389, 3467.38132193, 3106.91336835, 3377.26433353,\n",
       "       3467.38132193, 3016.79637996, 2566.21143799, 2385.9774612 ,\n",
       "       2385.9774612 , 2295.86047281, 1935.39251923, 2656.32842638,\n",
       "       2746.44541478, 2926.67939156, 2836.56240317, 3016.79637996,\n",
       "       3287.14734514, 3197.03035674, 3917.96626389, 3827.8492755 ,\n",
       "       3737.73228711, 3827.8492755 , 3557.49831032, 4098.20024068,\n",
       "       3917.96626389, 4008.08325229, 3917.96626389, 3377.26433353,\n",
       "       3737.73228711, 3917.96626389, 3917.96626389, 3827.8492755 ,\n",
       "       3467.38132193, 3106.91336835, 3197.03035674, 2746.44541478,\n",
       "       3106.91336835, 2566.21143799, 3016.79637996, 2566.21143799,\n",
       "       2656.32842638, 3917.96626389, 3827.8492755 , 3917.96626389,\n",
       "       3827.8492755 , 3737.73228711, 4008.08325229, 3917.96626389,\n",
       "       3917.96626389, 3827.8492755 , 3917.96626389, 4008.08325229,\n",
       "       3917.96626389, 3467.38132193, 3647.61529871, 3467.38132193,\n",
       "       3467.38132193, 3016.79637996, 2746.44541478, 4098.20024068,\n",
       "       4008.08325229, 3917.96626389, 4008.08325229, 3467.38132193,\n",
       "       3287.14734514, 3197.03035674, 3106.91336835, 3467.38132193,\n",
       "       3377.26433353, 3197.03035674, 2746.44541478, 3737.73228711,\n",
       "       3647.61529871, 2476.09444959, 2926.67939156, 3287.14734514,\n",
       "       3377.26433353, 3737.73228711, 2926.67939156, 3287.14734514,\n",
       "       4098.20024068, 3287.14734514, 3197.03035674, 3377.26433353,\n",
       "       3737.73228711, 2295.86047281, 2746.44541478, 2205.74348441,\n",
       "       2836.56240317, 3647.61529871, 3647.61529871, 3467.38132193,\n",
       "       3647.61529871, 3917.96626389, 3827.8492755 , 3827.8492755 ,\n",
       "       3827.8492755 , 2476.09444959, 2746.44541478, 2746.44541478,\n",
       "       2295.86047281, 2205.74348441, 2566.21143799, 2926.67939156,\n",
       "       2746.44541478, 2926.67939156, 2746.44541478, 2295.86047281,\n",
       "       3377.26433353, 3467.38132193, 3737.73228711, 3737.73228711,\n",
       "       3647.61529871, 3737.73228711, 3647.61529871, 3827.8492755 ,\n",
       "       3557.49831032, 3647.61529871, 3737.73228711, 3467.38132193,\n",
       "       3197.03035674, 3287.14734514, 3917.96626389, 2476.09444959,\n",
       "       3016.79637996, 3287.14734514, 3016.79637996, 2926.67939156,\n",
       "       2836.56240317, 2926.67939156, 3467.38132193, 2476.09444959,\n",
       "       3377.26433353, 3016.79637996, 3016.79637996, 3106.91336835,\n",
       "       2836.56240317, 2115.62649602, 2566.21143799, 2836.56240317,\n",
       "       2836.56240317, 2746.44541478, 2656.32842638, 3512.43981612,\n",
       "       3647.61529871, 3692.67379291, 3782.7907813 , 3106.91336835,\n",
       "       3106.91336835, 2926.67939156, 3061.85487415, 2476.09444959,\n",
       "       2881.62089737, 2476.09444959, 2115.62649602, 3287.14734514,\n",
       "       3467.38132193, 3422.32282773, 3512.43981612, 2431.0359554 ,\n",
       "       2205.74348441, 2566.21143799, 2701.38692058, 3287.14734514,\n",
       "       3917.96626389, 3377.26433353, 3377.26433353, 3602.55680452,\n",
       "       3602.55680452, 3917.96626389, 3917.96626389, 3917.96626389,\n",
       "       2250.80197861, 2385.9774612 , 1845.27553084, 2791.50390897,\n",
       "       2070.56800182, 3512.43981612, 3557.49831032, 3692.67379291,\n",
       "       3737.73228711, 3512.43981612, 3242.08885094, 3377.26433353,\n",
       "       3422.32282773, 3647.61529871, 3692.67379291, 3692.67379291,\n",
       "       3647.61529871, 2476.09444959, 2881.62089737, 2746.44541478,\n",
       "       2791.50390897, 2340.918967  , 2070.56800182, 2385.9774612 ,\n",
       "       2340.918967  , 3106.91336835, 3151.97186255, 3151.97186255,\n",
       "       1205.44491324, 1836.263832  , 2133.6498937 , 1538.8777703 ,\n",
       "       1836.263832  , 3296.15904398, 3341.21753817, 3269.12394746,\n",
       "       3359.24093585, 3242.08885094, 3269.12394746, 2827.55070433,\n",
       "       3242.08885094, 3341.21753817, 3233.0771521 , 3215.05375442,\n",
       "       3413.31112889, 3458.36962309, 3359.24093585, 3494.41641844,\n",
       "       3458.36962309, 3512.43981612, 2385.9774612 , 2611.26993219,\n",
       "       2638.3050287 , 2304.87217165, 3188.01865791, 2998.77298228,\n",
       "       2944.70278924, 2935.6910904 , 3260.11224862, 3557.49831032,\n",
       "       3142.96016371, 3629.59190103, 2250.80197861, 2431.0359554 ,\n",
       "       3151.97186255, 3305.17074282, 3079.87827183, 3269.12394746,\n",
       "       3233.0771521 , 3557.49831032, 3503.42811728, 3602.55680452,\n",
       "       3449.35792425, 3566.51000916, 3692.67379291, 3359.24093585,\n",
       "       3422.32282773, 2214.75518325, 2016.49780879, 1872.31062736,\n",
       "       2620.28163102, 2800.51560781, 3016.79637996, 2638.3050287 ,\n",
       "       2935.6910904 , 2007.48610995, 1980.45101343, 2223.76688209,\n",
       "       1728.12344593, 2530.16464263, 2494.11784727, 2674.35182406,\n",
       "       2070.56800182, 1349.63209467, 1656.02985521, 2196.73178557,\n",
       "       1737.13514477, 2566.21143799, 2710.39861942, 2899.64429505,\n",
       "       3368.25263469, 1998.47441111, 2404.00085888, 2268.82537629,\n",
       "       1755.15854244, 2187.72008673,  890.03545387, 2575.22313683,\n",
       "       1412.71398655, 1097.30452717, 1178.40981673, 1809.22873548,\n",
       "       2385.9774612 , 1070.26943065, 1403.70228771, 2043.5329053 ,\n",
       "       2404.00085888, 2142.66159254, 2953.71448808, 1935.39251923,\n",
       "       2962.72618692, 2169.69668906, 2638.3050287 , 2692.37522174,\n",
       "       2764.46881245, 2971.73788576, 2385.9774612 , 1565.91286682,\n",
       "       1574.92456566, 1926.38082039, 2178.7083879 , 1755.15854244,\n",
       "       1692.07665057, 2016.49780879, 1962.42761575, 1989.46271227,\n",
       "       2394.98916004, 2115.62649602, 1980.45101343, 2052.54460414,\n",
       "       2169.69668906, 2124.63819486, 2241.79027977, 2557.19973915,\n",
       "       2322.89556933, 2800.51560781, 2908.65599388, 3070.86657299,\n",
       "       2692.37522174, 3269.12394746, 3503.42811728, 2566.21143799,\n",
       "       2656.32842638, 2025.50950763, 2295.86047281, 2476.09444959,\n",
       "       2656.32842638, 2926.67939156, 3016.79637996, 1845.27553084,\n",
       "       1755.15854244, 2295.86047281, 1665.04155405, 1845.27553084,\n",
       "       1845.27553084, 1845.27553084, 2025.50950763, 1665.04155405,\n",
       "       2205.74348441, 1665.04155405, 2836.56240317, 1665.04155405,\n",
       "       2746.44541478, 3106.91336835, 2205.74348441, 1845.27553084,\n",
       "       2656.32842638, 2656.32842638, 1124.33962369, 2205.74348441,\n",
       "       2566.21143799, 2295.86047281])"
      ]
     },
     "execution_count": 56,
     "metadata": {},
     "output_type": "execute_result"
    }
   ],
   "source": [
    "# 예측 => predict(20)\n",
    "y_pre=model1.predict(X)\n",
    "y_pre"
   ]
  },
  {
   "cell_type": "code",
   "execution_count": 57,
   "metadata": {},
   "outputs": [
    {
     "data": {
      "text/plain": [
       "0.6917929800341573"
      ]
     },
     "execution_count": 57,
     "metadata": {},
     "output_type": "execute_result"
    }
   ],
   "source": [
    "# R2스퀘어 값\n",
    "model1.score(X,y)"
   ]
  },
  {
   "cell_type": "code",
   "execution_count": null,
   "metadata": {},
   "outputs": [],
   "source": []
  }
 ],
 "metadata": {
  "kernelspec": {
   "display_name": "ML",
   "language": "python",
   "name": "python3"
  },
  "language_info": {
   "codemirror_mode": {
    "name": "ipython",
    "version": 3
   },
   "file_extension": ".py",
   "mimetype": "text/x-python",
   "name": "python",
   "nbconvert_exporter": "python",
   "pygments_lexer": "ipython3",
   "version": "3.8.1"
  },
  "orig_nbformat": 4
 },
 "nbformat": 4,
 "nbformat_minor": 2
}
