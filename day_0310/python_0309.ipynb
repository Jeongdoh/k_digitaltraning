{
 "cells": [
  {
   "cell_type": "code",
   "execution_count": 28,
   "metadata": {},
   "outputs": [
    {
     "name": "stdout",
     "output_type": "stream",
     "text": [
      "반지름의 둘레 :  25.1335352\n"
     ]
    }
   ],
   "source": [
    "# 원의 둘레를 계산하는 함수 get_peri(radius)을 정의하고 테스트한다.\n",
    "# 만약 원의 반지름이 주어지지 않았으면 5.0으로 간주한다. 함수의 \"기본 인수를사용하라\"\n",
    "\n",
    "PI = 3.1416919   #파이 변수 생성\n",
    "   \n",
    "def get_peri(radius):   #원의 둘레 계산 함수 생성\n",
    "    get_peri_result = PI*radius* 2 # 원의 둘레 구하는 공식 = 파이 * 반지름 * 2\n",
    "    return get_peri_result\n",
    "\n",
    "print(\"반지름의 둘레 : \",get_peri(4))"
   ]
  },
  {
   "cell_type": "code",
   "execution_count": 33,
   "metadata": {},
   "outputs": [
    {
     "ename": "AttributeError",
     "evalue": "'str' object has no attribute 'append'",
     "output_type": "error",
     "traceback": [
      "\u001b[1;31m---------------------------------------------------------------------------\u001b[0m",
      "\u001b[1;31mAttributeError\u001b[0m                            Traceback (most recent call last)",
      "Cell \u001b[1;32mIn[33], line 35\u001b[0m\n\u001b[0;32m     30\u001b[0m         \u001b[39mprint\u001b[39m(\u001b[39mf\u001b[39m\u001b[39m'\u001b[39m\u001b[39m{\u001b[39;00mbook_title\u001b[39m}\u001b[39;00m\u001b[39m 이 반납 되었습니다.\u001b[39m\u001b[39m'\u001b[39m)\n\u001b[0;32m     33\u001b[0m library\u001b[39m=\u001b[39mLibrary(\u001b[39m\"\u001b[39m\u001b[39m모두의 파이썬\u001b[39m\u001b[39m\"\u001b[39m,\u001b[39m\"\u001b[39m\u001b[39m이승현\u001b[39m\u001b[39m\"\u001b[39m)\n\u001b[1;32m---> 35\u001b[0m library\u001b[39m.\u001b[39;49madd_book(\u001b[39m\"\u001b[39;49m\u001b[39m파이썬과 함께라면\u001b[39;49m\u001b[39m\"\u001b[39;49m)\n",
      "Cell \u001b[1;32mIn[33], line 16\u001b[0m, in \u001b[0;36mLibrary.add_book\u001b[1;34m(self, book_title)\u001b[0m\n\u001b[0;32m     14\u001b[0m         \u001b[39mbreak\u001b[39;00m\n\u001b[0;32m     15\u001b[0m \u001b[39melse\u001b[39;00m:\n\u001b[1;32m---> 16\u001b[0m     \u001b[39mself\u001b[39;49m\u001b[39m.\u001b[39;49mbook_list\u001b[39m.\u001b[39;49mappend(book(book_title, \u001b[39mself\u001b[39m))\n\u001b[0;32m     17\u001b[0m     \u001b[39mprint\u001b[39m(\u001b[39mf\u001b[39m\u001b[39m'\u001b[39m\u001b[39m{\u001b[39;00mbook_title\u001b[39m}\u001b[39;00m\u001b[39m 이 입고 되었습니다.\u001b[39m\u001b[39m'\u001b[39m)\n",
      "\u001b[1;31mAttributeError\u001b[0m: 'str' object has no attribute 'append'"
     ]
    }
   ],
   "source": [
    "#도서관 클래스 만들기\n",
    "class Library:\n",
    "    def __init__(self, name, book_list=[]):\n",
    "        self.name = name\n",
    "        self.book_list = book_list\n",
    "        \n",
    "    def print_info(self):\n",
    "        return f'{self.name}, {self.book_list}'\n",
    "        \n",
    "    def add_book(self, book_title):\n",
    "        for book in self.book_list:\n",
    "            if book.title == book_title:\n",
    "                print(f'{book_title}은 이미 있습니다.')\n",
    "                break\n",
    "        else:\n",
    "            self.book_list.append(book(book_title, self))\n",
    "            print(f'{book_title} 이 입고 되었습니다.')\n",
    "    \n",
    "    def borrow_book(self, book_title):\n",
    "        for book in self.book_list:\n",
    "            if book.title == book_title:\n",
    "                self.book_list.remove(book)\n",
    "                print(f'{book.title} 을 대출하였습니다.')\n",
    "                break\n",
    "        else:\n",
    "            print(f'{book_title} 은 도서목록에 없습니다.')\n",
    "\n",
    "    def return_book(self, book,book_title):\n",
    "        self.book_list.append(book(book_title, self))\n",
    "        print(f'{book_title} 이 반납 되었습니다.')\n",
    "\n",
    "\n",
    "library=Library(\"모두의 파이썬\",\"이승현\")\n",
    "\n",
    "library.add_book(\"파이썬과 함께라면\")\n"
   ]
  },
  {
   "cell_type": "code",
   "execution_count": 29,
   "metadata": {},
   "outputs": [
    {
     "ename": "ValueError",
     "evalue": "not enough values to unpack (expected 2, got 0)",
     "output_type": "error",
     "traceback": [
      "\u001b[1;31m---------------------------------------------------------------------------\u001b[0m",
      "\u001b[1;31mValueError\u001b[0m                                Traceback (most recent call last)",
      "Cell \u001b[1;32mIn[29], line 9\u001b[0m\n\u001b[0;32m      1\u001b[0m \u001b[39m##미완성\u001b[39;00m\n\u001b[0;32m      2\u001b[0m \n\u001b[0;32m      3\u001b[0m \u001b[39m#2개의 문자열을 받아서 이들 문자열에 모두 포함된 글자를 반환하는 프로그램을 작성하기\u001b[39;00m\n\u001b[1;32m   (...)\u001b[0m\n\u001b[0;32m      6\u001b[0m \n\u001b[0;32m      7\u001b[0m \u001b[39m# 모두 포함된 글자 : H W o e\u001b[39;00m\n\u001b[1;32m----> 9\u001b[0m a,b\u001b[39m=\u001b[39m\u001b[39minput\u001b[39m()\u001b[39m.\u001b[39msplit()\n\u001b[0;32m     10\u001b[0m ls\u001b[39m=\u001b[39m[]\n\u001b[0;32m     11\u001b[0m \u001b[39mfor\u001b[39;00m i \u001b[39min\u001b[39;00m a:\n",
      "\u001b[1;31mValueError\u001b[0m: not enough values to unpack (expected 2, got 0)"
     ]
    }
   ],
   "source": [
    "##미완성\n",
    "\n",
    "#2개의 문자열을 받아서 이들 문자열에 모두 포함된 글자를 반환하는 프로그램을 작성하기\n",
    "# 1.Hello World!\n",
    "# 2.Hi! Welcome!\n",
    "\n",
    "# 모두 포함된 글자 : H W o e\n",
    "\n",
    "a,b=input().split()\n",
    "ls=[]\n",
    "for i in a:\n",
    "    ls.append(i)\n",
    "for j in b:\n",
    "    if j in ls:\n",
    "        print(j,end=' ')\n",
    "#print(ls)"
   ]
  },
  {
   "cell_type": "code",
   "execution_count": null,
   "metadata": {},
   "outputs": [],
   "source": []
  },
  {
   "cell_type": "code",
   "execution_count": null,
   "metadata": {},
   "outputs": [],
   "source": []
  }
 ],
 "metadata": {
  "kernelspec": {
   "display_name": "base",
   "language": "python",
   "name": "python3"
  },
  "language_info": {
   "codemirror_mode": {
    "name": "ipython",
    "version": 3
   },
   "file_extension": ".py",
   "mimetype": "text/x-python",
   "name": "python",
   "nbconvert_exporter": "python",
   "pygments_lexer": "ipython3",
   "version": "3.8.1"
  },
  "orig_nbformat": 4
 },
 "nbformat": 4,
 "nbformat_minor": 2
}
