{
 "cells": [
  {
   "cell_type": "code",
   "execution_count": 2,
   "metadata": {},
   "outputs": [],
   "source": [
    "# 회귀분석\n",
    "\n",
    "#[1] 데이터 준비"
   ]
  },
  {
   "cell_type": "code",
   "execution_count": 1,
   "metadata": {},
   "outputs": [],
   "source": [
    "import numpy as np\n",
    "import matplotlib.pyplot as plt\n",
    "import pandas as pd\n",
    "import seaborn as sns"
   ]
  },
  {
   "cell_type": "code",
   "execution_count": 2,
   "metadata": {},
   "outputs": [],
   "source": [
    "# 데이터셋 불러오기\n",
    "bostonDF=pd.read_csv('./data/boston.csv')"
   ]
  },
  {
   "cell_type": "code",
   "execution_count": 3,
   "metadata": {},
   "outputs": [
    {
     "data": {
      "text/html": [
       "<div>\n",
       "<style scoped>\n",
       "    .dataframe tbody tr th:only-of-type {\n",
       "        vertical-align: middle;\n",
       "    }\n",
       "\n",
       "    .dataframe tbody tr th {\n",
       "        vertical-align: top;\n",
       "    }\n",
       "\n",
       "    .dataframe thead th {\n",
       "        text-align: right;\n",
       "    }\n",
       "</style>\n",
       "<table border=\"1\" class=\"dataframe\">\n",
       "  <thead>\n",
       "    <tr style=\"text-align: right;\">\n",
       "      <th></th>\n",
       "      <th>crim</th>\n",
       "      <th>zn</th>\n",
       "      <th>indus</th>\n",
       "      <th>chas</th>\n",
       "      <th>nox</th>\n",
       "      <th>rm</th>\n",
       "      <th>age</th>\n",
       "      <th>dis</th>\n",
       "      <th>rad</th>\n",
       "      <th>tax</th>\n",
       "      <th>ptratio</th>\n",
       "      <th>b</th>\n",
       "      <th>lstat</th>\n",
       "      <th>medv</th>\n",
       "    </tr>\n",
       "  </thead>\n",
       "  <tbody>\n",
       "    <tr>\n",
       "      <th>0</th>\n",
       "      <td>0.00632</td>\n",
       "      <td>18.0</td>\n",
       "      <td>2.31</td>\n",
       "      <td>0</td>\n",
       "      <td>0.538</td>\n",
       "      <td>6.575</td>\n",
       "      <td>65.2</td>\n",
       "      <td>4.0900</td>\n",
       "      <td>1</td>\n",
       "      <td>296</td>\n",
       "      <td>15.3</td>\n",
       "      <td>396.90</td>\n",
       "      <td>4.98</td>\n",
       "      <td>24.0</td>\n",
       "    </tr>\n",
       "    <tr>\n",
       "      <th>1</th>\n",
       "      <td>0.02731</td>\n",
       "      <td>0.0</td>\n",
       "      <td>7.07</td>\n",
       "      <td>0</td>\n",
       "      <td>0.469</td>\n",
       "      <td>6.421</td>\n",
       "      <td>78.9</td>\n",
       "      <td>4.9671</td>\n",
       "      <td>2</td>\n",
       "      <td>242</td>\n",
       "      <td>17.8</td>\n",
       "      <td>396.90</td>\n",
       "      <td>9.14</td>\n",
       "      <td>21.6</td>\n",
       "    </tr>\n",
       "    <tr>\n",
       "      <th>2</th>\n",
       "      <td>0.02729</td>\n",
       "      <td>0.0</td>\n",
       "      <td>7.07</td>\n",
       "      <td>0</td>\n",
       "      <td>0.469</td>\n",
       "      <td>7.185</td>\n",
       "      <td>61.1</td>\n",
       "      <td>4.9671</td>\n",
       "      <td>2</td>\n",
       "      <td>242</td>\n",
       "      <td>17.8</td>\n",
       "      <td>392.83</td>\n",
       "      <td>4.03</td>\n",
       "      <td>34.7</td>\n",
       "    </tr>\n",
       "    <tr>\n",
       "      <th>3</th>\n",
       "      <td>0.03237</td>\n",
       "      <td>0.0</td>\n",
       "      <td>2.18</td>\n",
       "      <td>0</td>\n",
       "      <td>0.458</td>\n",
       "      <td>6.998</td>\n",
       "      <td>45.8</td>\n",
       "      <td>6.0622</td>\n",
       "      <td>3</td>\n",
       "      <td>222</td>\n",
       "      <td>18.7</td>\n",
       "      <td>394.63</td>\n",
       "      <td>2.94</td>\n",
       "      <td>33.4</td>\n",
       "    </tr>\n",
       "    <tr>\n",
       "      <th>4</th>\n",
       "      <td>0.06905</td>\n",
       "      <td>0.0</td>\n",
       "      <td>2.18</td>\n",
       "      <td>0</td>\n",
       "      <td>0.458</td>\n",
       "      <td>7.147</td>\n",
       "      <td>54.2</td>\n",
       "      <td>6.0622</td>\n",
       "      <td>3</td>\n",
       "      <td>222</td>\n",
       "      <td>18.7</td>\n",
       "      <td>396.90</td>\n",
       "      <td>5.33</td>\n",
       "      <td>36.2</td>\n",
       "    </tr>\n",
       "    <tr>\n",
       "      <th>...</th>\n",
       "      <td>...</td>\n",
       "      <td>...</td>\n",
       "      <td>...</td>\n",
       "      <td>...</td>\n",
       "      <td>...</td>\n",
       "      <td>...</td>\n",
       "      <td>...</td>\n",
       "      <td>...</td>\n",
       "      <td>...</td>\n",
       "      <td>...</td>\n",
       "      <td>...</td>\n",
       "      <td>...</td>\n",
       "      <td>...</td>\n",
       "      <td>...</td>\n",
       "    </tr>\n",
       "    <tr>\n",
       "      <th>501</th>\n",
       "      <td>0.06263</td>\n",
       "      <td>0.0</td>\n",
       "      <td>11.93</td>\n",
       "      <td>0</td>\n",
       "      <td>0.573</td>\n",
       "      <td>6.593</td>\n",
       "      <td>69.1</td>\n",
       "      <td>2.4786</td>\n",
       "      <td>1</td>\n",
       "      <td>273</td>\n",
       "      <td>21.0</td>\n",
       "      <td>391.99</td>\n",
       "      <td>9.67</td>\n",
       "      <td>22.4</td>\n",
       "    </tr>\n",
       "    <tr>\n",
       "      <th>502</th>\n",
       "      <td>0.04527</td>\n",
       "      <td>0.0</td>\n",
       "      <td>11.93</td>\n",
       "      <td>0</td>\n",
       "      <td>0.573</td>\n",
       "      <td>6.120</td>\n",
       "      <td>76.7</td>\n",
       "      <td>2.2875</td>\n",
       "      <td>1</td>\n",
       "      <td>273</td>\n",
       "      <td>21.0</td>\n",
       "      <td>396.90</td>\n",
       "      <td>9.08</td>\n",
       "      <td>20.6</td>\n",
       "    </tr>\n",
       "    <tr>\n",
       "      <th>503</th>\n",
       "      <td>0.06076</td>\n",
       "      <td>0.0</td>\n",
       "      <td>11.93</td>\n",
       "      <td>0</td>\n",
       "      <td>0.573</td>\n",
       "      <td>6.976</td>\n",
       "      <td>91.0</td>\n",
       "      <td>2.1675</td>\n",
       "      <td>1</td>\n",
       "      <td>273</td>\n",
       "      <td>21.0</td>\n",
       "      <td>396.90</td>\n",
       "      <td>5.64</td>\n",
       "      <td>23.9</td>\n",
       "    </tr>\n",
       "    <tr>\n",
       "      <th>504</th>\n",
       "      <td>0.10959</td>\n",
       "      <td>0.0</td>\n",
       "      <td>11.93</td>\n",
       "      <td>0</td>\n",
       "      <td>0.573</td>\n",
       "      <td>6.794</td>\n",
       "      <td>89.3</td>\n",
       "      <td>2.3889</td>\n",
       "      <td>1</td>\n",
       "      <td>273</td>\n",
       "      <td>21.0</td>\n",
       "      <td>393.45</td>\n",
       "      <td>6.48</td>\n",
       "      <td>22.0</td>\n",
       "    </tr>\n",
       "    <tr>\n",
       "      <th>505</th>\n",
       "      <td>0.04741</td>\n",
       "      <td>0.0</td>\n",
       "      <td>11.93</td>\n",
       "      <td>0</td>\n",
       "      <td>0.573</td>\n",
       "      <td>6.030</td>\n",
       "      <td>80.8</td>\n",
       "      <td>2.5050</td>\n",
       "      <td>1</td>\n",
       "      <td>273</td>\n",
       "      <td>21.0</td>\n",
       "      <td>396.90</td>\n",
       "      <td>7.88</td>\n",
       "      <td>11.9</td>\n",
       "    </tr>\n",
       "  </tbody>\n",
       "</table>\n",
       "<p>506 rows × 14 columns</p>\n",
       "</div>"
      ],
      "text/plain": [
       "        crim    zn  indus  chas    nox     rm   age     dis  rad  tax  \\\n",
       "0    0.00632  18.0   2.31     0  0.538  6.575  65.2  4.0900    1  296   \n",
       "1    0.02731   0.0   7.07     0  0.469  6.421  78.9  4.9671    2  242   \n",
       "2    0.02729   0.0   7.07     0  0.469  7.185  61.1  4.9671    2  242   \n",
       "3    0.03237   0.0   2.18     0  0.458  6.998  45.8  6.0622    3  222   \n",
       "4    0.06905   0.0   2.18     0  0.458  7.147  54.2  6.0622    3  222   \n",
       "..       ...   ...    ...   ...    ...    ...   ...     ...  ...  ...   \n",
       "501  0.06263   0.0  11.93     0  0.573  6.593  69.1  2.4786    1  273   \n",
       "502  0.04527   0.0  11.93     0  0.573  6.120  76.7  2.2875    1  273   \n",
       "503  0.06076   0.0  11.93     0  0.573  6.976  91.0  2.1675    1  273   \n",
       "504  0.10959   0.0  11.93     0  0.573  6.794  89.3  2.3889    1  273   \n",
       "505  0.04741   0.0  11.93     0  0.573  6.030  80.8  2.5050    1  273   \n",
       "\n",
       "     ptratio       b  lstat  medv  \n",
       "0       15.3  396.90   4.98  24.0  \n",
       "1       17.8  396.90   9.14  21.6  \n",
       "2       17.8  392.83   4.03  34.7  \n",
       "3       18.7  394.63   2.94  33.4  \n",
       "4       18.7  396.90   5.33  36.2  \n",
       "..       ...     ...    ...   ...  \n",
       "501     21.0  391.99   9.67  22.4  \n",
       "502     21.0  396.90   9.08  20.6  \n",
       "503     21.0  396.90   5.64  23.9  \n",
       "504     21.0  393.45   6.48  22.0  \n",
       "505     21.0  396.90   7.88  11.9  \n",
       "\n",
       "[506 rows x 14 columns]"
      ]
     },
     "execution_count": 3,
     "metadata": {},
     "output_type": "execute_result"
    }
   ],
   "source": [
    "# 데이터 확인\n",
    "bostonDF"
   ]
  },
  {
   "cell_type": "code",
   "execution_count": 4,
   "metadata": {},
   "outputs": [
    {
     "name": "stdout",
     "output_type": "stream",
     "text": [
      "<class 'pandas.core.frame.DataFrame'>\n",
      "RangeIndex: 506 entries, 0 to 505\n",
      "Data columns (total 14 columns):\n",
      " #   Column   Non-Null Count  Dtype  \n",
      "---  ------   --------------  -----  \n",
      " 0   crim     506 non-null    float64\n",
      " 1   zn       506 non-null    float64\n",
      " 2   indus    506 non-null    float64\n",
      " 3   chas     506 non-null    int64  \n",
      " 4   nox      506 non-null    float64\n",
      " 5   rm       506 non-null    float64\n",
      " 6   age      506 non-null    float64\n",
      " 7   dis      506 non-null    float64\n",
      " 8   rad      506 non-null    int64  \n",
      " 9   tax      506 non-null    int64  \n",
      " 10  ptratio  506 non-null    float64\n",
      " 11  b        506 non-null    float64\n",
      " 12  lstat    506 non-null    float64\n",
      " 13  medv     506 non-null    float64\n",
      "dtypes: float64(11), int64(3)\n",
      "memory usage: 55.5 KB\n"
     ]
    }
   ],
   "source": [
    "# 정보확인\n",
    "bostonDF.info()"
   ]
  },
  {
   "cell_type": "code",
   "execution_count": 5,
   "metadata": {},
   "outputs": [
    {
     "data": {
      "text/plain": [
       "crim       1.000000\n",
       "zn         0.200469\n",
       "indus      0.406583\n",
       "chas       0.055892\n",
       "nox        0.420972\n",
       "rm         0.219247\n",
       "age        0.352734\n",
       "dis        0.379670\n",
       "rad        0.625505\n",
       "tax        0.582764\n",
       "ptratio    0.289946\n",
       "b          0.385064\n",
       "lstat      0.455621\n",
       "medv       0.388305\n",
       "Name: crim, dtype: float64"
      ]
     },
     "execution_count": 5,
     "metadata": {},
     "output_type": "execute_result"
    }
   ],
   "source": [
    "# 상관계수 확인\n",
    "sel=(abs(bostonDF.corr().crim))\n",
    "sel"
   ]
  },
  {
   "cell_type": "code",
   "execution_count": 6,
   "metadata": {},
   "outputs": [
    {
     "data": {
      "text/plain": [
       "crim       1.000000\n",
       "rad        0.625505\n",
       "tax        0.582764\n",
       "lstat      0.455621\n",
       "nox        0.420972\n",
       "indus      0.406583\n",
       "medv       0.388305\n",
       "b          0.385064\n",
       "dis        0.379670\n",
       "age        0.352734\n",
       "ptratio    0.289946\n",
       "rm         0.219247\n",
       "zn         0.200469\n",
       "chas       0.055892\n",
       "Name: crim, dtype: float64"
      ]
     },
     "execution_count": 6,
     "metadata": {},
     "output_type": "execute_result"
    }
   ],
   "source": [
    "sel.sort_values(ascending=False)"
   ]
  },
  {
   "cell_type": "code",
   "execution_count": 7,
   "metadata": {},
   "outputs": [
    {
     "data": {
      "text/plain": [
       "(array([ 15.,   2.,  58.,  15.,  35.,  69.,  76.,  40., 178.,  18.]),\n",
       " array([12.6 , 13.54, 14.48, 15.42, 16.36, 17.3 , 18.24, 19.18, 20.12,\n",
       "        21.06, 22.  ]),\n",
       " <BarContainer object of 10 artists>)"
      ]
     },
     "execution_count": 7,
     "metadata": {},
     "output_type": "execute_result"
    },
    {
     "data": {
      "image/png": "[encoded data removed]",
      "text/plain": [
       "<Figure size 640x480 with 1 Axes>"
      ]
     },
     "metadata": {},
     "output_type": "display_data"
    }
   ],
   "source": [
    "# 정규분포 확인-------------------------------------------------------\n",
    "plt.hist(bostonDF.ptratio)"
   ]
  },
  {
   "cell_type": "code",
   "execution_count": 8,
   "metadata": {},
   "outputs": [
    {
     "data": {
      "text/plain": [
       "[<matplotlib.lines.Line2D at 0x17b60b92710>]"
      ]
     },
     "execution_count": 8,
     "metadata": {},
     "output_type": "execute_result"
    },
    {
     "data": {
      "image/png": "[encoded data removed]",
      "text/plain": [
       "<Figure size 640x480 with 1 Axes>"
      ]
     },
     "metadata": {},
     "output_type": "display_data"
    }
   ],
   "source": [
    "# 선형관계 여부\n",
    "# 타겟: 집 가격 medv , 독립 : lstat, rm, ptratio\n",
    "plt.plot(bostonDF.medv,bostonDF.ptratio ,'r^')"
   ]
  },
  {
   "attachments": {},
   "cell_type": "markdown",
   "metadata": {},
   "source": [
    "### [2] 학습방법 설정 & 데이터 전처리----------------------------------------------------\n",
    "\n",
    "- 데이터 정제 : 결측치, 이상치, 중복값, 모순값...\n",
    "\n",
    "- 데이터 변형 : 수치형 => 범주형(이산화), 수치형-> 범위 scale(정규화)"
   ]
  },
  {
   "cell_type": "code",
   "execution_count": 9,
   "metadata": {},
   "outputs": [
    {
     "data": {
      "text/plain": [
       "crim       0\n",
       "zn         0\n",
       "indus      0\n",
       "chas       0\n",
       "nox        0\n",
       "rm         0\n",
       "age        0\n",
       "dis        0\n",
       "rad        0\n",
       "tax        0\n",
       "ptratio    0\n",
       "b          0\n",
       "lstat      0\n",
       "medv       0\n",
       "dtype: int64"
      ]
     },
     "execution_count": 9,
     "metadata": {},
     "output_type": "execute_result"
    }
   ],
   "source": [
    "#[2-1] 결측치 체크\n",
    "bostonDF.isna().sum()"
   ]
  },
  {
   "cell_type": "code",
   "execution_count": 10,
   "metadata": {},
   "outputs": [
    {
     "name": "stdout",
     "output_type": "stream",
     "text": [
      "--[crim----------]\n",
      "crim\n",
      "0.01501     2\n",
      "14.33370    2\n",
      "0.03466     1\n",
      "0.03113     1\n",
      "0.03049     1\n",
      "           ..\n",
      "1.51902     1\n",
      "1.83377     1\n",
      "1.46336     1\n",
      "1.27346     1\n",
      "0.04741     1\n",
      "Name: count, Length: 504, dtype: int64\n",
      "--[zn----------]\n",
      "zn\n",
      "0.0      372\n",
      "20.0      21\n",
      "80.0      15\n",
      "22.0      10\n",
      "12.5      10\n",
      "25.0      10\n",
      "40.0       7\n",
      "45.0       6\n",
      "30.0       6\n",
      "90.0       5\n",
      "95.0       4\n",
      "60.0       4\n",
      "21.0       4\n",
      "33.0       4\n",
      "55.0       3\n",
      "70.0       3\n",
      "34.0       3\n",
      "52.5       3\n",
      "35.0       3\n",
      "28.0       3\n",
      "75.0       3\n",
      "82.5       2\n",
      "85.0       2\n",
      "17.5       1\n",
      "100.0      1\n",
      "18.0       1\n",
      "Name: count, dtype: int64\n",
      "--[indus----------]\n",
      "indus\n",
      "18.10    132\n",
      "19.58     30\n",
      "8.14      22\n",
      "6.20      18\n",
      "21.89     15\n",
      "        ... \n",
      "1.21       1\n",
      "1.38       1\n",
      "3.75       1\n",
      "0.46       1\n",
      "2.31       1\n",
      "Name: count, Length: 76, dtype: int64\n",
      "--[chas----------]\n",
      "chas\n",
      "0    471\n",
      "1     35\n",
      "Name: count, dtype: int64\n",
      "--[nox----------]\n",
      "nox\n",
      "0.538    23\n",
      "0.713    18\n",
      "0.437    17\n",
      "0.871    16\n",
      "0.624    15\n",
      "         ..\n",
      "0.394     1\n",
      "0.518     1\n",
      "0.385     1\n",
      "0.389     1\n",
      "0.435     1\n",
      "Name: count, Length: 81, dtype: int64\n",
      "--[rm----------]\n",
      "rm\n",
      "5.713    3\n",
      "6.167    3\n",
      "6.127    3\n",
      "6.229    3\n",
      "6.405    3\n",
      "        ..\n",
      "5.859    1\n",
      "6.416    1\n",
      "5.572    1\n",
      "5.880    1\n",
      "6.976    1\n",
      "Name: count, Length: 446, dtype: int64\n",
      "--[age----------]\n",
      "age\n",
      "100.0    43\n",
      "95.4      4\n",
      "96.0      4\n",
      "98.2      4\n",
      "97.9      4\n",
      "         ..\n",
      "58.4      1\n",
      "74.4      1\n",
      "73.4      1\n",
      "33.1      1\n",
      "89.3      1\n",
      "Name: count, Length: 356, dtype: int64\n",
      "--[dis----------]\n",
      "dis\n",
      "3.4952    5\n",
      "5.7209    4\n",
      "5.2873    4\n",
      "6.8147    4\n",
      "5.4007    4\n",
      "         ..\n",
      "2.4220    1\n",
      "2.1620    1\n",
      "2.0407    1\n",
      "1.9709    1\n",
      "2.5050    1\n",
      "Name: count, Length: 412, dtype: int64\n",
      "--[rad----------]\n",
      "rad\n",
      "24    132\n",
      "5     115\n",
      "4     110\n",
      "3      38\n",
      "6      26\n",
      "2      24\n",
      "8      24\n",
      "1      20\n",
      "7      17\n",
      "Name: count, dtype: int64\n",
      "--[tax----------]\n",
      "tax\n",
      "666    132\n",
      "307     40\n",
      "403     30\n",
      "437     15\n",
      "304     14\n",
      "      ... \n",
      "285      1\n",
      "198      1\n",
      "256      1\n",
      "244      1\n",
      "313      1\n",
      "Name: count, Length: 66, dtype: int64\n",
      "--[ptratio----------]\n",
      "ptratio\n",
      "20.2    140\n",
      "14.7     34\n",
      "21.0     27\n",
      "17.8     23\n",
      "19.2     19\n",
      "17.4     18\n",
      "18.6     17\n",
      "19.1     17\n",
      "18.4     16\n",
      "16.6     16\n",
      "21.2     15\n",
      "15.2     13\n",
      "13.0     12\n",
      "17.9     11\n",
      "20.9     11\n",
      "18.7      9\n",
      "19.6      8\n",
      "19.7      8\n",
      "17.6      7\n",
      "16.4      6\n",
      "16.9      5\n",
      "16.0      5\n",
      "20.1      5\n",
      "18.0      5\n",
      "16.1      5\n",
      "19.0      4\n",
      "18.3      4\n",
      "16.8      4\n",
      "18.2      4\n",
      "14.9      4\n",
      "18.5      4\n",
      "17.0      4\n",
      "18.9      3\n",
      "12.6      3\n",
      "14.8      3\n",
      "15.3      3\n",
      "15.9      2\n",
      "15.6      2\n",
      "18.8      2\n",
      "22.0      2\n",
      "13.6      1\n",
      "15.1      1\n",
      "17.3      1\n",
      "21.1      1\n",
      "14.4      1\n",
      "15.5      1\n",
      "Name: count, dtype: int64\n",
      "--[b----------]\n",
      "b\n",
      "396.90    121\n",
      "393.74      3\n",
      "395.24      3\n",
      "376.14      2\n",
      "394.72      2\n",
      "         ... \n",
      "240.16      1\n",
      "389.61      1\n",
      "374.43      1\n",
      "338.92      1\n",
      "391.99      1\n",
      "Name: count, Length: 357, dtype: int64\n",
      "--[lstat----------]\n",
      "lstat\n",
      "7.79     3\n",
      "14.10    3\n",
      "6.36     3\n",
      "18.13    3\n",
      "8.05     3\n",
      "        ..\n",
      "3.32     1\n",
      "1.92     1\n",
      "1.73     1\n",
      "6.43     1\n",
      "7.88     1\n",
      "Name: count, Length: 455, dtype: int64\n",
      "--[medv----------]\n",
      "medv\n",
      "50.0    16\n",
      "25.0     8\n",
      "22.0     7\n",
      "21.7     7\n",
      "23.1     7\n",
      "        ..\n",
      "32.9     1\n",
      "34.6     1\n",
      "30.3     1\n",
      "33.3     1\n",
      "8.1      1\n",
      "Name: count, Length: 229, dtype: int64\n"
     ]
    }
   ],
   "source": [
    "# [2-2]모순값 또는 노이즈 데이터 체크 : 다른 데이터와 다른 이상한 값 여부\n",
    "for col in bostonDF.columns:\n",
    "    # print(bostonDF[col].unique())\n",
    "    print(f\"--[{col}----------]\")\n",
    "    print(bostonDF[col].value_counts())\n"
   ]
  },
  {
   "attachments": {},
   "cell_type": "markdown",
   "metadata": {},
   "source": [
    "### [3] 학습용 데이터랑 테스트용 데이터 준비----------------------------------------"
   ]
  },
  {
   "cell_type": "code",
   "execution_count": 11,
   "metadata": {},
   "outputs": [
    {
     "ename": "ModuleNotFoundError",
     "evalue": "No module named 'sklearn'",
     "output_type": "error",
     "traceback": [
      "\u001b[1;31m---------------------------------------------------------------------------\u001b[0m",
      "\u001b[1;31mModuleNotFoundError\u001b[0m                       Traceback (most recent call last)",
      "Cell \u001b[1;32mIn[11], line 1\u001b[0m\n\u001b[1;32m----> 1\u001b[0m \u001b[39mfrom\u001b[39;00m \u001b[39msklearn\u001b[39;00m\u001b[39m.\u001b[39;00m\u001b[39mmodel_selection\u001b[39;00m \u001b[39mimport\u001b[39;00m train_test_split\n",
      "\u001b[1;31mModuleNotFoundError\u001b[0m: No module named 'sklearn'"
     ]
    }
   ],
   "source": [
    "from sklearn.model_selection import train_test_split"
   ]
  },
  {
   "cell_type": "code",
   "execution_count": 14,
   "metadata": {},
   "outputs": [],
   "source": [
    "# 데이터 피쳐와 타겟 분리-------------------------------------------\n",
    "data=bostonDF[bostonDF.columns[:-1]]\n",
    "target=bostonDF.medv"
   ]
  },
  {
   "cell_type": "code",
   "execution_count": 15,
   "metadata": {},
   "outputs": [],
   "source": [
    "\n",
    "X_train, X_test, y_train, y_test=train_test_split(data, target)"
   ]
  },
  {
   "cell_type": "code",
   "execution_count": 16,
   "metadata": {},
   "outputs": [
    {
     "data": {
      "text/plain": [
       "(379, 127, 379, 127)"
      ]
     },
     "execution_count": 16,
     "metadata": {},
     "output_type": "execute_result"
    }
   ],
   "source": [
    "len(X_train), len(X_test), len(y_train), len(y_test)"
   ]
  },
  {
   "attachments": {},
   "cell_type": "markdown",
   "metadata": {},
   "source": [
    "### [4] 학습 진행----------------------------------------------------\n",
    "\n",
    "- 학습모델 객체 생성\n",
    "\n",
    "- 학습진행 <- 학습용 데이터\n",
    "\n",
    "- 모델평가 <- 예측과 정답 비교"
   ]
  },
  {
   "attachments": {},
   "cell_type": "markdown",
   "metadata": {},
   "source": [
    "### [4-1] 학습 모델 객체 생성"
   ]
  },
  {
   "cell_type": "code",
   "execution_count": 17,
   "metadata": {},
   "outputs": [],
   "source": [
    "from sklearn.linear_model import LinearRegression"
   ]
  },
  {
   "cell_type": "code",
   "execution_count": 18,
   "metadata": {},
   "outputs": [],
   "source": [
    "model=LinearRegression()"
   ]
  },
  {
   "attachments": {},
   "cell_type": "markdown",
   "metadata": {},
   "source": [
    "### [4-2] 학습진행 with X_train, y_train"
   ]
  },
  {
   "cell_type": "code",
   "execution_count": 19,
   "metadata": {},
   "outputs": [
    {
     "data": {
      "text/plain": [
       "LinearRegression()"
      ]
     },
     "execution_count": 19,
     "metadata": {},
     "output_type": "execute_result"
    }
   ],
   "source": [
    "model.fit(X_train,y_train)"
   ]
  },
  {
   "cell_type": "code",
   "execution_count": 20,
   "metadata": {},
   "outputs": [
    {
     "data": {
      "text/plain": [
       "(array([-1.08732206e-01,  3.97503900e-02,  3.81409362e-02,  2.26156350e+00,\n",
       "        -1.97313646e+01,  3.38181110e+00,  1.00817030e-02, -1.57998343e+00,\n",
       "         3.36906531e-01, -1.23841923e-02, -9.81126888e-01,  1.10347026e-02,\n",
       "        -6.05345127e-01]),\n",
       " 40.59614779240534)"
      ]
     },
     "execution_count": 20,
     "metadata": {},
     "output_type": "execute_result"
    }
   ],
   "source": [
    "# 회귀계수, 절편 => 집가격 = 범죄율 * coef_1+....+하위계층*coef_13 + intercept_\n",
    "model.coef_,model.intercept_"
   ]
  },
  {
   "attachments": {},
   "cell_type": "markdown",
   "metadata": {},
   "source": [
    "### [4-3] 평가\n",
    "\n",
    "- predict() 예측값, 실제값 비교"
   ]
  },
  {
   "cell_type": "code",
   "execution_count": 21,
   "metadata": {},
   "outputs": [],
   "source": [
    "from sklearn.metrics import mean_absolute_error, mean_squared_error, r2_score, mean_squared_log_error"
   ]
  },
  {
   "cell_type": "code",
   "execution_count": 22,
   "metadata": {},
   "outputs": [],
   "source": [
    "y_pre=model.predict(X_test)"
   ]
  },
  {
   "cell_type": "code",
   "execution_count": 23,
   "metadata": {},
   "outputs": [
    {
     "data": {
      "text/plain": [
       "3.4"
      ]
     },
     "execution_count": 23,
     "metadata": {},
     "output_type": "execute_result"
    }
   ],
   "source": [
    "# 실제값과 예측값을 뺀 차이 => 잔차\n",
    "# 잔차 확인\n",
    "round(mean_absolute_error(y_test,y_pre),2)"
   ]
  },
  {
   "cell_type": "code",
   "execution_count": 24,
   "metadata": {},
   "outputs": [
    {
     "data": {
      "text/plain": [
       "0.09"
      ]
     },
     "execution_count": 24,
     "metadata": {},
     "output_type": "execute_result"
    }
   ],
   "source": [
    "round(mean_squared_log_error(y_test,y_pre),2)"
   ]
  },
  {
   "cell_type": "code",
   "execution_count": 25,
   "metadata": {},
   "outputs": [
    {
     "data": {
      "text/plain": [
       "19.64"
      ]
     },
     "execution_count": 25,
     "metadata": {},
     "output_type": "execute_result"
    }
   ],
   "source": [
    "round(mean_squared_error(y_test,y_pre),2)"
   ]
  },
  {
   "cell_type": "code",
   "execution_count": 26,
   "metadata": {},
   "outputs": [
    {
     "data": {
      "text/plain": [
       "0.77"
      ]
     },
     "execution_count": 26,
     "metadata": {},
     "output_type": "execute_result"
    }
   ],
   "source": [
    "# 모델 예측 성능 평가 => R2\n",
    "round(r2_score(y_test,y_pre),2)"
   ]
  },
  {
   "cell_type": "code",
   "execution_count": 27,
   "metadata": {},
   "outputs": [
    {
     "data": {
      "text/plain": [
       "(3.4, 19.64, 0.09, 0.77)"
      ]
     },
     "execution_count": 27,
     "metadata": {},
     "output_type": "execute_result"
    }
   ],
   "source": [
    "# 회귀용 성능평가 함수------------------------------------------------\n",
    "def getEvalueate(y_test,y_pre):\n",
    "    mae=round(mean_absolute_error(y_test,y_pre),2)\n",
    "    mse=round(mean_squared_error(y_test,y_pre),2)\n",
    "    rmse=round(mean_squared_log_error(y_test,y_pre),2)\n",
    "    r2=round(r2_score(y_test,y_pre),2)\n",
    "\n",
    "    return mae, mse, rmse,r2\n",
    "\n",
    "getEvalueate(y_test,y_pre)"
   ]
  },
  {
   "attachments": {},
   "cell_type": "markdown",
   "metadata": {},
   "source": [
    "### 성능이 좋지 않는 모델 개선-----------------------------------------\n",
    "\n",
    "- 데이터 수는 충분한가?? ---> 교차검증 cross_val_score(), cross_validate()\n",
    "\n",
    "- 데이터 전처리는 문제가 없는가? -> 정규화, 선형, 수치 피쳐 정규화, 타겟 수치 피쳐 정규화...\n",
    "\n",
    "- 모델은 괜찮은가?--> 다른 선형회귀 모델 ??"
   ]
  },
  {
   "cell_type": "code",
   "execution_count": 28,
   "metadata": {},
   "outputs": [],
   "source": [
    "# [1] 교차 검증\n",
    "from sklearn.model_selection import cross_val_score, cross_validate\n",
    "lr = LinearRegression()"
   ]
  },
  {
   "cell_type": "code",
   "execution_count": 29,
   "metadata": {},
   "outputs": [],
   "source": [
    "lr = LinearRegression()"
   ]
  },
  {
   "cell_type": "code",
   "execution_count": 30,
   "metadata": {},
   "outputs": [
    {
     "data": {
      "text/plain": [
       "(379, 379, 127, 127)"
      ]
     },
     "execution_count": 30,
     "metadata": {},
     "output_type": "execute_result"
    }
   ],
   "source": [
    "len(X_train), len(y_train), len(X_test), len(y_test)"
   ]
  },
  {
   "cell_type": "code",
   "execution_count": 31,
   "metadata": {},
   "outputs": [
    {
     "data": {
      "text/plain": [
       "array([-23.60411428, -22.69052948, -30.19322314, -24.97924848,\n",
       "       -24.879992  ])"
      ]
     },
     "execution_count": 31,
     "metadata": {},
     "output_type": "execute_result"
    }
   ],
   "source": [
    "# 교차검증 진행\n",
    "\n",
    "cross_val_score(lr, X_train,y_train, scoring=\"neg_mean_squared_error\")"
   ]
  },
  {
   "cell_type": "code",
   "execution_count": 32,
   "metadata": {},
   "outputs": [
    {
     "data": {
      "text/plain": [
       "{'fit_time': array([0.00200438, 0.00200224, 0.00200748, 0.00198293, 0.00198364,\n",
       "        0.00199938, 0.00098157, 0.00098634, 0.00100899, 0.00099659,\n",
       "        0.00099683, 0.00099659, 0.0019927 , 0.0009954 , 0.00098825,\n",
       "        0.00099254, 0.00100732, 0.00099564, 0.00099802, 0.00200534,\n",
       "        0.00198436, 0.00099301, 0.00099683, 0.00099778, 0.00199604,\n",
       "        0.00100994, 0.00100541, 0.00200391, 0.00099874, 0.00200295]),\n",
       " 'score_time': array([0.00198269, 0.00098705, 0.00099301, 0.00100684, 0.0009954 ,\n",
       "        0.00200248, 0.0010159 , 0.00099564, 0.00099373, 0.0009973 ,\n",
       "        0.00098753, 0.00099921, 0.00100541, 0.00099659, 0.00099587,\n",
       "        0.0009861 , 0.00099659, 0.00098681, 0.00199294, 0.00099564,\n",
       "        0.00100851, 0.00099635, 0.00099635, 0.0009954 , 0.00098681,\n",
       "        0.00099277, 0.00198507, 0.0019908 , 0.00198388, 0.00198364]),\n",
       " 'estimator': (LinearRegression(),\n",
       "  LinearRegression(),\n",
       "  LinearRegression(),\n",
       "  LinearRegression(),\n",
       "  LinearRegression(),\n",
       "  LinearRegression(),\n",
       "  LinearRegression(),\n",
       "  LinearRegression(),\n",
       "  LinearRegression(),\n",
       "  LinearRegression(),\n",
       "  LinearRegression(),\n",
       "  LinearRegression(),\n",
       "  LinearRegression(),\n",
       "  LinearRegression(),\n",
       "  LinearRegression(),\n",
       "  LinearRegression(),\n",
       "  LinearRegression(),\n",
       "  LinearRegression(),\n",
       "  LinearRegression(),\n",
       "  LinearRegression(),\n",
       "  LinearRegression(),\n",
       "  LinearRegression(),\n",
       "  LinearRegression(),\n",
       "  LinearRegression(),\n",
       "  LinearRegression(),\n",
       "  LinearRegression(),\n",
       "  LinearRegression(),\n",
       "  LinearRegression(),\n",
       "  LinearRegression(),\n",
       "  LinearRegression()),\n",
       " 'test_r2': array([ 0.68330002,  0.62699445,  0.82841289,  0.66002992,  0.72065123,\n",
       "         0.86425944,  0.47511779,  0.84284853,  0.80987774,  0.82595543,\n",
       "         0.73945666,  0.50220542, -0.67115368,  0.8065717 ,  0.46108509,\n",
       "         0.4206541 ,  0.58501929,  0.50344298,  0.58322922,  0.83720333,\n",
       "         0.65880354,  0.64267756,  0.7051114 ,  0.85707957,  0.68726399,\n",
       "         0.88670966,  0.23786685,  0.64622047,  0.75016412,  0.56139169]),\n",
       " 'test_neg_mean_squared_error': array([-48.31312547, -18.40285763, -17.05116991, -17.34676206,\n",
       "        -26.35049035, -11.83383013, -52.4197063 , -12.97221219,\n",
       "        -21.68667269, -13.75063349, -21.56142581, -10.16408173,\n",
       "        -17.13713707, -22.70504834, -65.60794742, -23.22477742,\n",
       "        -13.54678758, -53.99496405, -31.38732778, -11.93312051,\n",
       "        -17.53541305, -36.68339159, -34.49023265, -10.45022238,\n",
       "        -23.12126815,  -7.73354467, -67.67530705, -28.66938384,\n",
       "        -11.89279511, -10.14561939])}"
      ]
     },
     "execution_count": 32,
     "metadata": {},
     "output_type": "execute_result"
    }
   ],
   "source": [
    "cross_validate(lr, X_train,y_train, scoring=[\"r2\",\"neg_mean_squared_error\"],cv = 30, return_estimator = True)"
   ]
  },
  {
   "attachments": {},
   "cell_type": "markdown",
   "metadata": {},
   "source": [
    "### 여기부터"
   ]
  },
  {
   "cell_type": "code",
   "execution_count": null,
   "metadata": {},
   "outputs": [],
   "source": []
  }
 ],
 "metadata": {
  "kernelspec": {
   "display_name": "ML",
   "language": "python",
   "name": "python3"
  },
  "language_info": {
   "codemirror_mode": {
    "name": "ipython",
    "version": 3
   },
   "file_extension": ".py",
   "mimetype": "text/x-python",
   "name": "python",
   "nbconvert_exporter": "python",
   "pygments_lexer": "ipython3",
   "version": "3.11.4"
  },
  "orig_nbformat": 4
 },
 "nbformat": 4,
 "nbformat_minor": 2
}
