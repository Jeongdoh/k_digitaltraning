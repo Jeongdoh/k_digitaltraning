{
 "cells": [
  {
   "cell_type": "code",
   "execution_count": 1,
   "metadata": {},
   "outputs": [],
   "source": [
    "class Myclass:\n",
    "    # 클래스 변수\n",
    "    loc=\"Daegu\"\n",
    "\n",
    "    def __init__(self,name):\n",
    "        self.name=name\n",
    "\n",
    "    def display(self):\n",
    "        print(f\"당신의 이름은 {self.name}이군요.\")\n",
    "        print(f\"당신의 고향은 {self.loc}이군요.\")\n",
    "    \n",
    "    def check():\n",
    "        print(f\"당신의 고향은 {Myclass.loc}이군요.\")"
   ]
  },
  {
   "cell_type": "code",
   "execution_count": 2,
   "metadata": {},
   "outputs": [],
   "source": [
    "# 객체 생성\n",
    "me=Myclass(\"Hong\")"
   ]
  },
  {
   "cell_type": "code",
   "execution_count": 6,
   "metadata": {},
   "outputs": [
    {
     "name": "stdout",
     "output_type": "stream",
     "text": [
      "당신의 이름은 Hong이군요.\n",
      "당신의 고향은 Daegu이군요.\n"
     ]
    }
   ],
   "source": [
    "me.display()"
   ]
  },
  {
   "cell_type": "code",
   "execution_count": 9,
   "metadata": {},
   "outputs": [],
   "source": [
    "# 이렇게 부르면 오류남\n",
    "#me.check()"
   ]
  },
  {
   "cell_type": "code",
   "execution_count": 10,
   "metadata": {},
   "outputs": [
    {
     "name": "stdout",
     "output_type": "stream",
     "text": [
      "당신의 고향은 Daegu이군요.\n"
     ]
    }
   ],
   "source": [
    "# 이렇게 써야함\n",
    "#class 펑션 : 객체 생성 없이 그대로 쓸 수 있음\n",
    "Myclass.check()"
   ]
  },
  {
   "attachments": {},
   "cell_type": "markdown",
   "metadata": {},
   "source": [
    "### 모델 성능향상을 위한 튜닝"
   ]
  },
  {
   "cell_type": "code",
   "execution_count": null,
   "metadata": {},
   "outputs": [],
   "source": []
  }
 ],
 "metadata": {
  "kernelspec": {
   "display_name": "ML",
   "language": "python",
   "name": "python3"
  },
  "language_info": {
   "codemirror_mode": {
    "name": "ipython",
    "version": 3
   },
   "file_extension": ".py",
   "mimetype": "text/x-python",
   "name": "python",
   "nbconvert_exporter": "python",
   "pygments_lexer": "ipython3",
   "version": "3.8.1"
  },
  "orig_nbformat": 4
 },
 "nbformat": 4,
 "nbformat_minor": 2
}
