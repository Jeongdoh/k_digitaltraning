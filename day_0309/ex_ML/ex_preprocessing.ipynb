{
 "cells": [
  {
   "attachments": {},
   "cell_type": "markdown",
   "metadata": {},
   "source": [
    "### 데이터 전처리(Processing)=================================================\n",
    "\n",
    "-데이터 분석\n",
    "\n",
    "    *결측치 체크 및 처리\n",
    "    *중복체크 및 처리\n",
    "    *이상치 체크 및 처리\n",
    "    *데이터 타입 정리 => (실제 값 2.39--string타입)\n",
    "    *데이터 타입 변환 => (실제 값 32, 21, 9, 3.....---범주형 데이터 타입)\n",
    "    *데이터 타입 인코딩 처리 => (문자형 데이터 ---> 숫자형)\n",
    "    *데이터 스케일링 처리 => (수치 데이터 ---> 값의 범위 일치)"
   ]
  },
  {
   "cell_type": "code",
   "execution_count": 1,
   "metadata": {},
   "outputs": [],
   "source": [
    "# 모듈 로딩--------------------------------------------------------------------------------\n",
    "import pandas as pd\n",
    "from numpy import nan"
   ]
  },
  {
   "cell_type": "code",
   "execution_count": 8,
   "metadata": {},
   "outputs": [],
   "source": [
    "# 데이터 생성-------------------------------------------------------------------------------\n",
    "names=[\"홍길동\", \"이나영\", \"마징가\", \"변사또\", \"원더우먼\", \"원빈\", \"현빈\", \"박보검\", \"오우영\", \"김동우\"]\n",
    "\n",
    "ages= [0,4,21,20,38,100,40,61,11,20]\n",
    "genders=['M','F','M','M','F','M','M','M','M','M']"
   ]
  },
  {
   "cell_type": "code",
   "execution_count": 9,
   "metadata": {},
   "outputs": [],
   "source": [
    "personDF=pd.DataFrame({'names':names,'ages':ages,'genders':genders})"
   ]
  },
  {
   "cell_type": "code",
   "execution_count": 10,
   "metadata": {},
   "outputs": [
    {
     "data": {
      "text/html": [
       "<div>\n",
       "<style scoped>\n",
       "    .dataframe tbody tr th:only-of-type {\n",
       "        vertical-align: middle;\n",
       "    }\n",
       "\n",
       "    .dataframe tbody tr th {\n",
       "        vertical-align: top;\n",
       "    }\n",
       "\n",
       "    .dataframe thead th {\n",
       "        text-align: right;\n",
       "    }\n",
       "</style>\n",
       "<table border=\"1\" class=\"dataframe\">\n",
       "  <thead>\n",
       "    <tr style=\"text-align: right;\">\n",
       "      <th></th>\n",
       "      <th>names</th>\n",
       "      <th>ages</th>\n",
       "      <th>genders</th>\n",
       "    </tr>\n",
       "  </thead>\n",
       "  <tbody>\n",
       "    <tr>\n",
       "      <th>0</th>\n",
       "      <td>홍길동</td>\n",
       "      <td>0</td>\n",
       "      <td>M</td>\n",
       "    </tr>\n",
       "    <tr>\n",
       "      <th>1</th>\n",
       "      <td>이나영</td>\n",
       "      <td>4</td>\n",
       "      <td>F</td>\n",
       "    </tr>\n",
       "    <tr>\n",
       "      <th>2</th>\n",
       "      <td>마징가</td>\n",
       "      <td>21</td>\n",
       "      <td>M</td>\n",
       "    </tr>\n",
       "  </tbody>\n",
       "</table>\n",
       "</div>"
      ],
      "text/plain": [
       "  names  ages genders\n",
       "0   홍길동     0       M\n",
       "1   이나영     4       F\n",
       "2   마징가    21       M"
      ]
     },
     "execution_count": 10,
     "metadata": {},
     "output_type": "execute_result"
    }
   ],
   "source": [
    "personDF.head(3)"
   ]
  },
  {
   "cell_type": "code",
   "execution_count": 12,
   "metadata": {},
   "outputs": [
    {
     "data": {
      "text/plain": [
       "names      object\n",
       "ages        int64\n",
       "genders    object\n",
       "dtype: object"
      ]
     },
     "execution_count": 12,
     "metadata": {},
     "output_type": "execute_result"
    }
   ],
   "source": [
    "personDF.dtypes"
   ]
  },
  {
   "attachments": {},
   "cell_type": "markdown",
   "metadata": {},
   "source": [
    "### [데이터 전처리] -\n",
    "\n",
    "### (1) 데이터 타입 체크 및 처리--------------------------------------------------------\n",
    "- astype(\"데이터타입\") : 반드시 원본 저장해야 적용됨, inplace 매개변수 없음"
   ]
  },
  {
   "cell_type": "code",
   "execution_count": 15,
   "metadata": {},
   "outputs": [
    {
     "data": {
      "text/plain": [
       "0    M\n",
       "1    F\n",
       "2    M\n",
       "3    M\n",
       "4    F\n",
       "5    M\n",
       "6    M\n",
       "7    M\n",
       "8    M\n",
       "9    M\n",
       "Name: genders, dtype: category\n",
       "Categories (2, object): ['F', 'M']"
      ]
     },
     "execution_count": 15,
     "metadata": {},
     "output_type": "execute_result"
    }
   ],
   "source": [
    "## 성별 컬럼을 object ===> category\n",
    "personDF.genders.astype('category')"
   ]
  },
  {
   "attachments": {},
   "cell_type": "markdown",
   "metadata": {},
   "source": [
    "### (2) 연속형 데이터 => 범주형 데이터로 변환--------------------------------------------------------------\n",
    "* astype('데이터타입') => 대량 범주형 생성 문제\n",
    "* cut(데이터, 구간정보, 구간라벨) => 범위 즉 구간 설정 => 범주로 변경"
   ]
  },
  {
   "cell_type": "code",
   "execution_count": 17,
   "metadata": {},
   "outputs": [
    {
     "data": {
      "text/plain": [
       "0      0\n",
       "1      4\n",
       "2     21\n",
       "3     20\n",
       "4     38\n",
       "5    100\n",
       "6     40\n",
       "7     61\n",
       "8     11\n",
       "9     20\n",
       "Name: ages, dtype: int64"
      ]
     },
     "execution_count": 17,
     "metadata": {},
     "output_type": "execute_result"
    }
   ],
   "source": [
    "personDF.ages # --> 연령대 범주형\n",
    "# 아동, 청소년, 청년, 중년, 장년, 노년"
   ]
  },
  {
   "cell_type": "code",
   "execution_count": 27,
   "metadata": {},
   "outputs": [],
   "source": [
    "ret1,bins=pd.cut(personDF.ages, bins=5, labels=['아동기','청년','중년','장년','노년'],\n",
    "            right=False, retbins=True, include_lowest=True)"
   ]
  },
  {
   "cell_type": "code",
   "execution_count": 28,
   "metadata": {},
   "outputs": [
    {
     "data": {
      "text/plain": [
       "0    아동기\n",
       "1    아동기\n",
       "2     청년\n",
       "3     청년\n",
       "4     청년\n",
       "5     노년\n",
       "6     중년\n",
       "7     장년\n",
       "8    아동기\n",
       "9     청년\n",
       "Name: ages, dtype: category\n",
       "Categories (5, object): ['아동기' < '청년' < '중년' < '장년' < '노년']"
      ]
     },
     "execution_count": 28,
     "metadata": {},
     "output_type": "execute_result"
    }
   ],
   "source": [
    "ret1"
   ]
  },
  {
   "cell_type": "code",
   "execution_count": 29,
   "metadata": {},
   "outputs": [
    {
     "data": {
      "text/plain": [
       "array([  0. ,  20. ,  40. ,  60. ,  80. , 100.1])"
      ]
     },
     "execution_count": 29,
     "metadata": {},
     "output_type": "execute_result"
    }
   ],
   "source": [
    "bins"
   ]
  },
  {
   "cell_type": "code",
   "execution_count": null,
   "metadata": {},
   "outputs": [],
   "source": [
    "sel=p2.loc[0,'아동기':]\n",
    "\n",
    "sel.to"
   ]
  }
 ],
 "metadata": {
  "kernelspec": {
   "display_name": "ML",
   "language": "python",
   "name": "python3"
  },
  "language_info": {
   "codemirror_mode": {
    "name": "ipython",
    "version": 3
   },
   "file_extension": ".py",
   "mimetype": "text/x-python",
   "name": "python",
   "nbconvert_exporter": "python",
   "pygments_lexer": "ipython3",
   "version": "3.8.1"
  },
  "orig_nbformat": 4
 },
 "nbformat": 4,
 "nbformat_minor": 2
}
