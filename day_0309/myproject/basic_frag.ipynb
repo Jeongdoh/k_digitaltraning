{
 "cells": [
  {
   "cell_type": "code",
   "execution_count": 1,
   "metadata": {},
   "outputs": [],
   "source": [
    "import pandas as pd \n",
    "fragrance_df=pd.read_csv('./MyData/fragrance_add.csv')"
   ]
  },
  {
   "cell_type": "code",
   "execution_count": 2,
   "metadata": {},
   "outputs": [
    {
     "data": {
      "text/html": [
       "<div>\n",
       "<style scoped>\n",
       "    .dataframe tbody tr th:only-of-type {\n",
       "        vertical-align: middle;\n",
       "    }\n",
       "\n",
       "    .dataframe tbody tr th {\n",
       "        vertical-align: top;\n",
       "    }\n",
       "\n",
       "    .dataframe thead th {\n",
       "        text-align: right;\n",
       "    }\n",
       "</style>\n",
       "<table border=\"1\" class=\"dataframe\">\n",
       "  <thead>\n",
       "    <tr style=\"text-align: right;\">\n",
       "      <th></th>\n",
       "      <th>브랜드</th>\n",
       "      <th>이름</th>\n",
       "      <th>성별</th>\n",
       "      <th>TPO</th>\n",
       "      <th>계절감</th>\n",
       "      <th>향의농도</th>\n",
       "      <th>특성</th>\n",
       "      <th>Unnamed: 7</th>\n",
       "      <th>Unnamed: 8</th>\n",
       "      <th>Unnamed: 9</th>\n",
       "      <th>...</th>\n",
       "      <th>Unnamed: 17</th>\n",
       "      <th>Unnamed: 18</th>\n",
       "      <th>Unnamed: 19</th>\n",
       "      <th>Unnamed: 20</th>\n",
       "      <th>Unnamed: 21</th>\n",
       "      <th>Unnamed: 22</th>\n",
       "      <th>Unnamed: 23</th>\n",
       "      <th>Unnamed: 24</th>\n",
       "      <th>Unnamed: 25</th>\n",
       "      <th>Unnamed: 26</th>\n",
       "    </tr>\n",
       "  </thead>\n",
       "  <tbody>\n",
       "    <tr>\n",
       "      <th>0</th>\n",
       "      <td>1</td>\n",
       "      <td>롬브로단로EDP</td>\n",
       "      <td>중성</td>\n",
       "      <td>캐쥬얼,포멀</td>\n",
       "      <td>사계절</td>\n",
       "      <td>무거운</td>\n",
       "      <td>플로럴,그린,우디,얼씨,프루티</td>\n",
       "      <td>NaN</td>\n",
       "      <td>NaN</td>\n",
       "      <td>NaN</td>\n",
       "      <td>...</td>\n",
       "      <td>중성3</td>\n",
       "      <td>NaN</td>\n",
       "      <td>NaN</td>\n",
       "      <td>NaN</td>\n",
       "      <td>NaN</td>\n",
       "      <td>NaN</td>\n",
       "      <td>NaN</td>\n",
       "      <td>NaN</td>\n",
       "      <td>NaN</td>\n",
       "      <td>NaN</td>\n",
       "    </tr>\n",
       "    <tr>\n",
       "      <th>1</th>\n",
       "      <td>1</td>\n",
       "      <td>필로시코스EDP</td>\n",
       "      <td>여성</td>\n",
       "      <td>캐쥬얼</td>\n",
       "      <td>봄,여름</td>\n",
       "      <td>가벼운</td>\n",
       "      <td>그린,프레쉬,우디,얼씨,프루티</td>\n",
       "      <td>NaN</td>\n",
       "      <td>NaN</td>\n",
       "      <td>NaN</td>\n",
       "      <td>...</td>\n",
       "      <td>NaN</td>\n",
       "      <td>NaN</td>\n",
       "      <td>NaN</td>\n",
       "      <td>NaN</td>\n",
       "      <td>NaN</td>\n",
       "      <td>NaN</td>\n",
       "      <td>NaN</td>\n",
       "      <td>NaN</td>\n",
       "      <td>NaN</td>\n",
       "      <td>NaN</td>\n",
       "    </tr>\n",
       "    <tr>\n",
       "      <th>2</th>\n",
       "      <td>1</td>\n",
       "      <td>베티베리오EDP</td>\n",
       "      <td>중성</td>\n",
       "      <td>캐쥬얼,포멀</td>\n",
       "      <td>가을,겨울</td>\n",
       "      <td>무거운</td>\n",
       "      <td>우디,시트러스,얼씨,그린,플로럴</td>\n",
       "      <td>NaN</td>\n",
       "      <td>NaN</td>\n",
       "      <td>NaN</td>\n",
       "      <td>...</td>\n",
       "      <td>NaN</td>\n",
       "      <td>NaN</td>\n",
       "      <td>NaN</td>\n",
       "      <td>NaN</td>\n",
       "      <td>NaN</td>\n",
       "      <td>NaN</td>\n",
       "      <td>NaN</td>\n",
       "      <td>NaN</td>\n",
       "      <td>NaN</td>\n",
       "      <td>NaN</td>\n",
       "    </tr>\n",
       "  </tbody>\n",
       "</table>\n",
       "<p>3 rows × 27 columns</p>\n",
       "</div>"
      ],
      "text/plain": [
       "   브랜드        이름  성별     TPO    계절감 향의농도                 특성  Unnamed: 7  \\\n",
       "0    1  롬브로단로EDP  중성  캐쥬얼,포멀    사계절  무거운   플로럴,그린,우디,얼씨,프루티         NaN   \n",
       "1    1  필로시코스EDP  여성     캐쥬얼   봄,여름  가벼운   그린,프레쉬,우디,얼씨,프루티         NaN   \n",
       "2    1  베티베리오EDP  중성  캐쥬얼,포멀  가을,겨울  무거운  우디,시트러스,얼씨,그린,플로럴         NaN   \n",
       "\n",
       "   Unnamed: 8  Unnamed: 9  ...  Unnamed: 17 Unnamed: 18 Unnamed: 19  \\\n",
       "0         NaN         NaN  ...          중성3         NaN         NaN   \n",
       "1         NaN         NaN  ...          NaN         NaN         NaN   \n",
       "2         NaN         NaN  ...          NaN         NaN         NaN   \n",
       "\n",
       "   Unnamed: 20  Unnamed: 21 Unnamed: 22 Unnamed: 23 Unnamed: 24 Unnamed: 25  \\\n",
       "0          NaN          NaN         NaN         NaN         NaN         NaN   \n",
       "1          NaN          NaN         NaN         NaN         NaN         NaN   \n",
       "2          NaN          NaN         NaN         NaN         NaN         NaN   \n",
       "\n",
       "  Unnamed: 26  \n",
       "0         NaN  \n",
       "1         NaN  \n",
       "2         NaN  \n",
       "\n",
       "[3 rows x 27 columns]"
      ]
     },
     "execution_count": 2,
     "metadata": {},
     "output_type": "execute_result"
    }
   ],
   "source": [
    "fragrance_df.head(3)"
   ]
  },
  {
   "cell_type": "code",
   "execution_count": 3,
   "metadata": {},
   "outputs": [],
   "source": [
    "perfume=fragrance_df.iloc[:182,:6]"
   ]
  },
  {
   "cell_type": "code",
   "execution_count": 4,
   "metadata": {},
   "outputs": [
    {
     "data": {
      "text/html": [
       "<div>\n",
       "<style scoped>\n",
       "    .dataframe tbody tr th:only-of-type {\n",
       "        vertical-align: middle;\n",
       "    }\n",
       "\n",
       "    .dataframe tbody tr th {\n",
       "        vertical-align: top;\n",
       "    }\n",
       "\n",
       "    .dataframe thead th {\n",
       "        text-align: right;\n",
       "    }\n",
       "</style>\n",
       "<table border=\"1\" class=\"dataframe\">\n",
       "  <thead>\n",
       "    <tr style=\"text-align: right;\">\n",
       "      <th></th>\n",
       "      <th>브랜드</th>\n",
       "      <th>이름</th>\n",
       "      <th>성별</th>\n",
       "      <th>TPO</th>\n",
       "      <th>계절감</th>\n",
       "      <th>향의농도</th>\n",
       "    </tr>\n",
       "  </thead>\n",
       "  <tbody>\n",
       "    <tr>\n",
       "      <th>0</th>\n",
       "      <td>1</td>\n",
       "      <td>롬브로단로EDP</td>\n",
       "      <td>중성</td>\n",
       "      <td>캐쥬얼,포멀</td>\n",
       "      <td>사계절</td>\n",
       "      <td>무거운</td>\n",
       "    </tr>\n",
       "    <tr>\n",
       "      <th>1</th>\n",
       "      <td>1</td>\n",
       "      <td>필로시코스EDP</td>\n",
       "      <td>여성</td>\n",
       "      <td>캐쥬얼</td>\n",
       "      <td>봄,여름</td>\n",
       "      <td>가벼운</td>\n",
       "    </tr>\n",
       "    <tr>\n",
       "      <th>2</th>\n",
       "      <td>1</td>\n",
       "      <td>베티베리오EDP</td>\n",
       "      <td>중성</td>\n",
       "      <td>캐쥬얼,포멀</td>\n",
       "      <td>가을,겨울</td>\n",
       "      <td>무거운</td>\n",
       "    </tr>\n",
       "    <tr>\n",
       "      <th>3</th>\n",
       "      <td>1</td>\n",
       "      <td>도손EDP</td>\n",
       "      <td>중성</td>\n",
       "      <td>캐쥬얼,포멀</td>\n",
       "      <td>봄,가을,겨울</td>\n",
       "      <td>무거운</td>\n",
       "    </tr>\n",
       "    <tr>\n",
       "      <th>4</th>\n",
       "      <td>1</td>\n",
       "      <td>도손EDT</td>\n",
       "      <td>여성</td>\n",
       "      <td>캐쥬얼</td>\n",
       "      <td>사계절</td>\n",
       "      <td>중간</td>\n",
       "    </tr>\n",
       "    <tr>\n",
       "      <th>...</th>\n",
       "      <td>...</td>\n",
       "      <td>...</td>\n",
       "      <td>...</td>\n",
       "      <td>...</td>\n",
       "      <td>...</td>\n",
       "      <td>...</td>\n",
       "    </tr>\n",
       "    <tr>\n",
       "      <th>177</th>\n",
       "      <td>31</td>\n",
       "      <td>압셍트보레알EDP</td>\n",
       "      <td>중성</td>\n",
       "      <td>캐쥬얼,포멀</td>\n",
       "      <td>봄,여름,가을</td>\n",
       "      <td>중간</td>\n",
       "    </tr>\n",
       "    <tr>\n",
       "      <th>178</th>\n",
       "      <td>31</td>\n",
       "      <td>리스솔라베르그EDP</td>\n",
       "      <td>여성</td>\n",
       "      <td>캐쥬얼,포멀</td>\n",
       "      <td>봄,가을,겨울</td>\n",
       "      <td>중간</td>\n",
       "    </tr>\n",
       "    <tr>\n",
       "      <th>179</th>\n",
       "      <td>32</td>\n",
       "      <td>블랙팬텀EDP</td>\n",
       "      <td>남성</td>\n",
       "      <td>포멀</td>\n",
       "      <td>가을,겨울</td>\n",
       "      <td>무거운</td>\n",
       "    </tr>\n",
       "    <tr>\n",
       "      <th>180</th>\n",
       "      <td>32</td>\n",
       "      <td>엔젤스쉐어EDP</td>\n",
       "      <td>중성</td>\n",
       "      <td>캐쥬얼,포멀</td>\n",
       "      <td>가을,겨울</td>\n",
       "      <td>무거운</td>\n",
       "    </tr>\n",
       "    <tr>\n",
       "      <th>181</th>\n",
       "      <td>32</td>\n",
       "      <td>굿걸곤배드</td>\n",
       "      <td>여성</td>\n",
       "      <td>캐쥬얼,포멀</td>\n",
       "      <td>봄,여름,가을</td>\n",
       "      <td>가벼운</td>\n",
       "    </tr>\n",
       "  </tbody>\n",
       "</table>\n",
       "<p>182 rows × 6 columns</p>\n",
       "</div>"
      ],
      "text/plain": [
       "     브랜드          이름  성별     TPO      계절감 향의농도\n",
       "0      1    롬브로단로EDP  중성  캐쥬얼,포멀      사계절  무거운\n",
       "1      1    필로시코스EDP  여성     캐쥬얼     봄,여름  가벼운\n",
       "2      1    베티베리오EDP  중성  캐쥬얼,포멀    가을,겨울  무거운\n",
       "3      1       도손EDP  중성  캐쥬얼,포멀  봄,가을,겨울  무거운\n",
       "4      1       도손EDT  여성     캐쥬얼      사계절   중간\n",
       "..   ...         ...  ..     ...      ...  ...\n",
       "177   31   압셍트보레알EDP  중성  캐쥬얼,포멀  봄,여름,가을   중간\n",
       "178   31  리스솔라베르그EDP  여성  캐쥬얼,포멀  봄,가을,겨울   중간\n",
       "179   32     블랙팬텀EDP  남성      포멀    가을,겨울  무거운\n",
       "180   32    엔젤스쉐어EDP  중성  캐쥬얼,포멀    가을,겨울  무거운\n",
       "181   32       굿걸곤배드  여성  캐쥬얼,포멀  봄,여름,가을  가벼운\n",
       "\n",
       "[182 rows x 6 columns]"
      ]
     },
     "execution_count": 4,
     "metadata": {},
     "output_type": "execute_result"
    }
   ],
   "source": [
    "perfume"
   ]
  },
  {
   "cell_type": "code",
   "execution_count": 5,
   "metadata": {},
   "outputs": [
    {
     "name": "stdout",
     "output_type": "stream",
     "text": [
      "0        1\n",
      "1        2\n",
      "2        3\n",
      "3        4\n",
      "4        5\n",
      "      ... \n",
      "177    178\n",
      "178    179\n",
      "179    180\n",
      "180    181\n",
      "181    182\n",
      "Name: 이름, Length: 182, dtype: int64\n"
     ]
    },
    {
     "name": "stderr",
     "output_type": "stream",
     "text": [
      "C:\\Users\\y2kjd\\AppData\\Local\\Temp\\ipykernel_26584\\3651513133.py:2: DeprecationWarning: In a future version, `df.iloc[:, i] = newvals` will attempt to set the values inplace instead of always setting a new array. To retain the old behavior, use either `df[df.columns[i]] = newvals` or, if columns are non-unique, `df.isetitem(i, newvals)`\n",
      "  perfume.iloc[:,1] = pd.factorize(perfume.iloc[:,1])[0] + 1\n"
     ]
    }
   ],
   "source": [
    "# 'col1' 열을 숫자로 바꾸기\n",
    "perfume.iloc[:,1] = pd.factorize(perfume.iloc[:,1])[0] + 1\n",
    "\n",
    "print(perfume.iloc[:,1])"
   ]
  },
  {
   "cell_type": "code",
   "execution_count": 6,
   "metadata": {},
   "outputs": [
    {
     "name": "stdout",
     "output_type": "stream",
     "text": [
      "     브랜드   이름  성별  TPO      계절감 향의농도\n",
      "0      1    1   3    3      사계절  무거운\n",
      "1      1    2   2    1     봄,여름  가벼운\n",
      "2      1    3   3    3    가을,겨울  무거운\n",
      "3      1    4   3    3  봄,가을,겨울  무거운\n",
      "4      1    5   2    1      사계절   중간\n",
      "..   ...  ...  ..  ...      ...  ...\n",
      "177   31  178   3    3  봄,여름,가을   중간\n",
      "178   31  179   2    3  봄,가을,겨울   중간\n",
      "179   32  180   1    2    가을,겨울  무거운\n",
      "180   32  181   3    3    가을,겨울  무거운\n",
      "181   32  182   2    3  봄,여름,가을  가벼운\n",
      "\n",
      "[182 rows x 6 columns]\n"
     ]
    }
   ],
   "source": [
    "# 문자열을 숫자로 바꾸기 위한 매핑 딕셔너리 생성\n",
    "mapping = {'남성': 1, '여성': 2, '중성': 3}\n",
    "\n",
    "# 'col1' 열의 값을 매핑 딕셔너리를 사용하여 숫자로 변환\n",
    "perfume['성별'] = perfume['성별'].map(mapping)\n",
    "\n",
    "\n",
    "\n",
    "# 문자열을 숫자로 바꾸기 위한 매핑 딕셔너리 생성\n",
    "mapping = {'캐쥬얼': 1, '포멀': 2, '캐쥬얼,포멀': 3}\n",
    "\n",
    "# 'col1' 열의 값을 매핑 딕셔너리를 사용하여 숫자로 변환\n",
    "perfume['TPO'] = perfume['TPO'].map(mapping)\n",
    "\n",
    "print(perfume)"
   ]
  },
  {
   "cell_type": "code",
   "execution_count": 7,
   "metadata": {},
   "outputs": [],
   "source": [
    "# 문자열을 숫자로 바꾸기 위한 매핑 딕셔너리 생성\n",
    "mapping = {'가벼운': 1, '무거운': 2, '중간': 3}\n",
    "\n",
    "# 'col1' 열의 값을 매핑 딕셔너리를 사용하여 숫자로 변환\n",
    "perfume['향의농도'] = perfume['향의농도'].map(mapping)\n",
    "\n",
    "\n",
    "\n",
    "\n",
    "# 문자열을 숫자로 바꾸기 위한 매핑 딕셔너리 생성\n",
    "mapping = {'봄,여름': 1, '봄,가을': 2, '봄,여름,가을': 3, '봄,가을,겨울':4, '여름,가을,겨울':5, '가을,겨울':6, '사계절':7}\n",
    "\n",
    "# 'col1' 열의 값을 매핑 딕셔너리를 사용하여 숫자로 변환\n",
    "perfume['계절감'] = perfume['계절감'].map(mapping)"
   ]
  },
  {
   "cell_type": "code",
   "execution_count": 8,
   "metadata": {},
   "outputs": [
    {
     "data": {
      "text/html": [
       "<div>\n",
       "<style scoped>\n",
       "    .dataframe tbody tr th:only-of-type {\n",
       "        vertical-align: middle;\n",
       "    }\n",
       "\n",
       "    .dataframe tbody tr th {\n",
       "        vertical-align: top;\n",
       "    }\n",
       "\n",
       "    .dataframe thead th {\n",
       "        text-align: right;\n",
       "    }\n",
       "</style>\n",
       "<table border=\"1\" class=\"dataframe\">\n",
       "  <thead>\n",
       "    <tr style=\"text-align: right;\">\n",
       "      <th></th>\n",
       "      <th>브랜드</th>\n",
       "      <th>이름</th>\n",
       "      <th>성별</th>\n",
       "      <th>TPO</th>\n",
       "      <th>계절감</th>\n",
       "      <th>향의농도</th>\n",
       "    </tr>\n",
       "  </thead>\n",
       "  <tbody>\n",
       "    <tr>\n",
       "      <th>0</th>\n",
       "      <td>1</td>\n",
       "      <td>1</td>\n",
       "      <td>3</td>\n",
       "      <td>3</td>\n",
       "      <td>7</td>\n",
       "      <td>2</td>\n",
       "    </tr>\n",
       "    <tr>\n",
       "      <th>1</th>\n",
       "      <td>1</td>\n",
       "      <td>2</td>\n",
       "      <td>2</td>\n",
       "      <td>1</td>\n",
       "      <td>1</td>\n",
       "      <td>1</td>\n",
       "    </tr>\n",
       "    <tr>\n",
       "      <th>2</th>\n",
       "      <td>1</td>\n",
       "      <td>3</td>\n",
       "      <td>3</td>\n",
       "      <td>3</td>\n",
       "      <td>6</td>\n",
       "      <td>2</td>\n",
       "    </tr>\n",
       "    <tr>\n",
       "      <th>3</th>\n",
       "      <td>1</td>\n",
       "      <td>4</td>\n",
       "      <td>3</td>\n",
       "      <td>3</td>\n",
       "      <td>4</td>\n",
       "      <td>2</td>\n",
       "    </tr>\n",
       "    <tr>\n",
       "      <th>4</th>\n",
       "      <td>1</td>\n",
       "      <td>5</td>\n",
       "      <td>2</td>\n",
       "      <td>1</td>\n",
       "      <td>7</td>\n",
       "      <td>3</td>\n",
       "    </tr>\n",
       "    <tr>\n",
       "      <th>...</th>\n",
       "      <td>...</td>\n",
       "      <td>...</td>\n",
       "      <td>...</td>\n",
       "      <td>...</td>\n",
       "      <td>...</td>\n",
       "      <td>...</td>\n",
       "    </tr>\n",
       "    <tr>\n",
       "      <th>177</th>\n",
       "      <td>31</td>\n",
       "      <td>178</td>\n",
       "      <td>3</td>\n",
       "      <td>3</td>\n",
       "      <td>3</td>\n",
       "      <td>3</td>\n",
       "    </tr>\n",
       "    <tr>\n",
       "      <th>178</th>\n",
       "      <td>31</td>\n",
       "      <td>179</td>\n",
       "      <td>2</td>\n",
       "      <td>3</td>\n",
       "      <td>4</td>\n",
       "      <td>3</td>\n",
       "    </tr>\n",
       "    <tr>\n",
       "      <th>179</th>\n",
       "      <td>32</td>\n",
       "      <td>180</td>\n",
       "      <td>1</td>\n",
       "      <td>2</td>\n",
       "      <td>6</td>\n",
       "      <td>2</td>\n",
       "    </tr>\n",
       "    <tr>\n",
       "      <th>180</th>\n",
       "      <td>32</td>\n",
       "      <td>181</td>\n",
       "      <td>3</td>\n",
       "      <td>3</td>\n",
       "      <td>6</td>\n",
       "      <td>2</td>\n",
       "    </tr>\n",
       "    <tr>\n",
       "      <th>181</th>\n",
       "      <td>32</td>\n",
       "      <td>182</td>\n",
       "      <td>2</td>\n",
       "      <td>3</td>\n",
       "      <td>3</td>\n",
       "      <td>1</td>\n",
       "    </tr>\n",
       "  </tbody>\n",
       "</table>\n",
       "<p>182 rows × 6 columns</p>\n",
       "</div>"
      ],
      "text/plain": [
       "     브랜드   이름  성별  TPO  계절감  향의농도\n",
       "0      1    1   3    3    7     2\n",
       "1      1    2   2    1    1     1\n",
       "2      1    3   3    3    6     2\n",
       "3      1    4   3    3    4     2\n",
       "4      1    5   2    1    7     3\n",
       "..   ...  ...  ..  ...  ...   ...\n",
       "177   31  178   3    3    3     3\n",
       "178   31  179   2    3    4     3\n",
       "179   32  180   1    2    6     2\n",
       "180   32  181   3    3    6     2\n",
       "181   32  182   2    3    3     1\n",
       "\n",
       "[182 rows x 6 columns]"
      ]
     },
     "execution_count": 8,
     "metadata": {},
     "output_type": "execute_result"
    }
   ],
   "source": [
    "perfume"
   ]
  },
  {
   "cell_type": "code",
   "execution_count": 9,
   "metadata": {},
   "outputs": [],
   "source": [
    "import pycaret"
   ]
  },
  {
   "cell_type": "code",
   "execution_count": 10,
   "metadata": {},
   "outputs": [],
   "source": [
    "from pycaret.classification import *"
   ]
  },
  {
   "cell_type": "code",
   "execution_count": 11,
   "metadata": {},
   "outputs": [
    {
     "data": {
      "text/html": [
       "<style type=\"text/css\">\n",
       "#T_c284e_row44_col1 {\n",
       "  background-color: lightgreen;\n",
       "}\n",
       "</style>\n",
       "<table id=\"T_c284e\">\n",
       "  <thead>\n",
       "    <tr>\n",
       "      <th class=\"blank level0\" >&nbsp;</th>\n",
       "      <th id=\"T_c284e_level0_col0\" class=\"col_heading level0 col0\" >Description</th>\n",
       "      <th id=\"T_c284e_level0_col1\" class=\"col_heading level0 col1\" >Value</th>\n",
       "    </tr>\n",
       "  </thead>\n",
       "  <tbody>\n",
       "    <tr>\n",
       "      <th id=\"T_c284e_level0_row0\" class=\"row_heading level0 row0\" >0</th>\n",
       "      <td id=\"T_c284e_row0_col0\" class=\"data row0 col0\" >session_id</td>\n",
       "      <td id=\"T_c284e_row0_col1\" class=\"data row0 col1\" >4984</td>\n",
       "    </tr>\n",
       "    <tr>\n",
       "      <th id=\"T_c284e_level0_row1\" class=\"row_heading level0 row1\" >1</th>\n",
       "      <td id=\"T_c284e_row1_col0\" class=\"data row1 col0\" >Target</td>\n",
       "      <td id=\"T_c284e_row1_col1\" class=\"data row1 col1\" >이름</td>\n",
       "    </tr>\n",
       "    <tr>\n",
       "      <th id=\"T_c284e_level0_row2\" class=\"row_heading level0 row2\" >2</th>\n",
       "      <td id=\"T_c284e_row2_col0\" class=\"data row2 col0\" >Target Type</td>\n",
       "      <td id=\"T_c284e_row2_col1\" class=\"data row2 col1\" >Multiclass</td>\n",
       "    </tr>\n",
       "    <tr>\n",
       "      <th id=\"T_c284e_level0_row3\" class=\"row_heading level0 row3\" >3</th>\n",
       "      <td id=\"T_c284e_row3_col0\" class=\"data row3 col0\" >Label Encoded</td>\n",
       "      <td id=\"T_c284e_row3_col1\" class=\"data row3 col1\" >None</td>\n",
       "    </tr>\n",
       "    <tr>\n",
       "      <th id=\"T_c284e_level0_row4\" class=\"row_heading level0 row4\" >4</th>\n",
       "      <td id=\"T_c284e_row4_col0\" class=\"data row4 col0\" >Original Data</td>\n",
       "      <td id=\"T_c284e_row4_col1\" class=\"data row4 col1\" >(182, 6)</td>\n",
       "    </tr>\n",
       "    <tr>\n",
       "      <th id=\"T_c284e_level0_row5\" class=\"row_heading level0 row5\" >5</th>\n",
       "      <td id=\"T_c284e_row5_col0\" class=\"data row5 col0\" >Missing Values</td>\n",
       "      <td id=\"T_c284e_row5_col1\" class=\"data row5 col1\" >False</td>\n",
       "    </tr>\n",
       "    <tr>\n",
       "      <th id=\"T_c284e_level0_row6\" class=\"row_heading level0 row6\" >6</th>\n",
       "      <td id=\"T_c284e_row6_col0\" class=\"data row6 col0\" >Numeric Features</td>\n",
       "      <td id=\"T_c284e_row6_col1\" class=\"data row6 col1\" >1</td>\n",
       "    </tr>\n",
       "    <tr>\n",
       "      <th id=\"T_c284e_level0_row7\" class=\"row_heading level0 row7\" >7</th>\n",
       "      <td id=\"T_c284e_row7_col0\" class=\"data row7 col0\" >Categorical Features</td>\n",
       "      <td id=\"T_c284e_row7_col1\" class=\"data row7 col1\" >4</td>\n",
       "    </tr>\n",
       "    <tr>\n",
       "      <th id=\"T_c284e_level0_row8\" class=\"row_heading level0 row8\" >8</th>\n",
       "      <td id=\"T_c284e_row8_col0\" class=\"data row8 col0\" >Ordinal Features</td>\n",
       "      <td id=\"T_c284e_row8_col1\" class=\"data row8 col1\" >False</td>\n",
       "    </tr>\n",
       "    <tr>\n",
       "      <th id=\"T_c284e_level0_row9\" class=\"row_heading level0 row9\" >9</th>\n",
       "      <td id=\"T_c284e_row9_col0\" class=\"data row9 col0\" >High Cardinality Features</td>\n",
       "      <td id=\"T_c284e_row9_col1\" class=\"data row9 col1\" >False</td>\n",
       "    </tr>\n",
       "    <tr>\n",
       "      <th id=\"T_c284e_level0_row10\" class=\"row_heading level0 row10\" >10</th>\n",
       "      <td id=\"T_c284e_row10_col0\" class=\"data row10 col0\" >High Cardinality Method</td>\n",
       "      <td id=\"T_c284e_row10_col1\" class=\"data row10 col1\" >None</td>\n",
       "    </tr>\n",
       "    <tr>\n",
       "      <th id=\"T_c284e_level0_row11\" class=\"row_heading level0 row11\" >11</th>\n",
       "      <td id=\"T_c284e_row11_col0\" class=\"data row11 col0\" >Transformed Train Set</td>\n",
       "      <td id=\"T_c284e_row11_col1\" class=\"data row11 col1\" >(127, 17)</td>\n",
       "    </tr>\n",
       "    <tr>\n",
       "      <th id=\"T_c284e_level0_row12\" class=\"row_heading level0 row12\" >12</th>\n",
       "      <td id=\"T_c284e_row12_col0\" class=\"data row12 col0\" >Transformed Test Set</td>\n",
       "      <td id=\"T_c284e_row12_col1\" class=\"data row12 col1\" >(55, 17)</td>\n",
       "    </tr>\n",
       "    <tr>\n",
       "      <th id=\"T_c284e_level0_row13\" class=\"row_heading level0 row13\" >13</th>\n",
       "      <td id=\"T_c284e_row13_col0\" class=\"data row13 col0\" >Shuffle Train-Test</td>\n",
       "      <td id=\"T_c284e_row13_col1\" class=\"data row13 col1\" >True</td>\n",
       "    </tr>\n",
       "    <tr>\n",
       "      <th id=\"T_c284e_level0_row14\" class=\"row_heading level0 row14\" >14</th>\n",
       "      <td id=\"T_c284e_row14_col0\" class=\"data row14 col0\" >Stratify Train-Test</td>\n",
       "      <td id=\"T_c284e_row14_col1\" class=\"data row14 col1\" >False</td>\n",
       "    </tr>\n",
       "    <tr>\n",
       "      <th id=\"T_c284e_level0_row15\" class=\"row_heading level0 row15\" >15</th>\n",
       "      <td id=\"T_c284e_row15_col0\" class=\"data row15 col0\" >Fold Generator</td>\n",
       "      <td id=\"T_c284e_row15_col1\" class=\"data row15 col1\" >StratifiedKFold</td>\n",
       "    </tr>\n",
       "    <tr>\n",
       "      <th id=\"T_c284e_level0_row16\" class=\"row_heading level0 row16\" >16</th>\n",
       "      <td id=\"T_c284e_row16_col0\" class=\"data row16 col0\" >Fold Number</td>\n",
       "      <td id=\"T_c284e_row16_col1\" class=\"data row16 col1\" >10</td>\n",
       "    </tr>\n",
       "    <tr>\n",
       "      <th id=\"T_c284e_level0_row17\" class=\"row_heading level0 row17\" >17</th>\n",
       "      <td id=\"T_c284e_row17_col0\" class=\"data row17 col0\" >CPU Jobs</td>\n",
       "      <td id=\"T_c284e_row17_col1\" class=\"data row17 col1\" >-1</td>\n",
       "    </tr>\n",
       "    <tr>\n",
       "      <th id=\"T_c284e_level0_row18\" class=\"row_heading level0 row18\" >18</th>\n",
       "      <td id=\"T_c284e_row18_col0\" class=\"data row18 col0\" >Use GPU</td>\n",
       "      <td id=\"T_c284e_row18_col1\" class=\"data row18 col1\" >False</td>\n",
       "    </tr>\n",
       "    <tr>\n",
       "      <th id=\"T_c284e_level0_row19\" class=\"row_heading level0 row19\" >19</th>\n",
       "      <td id=\"T_c284e_row19_col0\" class=\"data row19 col0\" >Log Experiment</td>\n",
       "      <td id=\"T_c284e_row19_col1\" class=\"data row19 col1\" >False</td>\n",
       "    </tr>\n",
       "    <tr>\n",
       "      <th id=\"T_c284e_level0_row20\" class=\"row_heading level0 row20\" >20</th>\n",
       "      <td id=\"T_c284e_row20_col0\" class=\"data row20 col0\" >Experiment Name</td>\n",
       "      <td id=\"T_c284e_row20_col1\" class=\"data row20 col1\" >clf-default-name</td>\n",
       "    </tr>\n",
       "    <tr>\n",
       "      <th id=\"T_c284e_level0_row21\" class=\"row_heading level0 row21\" >21</th>\n",
       "      <td id=\"T_c284e_row21_col0\" class=\"data row21 col0\" >USI</td>\n",
       "      <td id=\"T_c284e_row21_col1\" class=\"data row21 col1\" >e509</td>\n",
       "    </tr>\n",
       "    <tr>\n",
       "      <th id=\"T_c284e_level0_row22\" class=\"row_heading level0 row22\" >22</th>\n",
       "      <td id=\"T_c284e_row22_col0\" class=\"data row22 col0\" >Imputation Type</td>\n",
       "      <td id=\"T_c284e_row22_col1\" class=\"data row22 col1\" >simple</td>\n",
       "    </tr>\n",
       "    <tr>\n",
       "      <th id=\"T_c284e_level0_row23\" class=\"row_heading level0 row23\" >23</th>\n",
       "      <td id=\"T_c284e_row23_col0\" class=\"data row23 col0\" >Iterative Imputation Iteration</td>\n",
       "      <td id=\"T_c284e_row23_col1\" class=\"data row23 col1\" >None</td>\n",
       "    </tr>\n",
       "    <tr>\n",
       "      <th id=\"T_c284e_level0_row24\" class=\"row_heading level0 row24\" >24</th>\n",
       "      <td id=\"T_c284e_row24_col0\" class=\"data row24 col0\" >Numeric Imputer</td>\n",
       "      <td id=\"T_c284e_row24_col1\" class=\"data row24 col1\" >mean</td>\n",
       "    </tr>\n",
       "    <tr>\n",
       "      <th id=\"T_c284e_level0_row25\" class=\"row_heading level0 row25\" >25</th>\n",
       "      <td id=\"T_c284e_row25_col0\" class=\"data row25 col0\" >Iterative Imputation Numeric Model</td>\n",
       "      <td id=\"T_c284e_row25_col1\" class=\"data row25 col1\" >None</td>\n",
       "    </tr>\n",
       "    <tr>\n",
       "      <th id=\"T_c284e_level0_row26\" class=\"row_heading level0 row26\" >26</th>\n",
       "      <td id=\"T_c284e_row26_col0\" class=\"data row26 col0\" >Categorical Imputer</td>\n",
       "      <td id=\"T_c284e_row26_col1\" class=\"data row26 col1\" >constant</td>\n",
       "    </tr>\n",
       "    <tr>\n",
       "      <th id=\"T_c284e_level0_row27\" class=\"row_heading level0 row27\" >27</th>\n",
       "      <td id=\"T_c284e_row27_col0\" class=\"data row27 col0\" >Iterative Imputation Categorical Model</td>\n",
       "      <td id=\"T_c284e_row27_col1\" class=\"data row27 col1\" >None</td>\n",
       "    </tr>\n",
       "    <tr>\n",
       "      <th id=\"T_c284e_level0_row28\" class=\"row_heading level0 row28\" >28</th>\n",
       "      <td id=\"T_c284e_row28_col0\" class=\"data row28 col0\" >Unknown Categoricals Handling</td>\n",
       "      <td id=\"T_c284e_row28_col1\" class=\"data row28 col1\" >least_frequent</td>\n",
       "    </tr>\n",
       "    <tr>\n",
       "      <th id=\"T_c284e_level0_row29\" class=\"row_heading level0 row29\" >29</th>\n",
       "      <td id=\"T_c284e_row29_col0\" class=\"data row29 col0\" >Normalize</td>\n",
       "      <td id=\"T_c284e_row29_col1\" class=\"data row29 col1\" >False</td>\n",
       "    </tr>\n",
       "    <tr>\n",
       "      <th id=\"T_c284e_level0_row30\" class=\"row_heading level0 row30\" >30</th>\n",
       "      <td id=\"T_c284e_row30_col0\" class=\"data row30 col0\" >Normalize Method</td>\n",
       "      <td id=\"T_c284e_row30_col1\" class=\"data row30 col1\" >None</td>\n",
       "    </tr>\n",
       "    <tr>\n",
       "      <th id=\"T_c284e_level0_row31\" class=\"row_heading level0 row31\" >31</th>\n",
       "      <td id=\"T_c284e_row31_col0\" class=\"data row31 col0\" >Transformation</td>\n",
       "      <td id=\"T_c284e_row31_col1\" class=\"data row31 col1\" >False</td>\n",
       "    </tr>\n",
       "    <tr>\n",
       "      <th id=\"T_c284e_level0_row32\" class=\"row_heading level0 row32\" >32</th>\n",
       "      <td id=\"T_c284e_row32_col0\" class=\"data row32 col0\" >Transformation Method</td>\n",
       "      <td id=\"T_c284e_row32_col1\" class=\"data row32 col1\" >None</td>\n",
       "    </tr>\n",
       "    <tr>\n",
       "      <th id=\"T_c284e_level0_row33\" class=\"row_heading level0 row33\" >33</th>\n",
       "      <td id=\"T_c284e_row33_col0\" class=\"data row33 col0\" >PCA</td>\n",
       "      <td id=\"T_c284e_row33_col1\" class=\"data row33 col1\" >False</td>\n",
       "    </tr>\n",
       "    <tr>\n",
       "      <th id=\"T_c284e_level0_row34\" class=\"row_heading level0 row34\" >34</th>\n",
       "      <td id=\"T_c284e_row34_col0\" class=\"data row34 col0\" >PCA Method</td>\n",
       "      <td id=\"T_c284e_row34_col1\" class=\"data row34 col1\" >None</td>\n",
       "    </tr>\n",
       "    <tr>\n",
       "      <th id=\"T_c284e_level0_row35\" class=\"row_heading level0 row35\" >35</th>\n",
       "      <td id=\"T_c284e_row35_col0\" class=\"data row35 col0\" >PCA Components</td>\n",
       "      <td id=\"T_c284e_row35_col1\" class=\"data row35 col1\" >None</td>\n",
       "    </tr>\n",
       "    <tr>\n",
       "      <th id=\"T_c284e_level0_row36\" class=\"row_heading level0 row36\" >36</th>\n",
       "      <td id=\"T_c284e_row36_col0\" class=\"data row36 col0\" >Ignore Low Variance</td>\n",
       "      <td id=\"T_c284e_row36_col1\" class=\"data row36 col1\" >False</td>\n",
       "    </tr>\n",
       "    <tr>\n",
       "      <th id=\"T_c284e_level0_row37\" class=\"row_heading level0 row37\" >37</th>\n",
       "      <td id=\"T_c284e_row37_col0\" class=\"data row37 col0\" >Combine Rare Levels</td>\n",
       "      <td id=\"T_c284e_row37_col1\" class=\"data row37 col1\" >False</td>\n",
       "    </tr>\n",
       "    <tr>\n",
       "      <th id=\"T_c284e_level0_row38\" class=\"row_heading level0 row38\" >38</th>\n",
       "      <td id=\"T_c284e_row38_col0\" class=\"data row38 col0\" >Rare Level Threshold</td>\n",
       "      <td id=\"T_c284e_row38_col1\" class=\"data row38 col1\" >None</td>\n",
       "    </tr>\n",
       "    <tr>\n",
       "      <th id=\"T_c284e_level0_row39\" class=\"row_heading level0 row39\" >39</th>\n",
       "      <td id=\"T_c284e_row39_col0\" class=\"data row39 col0\" >Numeric Binning</td>\n",
       "      <td id=\"T_c284e_row39_col1\" class=\"data row39 col1\" >False</td>\n",
       "    </tr>\n",
       "    <tr>\n",
       "      <th id=\"T_c284e_level0_row40\" class=\"row_heading level0 row40\" >40</th>\n",
       "      <td id=\"T_c284e_row40_col0\" class=\"data row40 col0\" >Remove Outliers</td>\n",
       "      <td id=\"T_c284e_row40_col1\" class=\"data row40 col1\" >False</td>\n",
       "    </tr>\n",
       "    <tr>\n",
       "      <th id=\"T_c284e_level0_row41\" class=\"row_heading level0 row41\" >41</th>\n",
       "      <td id=\"T_c284e_row41_col0\" class=\"data row41 col0\" >Outliers Threshold</td>\n",
       "      <td id=\"T_c284e_row41_col1\" class=\"data row41 col1\" >None</td>\n",
       "    </tr>\n",
       "    <tr>\n",
       "      <th id=\"T_c284e_level0_row42\" class=\"row_heading level0 row42\" >42</th>\n",
       "      <td id=\"T_c284e_row42_col0\" class=\"data row42 col0\" >Remove Multicollinearity</td>\n",
       "      <td id=\"T_c284e_row42_col1\" class=\"data row42 col1\" >False</td>\n",
       "    </tr>\n",
       "    <tr>\n",
       "      <th id=\"T_c284e_level0_row43\" class=\"row_heading level0 row43\" >43</th>\n",
       "      <td id=\"T_c284e_row43_col0\" class=\"data row43 col0\" >Multicollinearity Threshold</td>\n",
       "      <td id=\"T_c284e_row43_col1\" class=\"data row43 col1\" >None</td>\n",
       "    </tr>\n",
       "    <tr>\n",
       "      <th id=\"T_c284e_level0_row44\" class=\"row_heading level0 row44\" >44</th>\n",
       "      <td id=\"T_c284e_row44_col0\" class=\"data row44 col0\" >Remove Perfect Collinearity</td>\n",
       "      <td id=\"T_c284e_row44_col1\" class=\"data row44 col1\" >True</td>\n",
       "    </tr>\n",
       "    <tr>\n",
       "      <th id=\"T_c284e_level0_row45\" class=\"row_heading level0 row45\" >45</th>\n",
       "      <td id=\"T_c284e_row45_col0\" class=\"data row45 col0\" >Clustering</td>\n",
       "      <td id=\"T_c284e_row45_col1\" class=\"data row45 col1\" >False</td>\n",
       "    </tr>\n",
       "    <tr>\n",
       "      <th id=\"T_c284e_level0_row46\" class=\"row_heading level0 row46\" >46</th>\n",
       "      <td id=\"T_c284e_row46_col0\" class=\"data row46 col0\" >Clustering Iteration</td>\n",
       "      <td id=\"T_c284e_row46_col1\" class=\"data row46 col1\" >None</td>\n",
       "    </tr>\n",
       "    <tr>\n",
       "      <th id=\"T_c284e_level0_row47\" class=\"row_heading level0 row47\" >47</th>\n",
       "      <td id=\"T_c284e_row47_col0\" class=\"data row47 col0\" >Polynomial Features</td>\n",
       "      <td id=\"T_c284e_row47_col1\" class=\"data row47 col1\" >False</td>\n",
       "    </tr>\n",
       "    <tr>\n",
       "      <th id=\"T_c284e_level0_row48\" class=\"row_heading level0 row48\" >48</th>\n",
       "      <td id=\"T_c284e_row48_col0\" class=\"data row48 col0\" >Polynomial Degree</td>\n",
       "      <td id=\"T_c284e_row48_col1\" class=\"data row48 col1\" >None</td>\n",
       "    </tr>\n",
       "    <tr>\n",
       "      <th id=\"T_c284e_level0_row49\" class=\"row_heading level0 row49\" >49</th>\n",
       "      <td id=\"T_c284e_row49_col0\" class=\"data row49 col0\" >Trignometry Features</td>\n",
       "      <td id=\"T_c284e_row49_col1\" class=\"data row49 col1\" >False</td>\n",
       "    </tr>\n",
       "    <tr>\n",
       "      <th id=\"T_c284e_level0_row50\" class=\"row_heading level0 row50\" >50</th>\n",
       "      <td id=\"T_c284e_row50_col0\" class=\"data row50 col0\" >Polynomial Threshold</td>\n",
       "      <td id=\"T_c284e_row50_col1\" class=\"data row50 col1\" >None</td>\n",
       "    </tr>\n",
       "    <tr>\n",
       "      <th id=\"T_c284e_level0_row51\" class=\"row_heading level0 row51\" >51</th>\n",
       "      <td id=\"T_c284e_row51_col0\" class=\"data row51 col0\" >Group Features</td>\n",
       "      <td id=\"T_c284e_row51_col1\" class=\"data row51 col1\" >False</td>\n",
       "    </tr>\n",
       "    <tr>\n",
       "      <th id=\"T_c284e_level0_row52\" class=\"row_heading level0 row52\" >52</th>\n",
       "      <td id=\"T_c284e_row52_col0\" class=\"data row52 col0\" >Feature Selection</td>\n",
       "      <td id=\"T_c284e_row52_col1\" class=\"data row52 col1\" >False</td>\n",
       "    </tr>\n",
       "    <tr>\n",
       "      <th id=\"T_c284e_level0_row53\" class=\"row_heading level0 row53\" >53</th>\n",
       "      <td id=\"T_c284e_row53_col0\" class=\"data row53 col0\" >Feature Selection Method</td>\n",
       "      <td id=\"T_c284e_row53_col1\" class=\"data row53 col1\" >classic</td>\n",
       "    </tr>\n",
       "    <tr>\n",
       "      <th id=\"T_c284e_level0_row54\" class=\"row_heading level0 row54\" >54</th>\n",
       "      <td id=\"T_c284e_row54_col0\" class=\"data row54 col0\" >Features Selection Threshold</td>\n",
       "      <td id=\"T_c284e_row54_col1\" class=\"data row54 col1\" >None</td>\n",
       "    </tr>\n",
       "    <tr>\n",
       "      <th id=\"T_c284e_level0_row55\" class=\"row_heading level0 row55\" >55</th>\n",
       "      <td id=\"T_c284e_row55_col0\" class=\"data row55 col0\" >Feature Interaction</td>\n",
       "      <td id=\"T_c284e_row55_col1\" class=\"data row55 col1\" >False</td>\n",
       "    </tr>\n",
       "    <tr>\n",
       "      <th id=\"T_c284e_level0_row56\" class=\"row_heading level0 row56\" >56</th>\n",
       "      <td id=\"T_c284e_row56_col0\" class=\"data row56 col0\" >Feature Ratio</td>\n",
       "      <td id=\"T_c284e_row56_col1\" class=\"data row56 col1\" >False</td>\n",
       "    </tr>\n",
       "    <tr>\n",
       "      <th id=\"T_c284e_level0_row57\" class=\"row_heading level0 row57\" >57</th>\n",
       "      <td id=\"T_c284e_row57_col0\" class=\"data row57 col0\" >Interaction Threshold</td>\n",
       "      <td id=\"T_c284e_row57_col1\" class=\"data row57 col1\" >None</td>\n",
       "    </tr>\n",
       "    <tr>\n",
       "      <th id=\"T_c284e_level0_row58\" class=\"row_heading level0 row58\" >58</th>\n",
       "      <td id=\"T_c284e_row58_col0\" class=\"data row58 col0\" >Fix Imbalance</td>\n",
       "      <td id=\"T_c284e_row58_col1\" class=\"data row58 col1\" >False</td>\n",
       "    </tr>\n",
       "    <tr>\n",
       "      <th id=\"T_c284e_level0_row59\" class=\"row_heading level0 row59\" >59</th>\n",
       "      <td id=\"T_c284e_row59_col0\" class=\"data row59 col0\" >Fix Imbalance Method</td>\n",
       "      <td id=\"T_c284e_row59_col1\" class=\"data row59 col1\" >SMOTE</td>\n",
       "    </tr>\n",
       "  </tbody>\n",
       "</table>\n"
      ],
      "text/plain": [
       "<pandas.io.formats.style.Styler at 0x248f463e550>"
      ]
     },
     "metadata": {},
     "output_type": "display_data"
    }
   ],
   "source": [
    "exp=setup(data = perfume, target=\"이름\")"
   ]
  },
  {
   "cell_type": "code",
   "execution_count": 12,
   "metadata": {},
   "outputs": [
    {
     "data": {
      "text/html": [
       "<style type=\"text/css\">\n",
       "</style>\n",
       "<table id=\"T_d7961\">\n",
       "  <thead>\n",
       "  </thead>\n",
       "  <tbody>\n",
       "  </tbody>\n",
       "</table>\n"
      ],
      "text/plain": [
       "<pandas.io.formats.style.Styler at 0x248f463eac0>"
      ]
     },
     "metadata": {},
     "output_type": "display_data"
    }
   ],
   "source": [
    "a=compare_models()"
   ]
  },
  {
   "cell_type": "code",
   "execution_count": 13,
   "metadata": {},
   "outputs": [],
   "source": [
    "from sklearn.ensemble import RandomForestClassifier"
   ]
  },
  {
   "cell_type": "code",
   "execution_count": 14,
   "metadata": {},
   "outputs": [],
   "source": [
    "rf = RandomForestClassifier()"
   ]
  },
  {
   "cell_type": "code",
   "execution_count": 15,
   "metadata": {},
   "outputs": [
    {
     "data": {
      "text/plain": [
       "RandomForestClassifier(bootstrap=True, ccp_alpha=0.0, class_weight=None,\n",
       "                       criterion='gini', max_depth=None, max_features='auto',\n",
       "                       max_leaf_nodes=None, max_samples=None,\n",
       "                       min_impurity_decrease=0.0, min_impurity_split=None,\n",
       "                       min_samples_leaf=1, min_samples_split=2,\n",
       "                       min_weight_fraction_leaf=0.0, n_estimators=100,\n",
       "                       n_jobs=None, oob_score=False, random_state=None,\n",
       "                       verbose=0, warm_start=False)"
      ]
     },
     "execution_count": 15,
     "metadata": {},
     "output_type": "execute_result"
    }
   ],
   "source": [
    "rf.fit(perfume.drop('이름',axis=1),perfume['이름'])"
   ]
  },
  {
   "cell_type": "code",
   "execution_count": 16,
   "metadata": {},
   "outputs": [
    {
     "data": {
      "text/plain": [
       "array([2], dtype=int64)"
      ]
     },
     "execution_count": 16,
     "metadata": {},
     "output_type": "execute_result"
    }
   ],
   "source": [
    "rf.predict([[1]*5])"
   ]
  },
  {
   "cell_type": "code",
   "execution_count": 17,
   "metadata": {},
   "outputs": [],
   "source": [
    "# #브랜드\t이름\n",
    "\n",
    "\n",
    "# 딥디크\t1\n",
    "# 조말론\t2\n",
    "# 바이레도\t3\n",
    "# 이솝\t4\n",
    "# 톰포드\t5\n",
    "# 프레데릭말\t6\n",
    "# 퍼퓸드말리\t7\n",
    "# 조보이\t8\n",
    "# 제로보암\t9\n",
    "# 오케스트라퍼퓸\t10\n",
    "# 이니시오\t11\n",
    "# 메모\t12\n",
    "# 알마프\t13\n",
    "# 아프난\t14\n",
    "# 크리드\t15\n",
    "# 나소마토\t16\n",
    "# 산타마리아노벨라\t17\n",
    "# 디올\t18\n",
    "# 샤넬\t19\n",
    "# 자라\t20\n",
    "# 에따리브르도랑쥬\t21\n",
    "# 모스키노\t22\n",
    "# 아이젠버그\t23\n",
    "# 메종마르지엘라\t24\n",
    "# 밀러해리스\t25\n",
    "# 아쿠아디파르마\t26\n",
    "# 쇼파드\t27\n",
    "# 르라보\t28\n",
    "# 티지아나테렌지\t29\n",
    "# 메종프란시스커정\t30\n",
    "# 메종크리벨리\t31\n",
    "# 킬리안\t32\n",
    "# 라리크\t33\n",
    "# 펜할리곤스\t34\n",
    "# 에르메스\t35\n",
    "# 반클리프앤아펠\t36\n",
    "# 히스토리드퍼퓸\t37\n",
    "# 프레드릭엠\t38\n",
    "# 4160튜즈데이\t39\n",
    "# 꼼데가르송\t40\n",
    "# 버버리\t41\n",
    "# 파코라반\t42\n",
    "# 돌체앤가바나\t43\n",
    "# 제르조프\t44\n",
    "# 랑방\t45\n",
    "# 패리스힐튼\t46\n",
    "# 입생로랑\t47\n",
    "# 지미추\t48\n",
    "# mdci\t49\n",
    "# bdk\t50\n",
    "\n",
    "\n",
    "\n",
    "# 성별\n",
    "# '남성': 1, '여성': 2, '중성': 3\n",
    "\n",
    "\n",
    "\n",
    "# TPO\n",
    "# '캐쥬얼': 1, '포멀': 2, '캐쥬얼,포멀': 3\n",
    "\n",
    "\n",
    "\n",
    "# 계절감\n",
    "# '봄,여름': 1, '봄,가을': 2, '봄,여름,가을': 3, '봄,가을,겨울':4, '여름,가을,겨울':5, '가을,겨울':6, '사계절':7\n",
    "\n",
    "\n",
    "\n",
    "# 향의농도\n",
    "# '가벼운': 1, '무거운': 2, '중간': 3\n"
   ]
  },
  {
   "cell_type": "code",
   "execution_count": 18,
   "metadata": {},
   "outputs": [
    {
     "data": {
      "text/plain": [
       "array([37], dtype=int64)"
      ]
     },
     "execution_count": 18,
     "metadata": {},
     "output_type": "execute_result"
    }
   ],
   "source": [
    "# 그냥 해본거\n",
    "# 프레데릭말, 중성, 캐쥬얼, 봄 여름, 중간\n",
    "# 제라늄 뿌르무슈\n",
    "rf.predict([[6,3,1,1,3]])"
   ]
  },
  {
   "cell_type": "code",
   "execution_count": 19,
   "metadata": {},
   "outputs": [
    {
     "data": {
      "text/plain": [
       "array([58], dtype=int64)"
      ]
     },
     "execution_count": 19,
     "metadata": {},
     "output_type": "execute_result"
    }
   ],
   "source": [
    "# 르 략크 덩으 무슈\n",
    "# 에르메스, 남성, 포멀, 가을겨울,무거운\n",
    "rf.predict([[6,1,2,6,2]])"
   ]
  },
  {
   "cell_type": "code",
   "execution_count": 20,
   "metadata": {},
   "outputs": [
    {
     "data": {
      "text/plain": [
       "array([58], dtype=int64)"
      ]
     },
     "execution_count": 20,
     "metadata": {},
     "output_type": "execute_result"
    }
   ],
   "source": [
    "# 르 꼼테 데 떼네브레(어둠의 백작)\n",
    "# 프로미스\n",
    "rf.predict([[6,1,2,6,2]])"
   ]
  },
  {
   "cell_type": "code",
   "execution_count": 21,
   "metadata": {},
   "outputs": [
    {
     "data": {
      "text/plain": [
       "array([44], dtype=int64)"
      ]
     },
     "execution_count": 21,
     "metadata": {},
     "output_type": "execute_result"
    }
   ],
   "source": [
    "# 르 홍열\n",
    "#\n",
    "rf.predict([[1,1,2,6,1]])"
   ]
  },
  {
   "attachments": {},
   "cell_type": "markdown",
   "metadata": {},
   "source": [
    "# 본 게임"
   ]
  },
  {
   "cell_type": "code",
   "execution_count": 22,
   "metadata": {},
   "outputs": [
    {
     "data": {
      "text/plain": [
       "array([111], dtype=int64)"
      ]
     },
     "execution_count": 22,
     "metadata": {},
     "output_type": "execute_result"
    }
   ],
   "source": [
    "# 홍열님\n",
    "# 디올옴므퍼퓸PARFUM\n",
    "# 19,1,2,6,1,3번 6번 10번 12번 20번\n",
    "rf.predict([[19,1,2,6,1]])\n",
    "\n",
    "#완"
   ]
  },
  {
   "cell_type": "code",
   "execution_count": 23,
   "metadata": {},
   "outputs": [
    {
     "data": {
      "text/plain": [
       "array([27], dtype=int64)"
      ]
     },
     "execution_count": 23,
     "metadata": {},
     "output_type": "execute_result"
    }
   ],
   "source": [
    "\n",
    "# 한림님\n",
    "#집시워터EDP\n",
    "# 2,3,3,4,3,1번 3번 7번 20번 21번\n",
    "rf.predict([[2,3,3,4,3]])\n",
    "#완"
   ]
  },
  {
   "cell_type": "code",
   "execution_count": 24,
   "metadata": {},
   "outputs": [
    {
     "data": {
      "text/plain": [
       "array([53], dtype=int64)"
      ]
     },
     "execution_count": 24,
     "metadata": {},
     "output_type": "execute_result"
    }
   ],
   "source": [
    "# 도형님\n",
    "#로즈토네르EDP\n",
    "# 4,1,2,7,1,8번, 15번, 16번, 21번, 26번\n",
    "rf.predict([[4,1,2,7,1]])\n",
    "#완"
   ]
  },
  {
   "cell_type": "code",
   "execution_count": 25,
   "metadata": {},
   "outputs": [
    {
     "data": {
      "text/plain": [
       "array([83], dtype=int64)"
      ]
     },
     "execution_count": 25,
     "metadata": {},
     "output_type": "execute_result"
    }
   ],
   "source": [
    "# 수진님\n",
    "#베스페로PARFUM\n",
    "# 17,3,3,2,2,3번 8번 9번 15번 4번\n",
    "\n",
    "rf.predict([[17,3,3,2,2]])\n",
    "#완"
   ]
  },
  {
   "cell_type": "code",
   "execution_count": 26,
   "metadata": {},
   "outputs": [
    {
     "data": {
      "text/plain": [
       "array([177], dtype=int64)"
      ]
     },
     "execution_count": 26,
     "metadata": {},
     "output_type": "execute_result"
    }
   ],
   "source": [
    "# 마가님\n",
    "#로즈살티폴리아EDP\n",
    "# 42,1,1,2,1,1번,5번,6번,15번,21번\n",
    "\n",
    "\n",
    "rf.predict([[42,1,1,2,1]])\n",
    "\n",
    "#완"
   ]
  },
  {
   "cell_type": "code",
   "execution_count": 27,
   "metadata": {},
   "outputs": [
    {
     "data": {
      "text/plain": [
       "array([9], dtype=int64)"
      ]
     },
     "execution_count": 27,
     "metadata": {},
     "output_type": "execute_result"
    }
   ],
   "source": [
    "# 아름님\n",
    "#오로즈EDP\n",
    "# 4,2,3,1,1,1번,2번,6번,7번,12번\n",
    "rf.predict([[4,2,3,1,1]])\n",
    "\n",
    "# 완"
   ]
  },
  {
   "cell_type": "code",
   "execution_count": 28,
   "metadata": {},
   "outputs": [
    {
     "data": {
      "text/plain": [
       "array([131], dtype=int64)"
      ]
     },
     "execution_count": 28,
     "metadata": {},
     "output_type": "execute_result"
    }
   ],
   "source": [
    "# 꼼떼 떼레브레 무슈님\n",
    "#베티버 팜플무스EDP\n",
    "# 24,3,1,1,3,6번,15번,8번,9번,22번\n",
    "rf.predict([[24,3,1,1,3]])\n",
    "\n",
    "# 완"
   ]
  },
  {
   "cell_type": "code",
   "execution_count": 29,
   "metadata": {},
   "outputs": [
    {
     "data": {
      "text/plain": [
       "array([2], dtype=int64)"
      ]
     },
     "execution_count": 29,
     "metadata": {},
     "output_type": "execute_result"
    }
   ],
   "source": [
    "# 장국님\n",
    "#필로시코스EDP\n",
    "# 1,1,1,2,1, 11번,3번,6번,17번,21번\n",
    "rf.predict([[1,1,1,2,1]])"
   ]
  },
  {
   "cell_type": "code",
   "execution_count": 30,
   "metadata": {},
   "outputs": [
    {
     "data": {
      "text/plain": [
       "array([42], dtype=int64)"
      ]
     },
     "execution_count": 30,
     "metadata": {},
     "output_type": "execute_result"
    }
   ],
   "source": [
    "# 광원님\n",
    "# 그레이 베티버EDP\n",
    "# 2,1,1,1,3, 1번 , 5번 , 8번, 15번, 22번\n",
    "rf.predict([[2,1,1,1,3]])\n",
    "\n",
    "#완"
   ]
  },
  {
   "cell_type": "code",
   "execution_count": 31,
   "metadata": {},
   "outputs": [
    {
     "data": {
      "text/plain": [
       "array([34], dtype=int64)"
      ]
     },
     "execution_count": 31,
     "metadata": {},
     "output_type": "execute_result"
    }
   ],
   "source": [
    "# 호림님\n",
    "# 마라케시EDP\n",
    "# 5,1,1,6,3,4번,10번,16번,19번,20번\n",
    "rf.predict([[5,1,1,6,3]])\n",
    "\n",
    "#완"
   ]
  },
  {
   "cell_type": "code",
   "execution_count": 32,
   "metadata": {},
   "outputs": [
    {
     "data": {
      "text/plain": [
       "array([8], dtype=int64)"
      ]
     },
     "execution_count": 32,
     "metadata": {},
     "output_type": "execute_result"
    }
   ],
   "source": [
    "\n",
    "# 준수님\n",
    "# 플레르드뽀EDP\n",
    "# 1,3,2,7,3,3번, 5번 , 6번, 13번, 21번\n",
    "rf.predict([[1,3,2,7,3]])\n",
    "#완"
   ]
  },
  {
   "cell_type": "code",
   "execution_count": 36,
   "metadata": {},
   "outputs": [
    {
     "data": {
      "text/plain": [
       "array([15], dtype=int64)"
      ]
     },
     "execution_count": 36,
     "metadata": {},
     "output_type": "execute_result"
    }
   ],
   "source": [
    "\n",
    "# 지은센세\n",
    "# 2,3,3,1,1,1번, 2번, 6번, 7번, 12번\n",
    "# 우드세이지앤씨솔트\n",
    "rf.predict([[2,3,3,1,1]])\n",
    "#완"
   ]
  },
  {
   "cell_type": "code",
   "execution_count": 37,
   "metadata": {},
   "outputs": [
    {
     "data": {
      "text/plain": [
       "array([8], dtype=int64)"
      ]
     },
     "execution_count": 37,
     "metadata": {},
     "output_type": "execute_result"
    }
   ],
   "source": [
    "# 지현님\n",
    "# 1,3,1,7,3,3번, 6번, 8번, 12번, 19번\n",
    "# 플레르드뽀\n",
    "rf.predict([[1,3,1,7,3]])\n",
    "#완"
   ]
  },
  {
   "cell_type": "code",
   "execution_count": 35,
   "metadata": {},
   "outputs": [
    {
     "data": {
      "text/plain": [
       "array([131], dtype=int64)"
      ]
     },
     "execution_count": 35,
     "metadata": {},
     "output_type": "execute_result"
    }
   ],
   "source": [
    "# 주리님\n",
    "# 45,3,1,1,3, 1번, 3번, 7번, 8번, 15번\n",
    "# 베티버 팜플무스\n",
    "#완\n",
    "rf.predict([[45,3,1,1,3]])"
   ]
  },
  {
   "cell_type": "code",
   "execution_count": 38,
   "metadata": {},
   "outputs": [
    {
     "data": {
      "text/plain": [
       "array([30], dtype=int64)"
      ]
     },
     "execution_count": 38,
     "metadata": {},
     "output_type": "execute_result"
    }
   ],
   "source": [
    "# 소정님\n",
    "# 4,2,3,7,1,13번. 21번. 3번.4번. 7번\n",
    "4,2,3,7,1,0,0,1,1,0,0,1,0,0,0,0,0,1,0,0,0,0,0,0,0,1,0,0,0,0,0\n",
    "rf.predict([[4,2,3,7,1]])\n",
    "\n",
    "#카사블랑카릴리"
   ]
  },
  {
   "cell_type": "code",
   "execution_count": 39,
   "metadata": {},
   "outputs": [
    {
     "data": {
      "text/plain": [
       "array([24], dtype=int64)"
      ]
     },
     "execution_count": 39,
     "metadata": {},
     "output_type": "execute_result"
    }
   ],
   "source": [
    "# 수아님\n",
    "# 3,2,1,1,1,1번,2번,5번,6번,9번\n",
    "3,2,1,1,1,1,1,0,0,1,1,0,0,1,0,0,0,0,0,0,0,0,0,0,0,0,0,0,0,0,0\n",
    "rf.predict([[3,2,1,1,1]])\n",
    "\n",
    "#선데이 코롱"
   ]
  },
  {
   "cell_type": "code",
   "execution_count": null,
   "metadata": {},
   "outputs": [],
   "source": []
  }
 ],
 "metadata": {
  "kernelspec": {
   "display_name": "ML",
   "language": "python",
   "name": "python3"
  },
  "language_info": {
   "codemirror_mode": {
    "name": "ipython",
    "version": 3
   },
   "file_extension": ".py",
   "mimetype": "text/x-python",
   "name": "python",
   "nbconvert_exporter": "python",
   "pygments_lexer": "ipython3",
   "version": "3.8.1"
  },
  "orig_nbformat": 4
 },
 "nbformat": 4,
 "nbformat_minor": 2
}
