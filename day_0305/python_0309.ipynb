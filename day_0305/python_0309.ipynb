{
 "cells": [
  {
   "cell_type": "code",
   "execution_count": 1,
   "metadata": {},
   "outputs": [],
   "source": [
    "# 원의 둘레를 계산하는 함수 get_peri(radius)을 정의하고 테스트한다.\n",
    "# 만약 원의 반지름이 주어지지 않았으면 5.0으로 간주한다. 함수의 \"기본 인수를사용하라\""
   ]
  },
  {
   "cell_type": "code",
   "execution_count": 2,
   "metadata": {},
   "outputs": [],
   "source": [
    "#도서관 클래스 만들기"
   ]
  },
  {
   "cell_type": "code",
   "execution_count": 3,
   "metadata": {},
   "outputs": [],
   "source": [
    "#2개의 문자열을 받아서 이들 문자열에 모두 포함된 글자를 반환하는 프로그램을 작성하기\n",
    "# 1.Hello World!\n",
    "# 2.Hi! Welcome!\n",
    "\n",
    "# 모두 포함된 글자 : H W o e"
   ]
  },
  {
   "cell_type": "code",
   "execution_count": null,
   "metadata": {},
   "outputs": [],
   "source": []
  }
 ],
 "metadata": {
  "kernelspec": {
   "display_name": "base",
   "language": "python",
   "name": "python3"
  },
  "language_info": {
   "codemirror_mode": {
    "name": "ipython",
    "version": 3
   },
   "file_extension": ".py",
   "mimetype": "text/x-python",
   "name": "python",
   "nbconvert_exporter": "python",
   "pygments_lexer": "ipython3",
   "version": "3.9.13"
  },
  "orig_nbformat": 4
 },
 "nbformat": 4,
 "nbformat_minor": 2
}
