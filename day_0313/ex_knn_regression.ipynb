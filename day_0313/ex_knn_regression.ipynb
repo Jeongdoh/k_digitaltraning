{
 "cells": [
  {
   "attachments": {},
   "cell_type": "markdown",
   "metadata": {},
   "source": [
    "### 회귀 -knn---\n",
    "\n",
    "* KNeighborsRegressor 학습 알고리즘 사용\n",
    "* 데이터 : student_info.csv\n",
    "* 목적 : 키에 따른 몸무게 예측"
   ]
  },
  {
   "cell_type": "code",
   "execution_count": null,
   "metadata": {},
   "outputs": [],
   "source": []
  }
 ],
 "metadata": {
  "language_info": {
   "name": "python"
  },
  "orig_nbformat": 4
 },
 "nbformat": 4,
 "nbformat_minor": 2
}
