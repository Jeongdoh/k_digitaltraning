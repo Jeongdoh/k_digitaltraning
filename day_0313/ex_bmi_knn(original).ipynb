{
 "cells": [
  {
   "cell_type": "code",
   "execution_count": 2,
   "id": "efe1b5b2",
   "metadata": {},
   "outputs": [],
   "source": [
    "# 모듈 로딩 ------------------------------------------------\n",
    "from sklearn.neighbors import KNeighborsClassifier\n",
    "from sklearn.model_selection import train_test_split\n",
    "from sklearn.preprocessing import StandardScaler, MinMaxScaler\n",
    "from sklearn.metrics import accuracy_score\n",
    "\n",
    "import pandas as pd\n",
    "import matplotlib.pyplot as plt"
   ]
  },
  {
   "cell_type": "markdown",
   "id": "96a13e0e",
   "metadata": {},
   "source": [
    "## 데이터 분석 & 목적 --------------------------------------------------\n",
    "\n",
    "- 데이터 구성 =>  방법 ? 지도 / 비지도  \n",
    "    * 데이터/피쳐/특성/변수/속성/독립변수/관측값 ------  결과/타겟/라벨/클래스/종속변수/반응변수\n",
    "- 데이터 목적 =>  결과/타겟/종속변수 ---> 수치형 : 회귀 ,   범주형 : 분류\n",
    "- 학습 방법 => 해당하는 학습 방법 => all_estimator()"
   ]
  },
  {
   "cell_type": "markdown",
   "id": "ff36df45",
   "metadata": {},
   "source": [
    "### [1]  데이터 준비 -------------------------------------------------------------------------\n",
    "\n",
    "- 데이터 로딩 & 기본 데이터 확인"
   ]
  },
  {
   "cell_type": "code",
   "execution_count": 3,
   "id": "02b9c120",
   "metadata": {},
   "outputs": [],
   "source": [
    "FILE = '../data/student_info.csv'"
   ]
  },
  {
   "cell_type": "code",
   "execution_count": 4,
   "id": "d3efa4b5",
   "metadata": {},
   "outputs": [],
   "source": [
    "stdDF=pd.read_csv(FILE, usecols=[2,3])"
   ]
  },
  {
   "cell_type": "code",
   "execution_count": 7,
   "id": "20aa7ae4",
   "metadata": {},
   "outputs": [
    {
     "data": {
      "text/html": [
       "<div>\n",
       "<style scoped>\n",
       "    .dataframe tbody tr th:only-of-type {\n",
       "        vertical-align: middle;\n",
       "    }\n",
       "\n",
       "    .dataframe tbody tr th {\n",
       "        vertical-align: top;\n",
       "    }\n",
       "\n",
       "    .dataframe thead th {\n",
       "        text-align: right;\n",
       "    }\n",
       "</style>\n",
       "<table border=\"1\" class=\"dataframe\">\n",
       "  <thead>\n",
       "    <tr style=\"text-align: right;\">\n",
       "      <th></th>\n",
       "      <th>weight_kg</th>\n",
       "      <th>height_cm</th>\n",
       "    </tr>\n",
       "  </thead>\n",
       "  <tbody>\n",
       "    <tr>\n",
       "      <th>0</th>\n",
       "      <td>98</td>\n",
       "      <td>198</td>\n",
       "    </tr>\n",
       "    <tr>\n",
       "      <th>1</th>\n",
       "      <td>77</td>\n",
       "      <td>170</td>\n",
       "    </tr>\n",
       "    <tr>\n",
       "      <th>2</th>\n",
       "      <td>70</td>\n",
       "      <td>170</td>\n",
       "    </tr>\n",
       "  </tbody>\n",
       "</table>\n",
       "</div>"
      ],
      "text/plain": [
       "   weight_kg  height_cm\n",
       "0         98        198\n",
       "1         77        170\n",
       "2         70        170"
      ]
     },
     "execution_count": 7,
     "metadata": {},
     "output_type": "execute_result"
    }
   ],
   "source": [
    "stdDF.head(3)"
   ]
  },
  {
   "cell_type": "code",
   "execution_count": 6,
   "id": "1f913865",
   "metadata": {
    "collapsed": true
   },
   "outputs": [
    {
     "name": "stdout",
     "output_type": "stream",
     "text": [
      "<class 'pandas.core.frame.DataFrame'>\n",
      "RangeIndex: 90 entries, 0 to 89\n",
      "Data columns (total 2 columns):\n",
      " #   Column     Non-Null Count  Dtype\n",
      "---  ------     --------------  -----\n",
      " 0   weight_kg  90 non-null     int64\n",
      " 1   height_cm  90 non-null     int64\n",
      "dtypes: int64(2)\n",
      "memory usage: 1.5 KB\n"
     ]
    }
   ],
   "source": [
    "stdDF.info()"
   ]
  },
  {
   "cell_type": "markdown",
   "id": "0ad647fc",
   "metadata": {},
   "source": [
    "### [2] 데이터 전처리 ------------------------------------------------------------------------\n",
    "- 데이터 정제 : 결측치, 중복값, 이상치, 모순값\n",
    "- 데이터 표준화 : 단위, 자료형\n",
    "- 데이터 정규화 : 수치값 => 값의 범위 : 통일 --> 스케일러 \n",
    "    * 범주형/글자 => OrdinalEncder, OneHotEncoder, LabelEncoder(y)\n",
    "- 데이터 변 형 : 특성 추가/ 생성  "
   ]
  },
  {
   "cell_type": "code",
   "execution_count": 8,
   "id": "b114f69e",
   "metadata": {},
   "outputs": [
    {
     "data": {
      "text/plain": [
       "weight_kg    0\n",
       "height_cm    0\n",
       "dtype: int64"
      ]
     },
     "execution_count": 8,
     "metadata": {},
     "output_type": "execute_result"
    }
   ],
   "source": [
    "# 결측치 체크\n",
    "stdDF.isnull().sum()"
   ]
  },
  {
   "cell_type": "code",
   "execution_count": null,
   "id": "580a329a",
   "metadata": {},
   "outputs": [],
   "source": [
    "# bmi 특성 추가 -----------------------------------------------"
   ]
  },
  {
   "cell_type": "code",
   "execution_count": 11,
   "id": "7fd4e8af",
   "metadata": {},
   "outputs": [],
   "source": [
    "bmi_value=round(stdDF.weight_kg/((stdDF.height_cm/100)*(stdDF.height_cm/100)), 1)"
   ]
  },
  {
   "cell_type": "code",
   "execution_count": 61,
   "id": "4e1f029a",
   "metadata": {},
   "outputs": [],
   "source": [
    "# ~18.5  ~ 23.0 ~ 25.0 ~  30.0 ~ ==> L, N, O, B, H   =>   0, 1, 2, 3, 4\n",
    "#_bins=[0, 18.5, 23.0, 25.0, 30.0, max(bmi_value)]\n",
    "_bins=[0, 18.5, 23.0,max(bmi_value)]\n",
    "bmi_level=pd.cut(bmi_value, bins=_bins, labels=[0,1,2])"
   ]
  },
  {
   "cell_type": "code",
   "execution_count": 62,
   "id": "492c9aac",
   "metadata": {},
   "outputs": [
    {
     "data": {
      "text/plain": [
       "2    54\n",
       "1    28\n",
       "0     8\n",
       "dtype: int64"
      ]
     },
     "execution_count": 62,
     "metadata": {},
     "output_type": "execute_result"
    }
   ],
   "source": [
    "bmi_level.value_counts()"
   ]
  },
  {
   "cell_type": "code",
   "execution_count": 63,
   "id": "6f230917",
   "metadata": {},
   "outputs": [],
   "source": [
    "stdDF['bmi_level']=bmi_level"
   ]
  },
  {
   "cell_type": "code",
   "execution_count": 69,
   "id": "d86ab34c",
   "metadata": {},
   "outputs": [
    {
     "data": {
      "text/html": [
       "<div>\n",
       "<style scoped>\n",
       "    .dataframe tbody tr th:only-of-type {\n",
       "        vertical-align: middle;\n",
       "    }\n",
       "\n",
       "    .dataframe tbody tr th {\n",
       "        vertical-align: top;\n",
       "    }\n",
       "\n",
       "    .dataframe thead th {\n",
       "        text-align: right;\n",
       "    }\n",
       "</style>\n",
       "<table border=\"1\" class=\"dataframe\">\n",
       "  <thead>\n",
       "    <tr style=\"text-align: right;\">\n",
       "      <th></th>\n",
       "      <th>weight_kg</th>\n",
       "      <th>height_cm</th>\n",
       "      <th>bmi_level</th>\n",
       "    </tr>\n",
       "  </thead>\n",
       "  <tbody>\n",
       "    <tr>\n",
       "      <th>0</th>\n",
       "      <td>98</td>\n",
       "      <td>198</td>\n",
       "      <td>2</td>\n",
       "    </tr>\n",
       "    <tr>\n",
       "      <th>1</th>\n",
       "      <td>77</td>\n",
       "      <td>170</td>\n",
       "      <td>2</td>\n",
       "    </tr>\n",
       "    <tr>\n",
       "      <th>2</th>\n",
       "      <td>70</td>\n",
       "      <td>170</td>\n",
       "      <td>2</td>\n",
       "    </tr>\n",
       "    <tr>\n",
       "      <th>3</th>\n",
       "      <td>90</td>\n",
       "      <td>198</td>\n",
       "      <td>1</td>\n",
       "    </tr>\n",
       "    <tr>\n",
       "      <th>4</th>\n",
       "      <td>71</td>\n",
       "      <td>170</td>\n",
       "      <td>2</td>\n",
       "    </tr>\n",
       "  </tbody>\n",
       "</table>\n",
       "</div>"
      ],
      "text/plain": [
       "   weight_kg  height_cm bmi_level\n",
       "0         98        198         2\n",
       "1         77        170         2\n",
       "2         70        170         2\n",
       "3         90        198         1\n",
       "4         71        170         2"
      ]
     },
     "execution_count": 69,
     "metadata": {},
     "output_type": "execute_result"
    }
   ],
   "source": [
    "stdDF.head()"
   ]
  },
  {
   "cell_type": "code",
   "execution_count": 70,
   "id": "bc8dcf2e",
   "metadata": {},
   "outputs": [
    {
     "data": {
      "text/html": [
       "<div>\n",
       "<style scoped>\n",
       "    .dataframe tbody tr th:only-of-type {\n",
       "        vertical-align: middle;\n",
       "    }\n",
       "\n",
       "    .dataframe tbody tr th {\n",
       "        vertical-align: top;\n",
       "    }\n",
       "\n",
       "    .dataframe thead th {\n",
       "        text-align: right;\n",
       "    }\n",
       "</style>\n",
       "<table border=\"1\" class=\"dataframe\">\n",
       "  <thead>\n",
       "    <tr style=\"text-align: right;\">\n",
       "      <th></th>\n",
       "      <th>min</th>\n",
       "      <th>max</th>\n",
       "    </tr>\n",
       "  </thead>\n",
       "  <tbody>\n",
       "    <tr>\n",
       "      <th>weight_kg</th>\n",
       "      <td>43.0</td>\n",
       "      <td>110.0</td>\n",
       "    </tr>\n",
       "    <tr>\n",
       "      <th>height_cm</th>\n",
       "      <td>132.0</td>\n",
       "      <td>198.0</td>\n",
       "    </tr>\n",
       "  </tbody>\n",
       "</table>\n",
       "</div>"
      ],
      "text/plain": [
       "             min    max\n",
       "weight_kg   43.0  110.0\n",
       "height_cm  132.0  198.0"
      ]
     },
     "execution_count": 70,
     "metadata": {},
     "output_type": "execute_result"
    }
   ],
   "source": [
    "# 특성 데이터의 범위 확인 \n",
    "stdDF.describe().T[['min', 'max']]"
   ]
  },
  {
   "cell_type": "code",
   "execution_count": 71,
   "id": "b143c5b2",
   "metadata": {},
   "outputs": [
    {
     "data": {
      "text/plain": [
       "weight_kg    67.0\n",
       "height_cm    66.0\n",
       "dtype: float64"
      ]
     },
     "execution_count": 71,
     "metadata": {},
     "output_type": "execute_result"
    }
   ],
   "source": [
    "stdDF.describe().T['max'] -  stdDF.describe().T['min']"
   ]
  },
  {
   "cell_type": "code",
   "execution_count": 72,
   "id": "61ac058b",
   "metadata": {},
   "outputs": [],
   "source": [
    "# 수치형 특성 데이터 스케일링 \n",
    "st=StandardScaler()\n",
    "st_data=st.fit_transform(stdDF[stdDF.columns[:-1]])"
   ]
  },
  {
   "cell_type": "code",
   "execution_count": 73,
   "id": "4295183f",
   "metadata": {},
   "outputs": [],
   "source": [
    "mmt=MinMaxScaler()\n",
    "mmt_data = mmt.fit_transform(stdDF[stdDF.columns[:-1]])"
   ]
  },
  {
   "cell_type": "code",
   "execution_count": 74,
   "id": "154b611a",
   "metadata": {},
   "outputs": [],
   "source": [
    "# 데이터 -- 타겟/라벳/클래스 분리\n",
    "data=stdDF[stdDF.columns[:-1]]\n",
    "target = stdDF[stdDF.columns[-1]]"
   ]
  },
  {
   "cell_type": "code",
   "execution_count": 111,
   "id": "4f757856",
   "metadata": {},
   "outputs": [],
   "source": [
    "data = st_data"
   ]
  },
  {
   "cell_type": "code",
   "execution_count": null,
   "id": "fdfc2e3d",
   "metadata": {},
   "outputs": [],
   "source": []
  },
  {
   "cell_type": "code",
   "execution_count": null,
   "id": "aeb8bfdd",
   "metadata": {},
   "outputs": [],
   "source": []
  },
  {
   "cell_type": "code",
   "execution_count": 112,
   "id": "72052a63",
   "metadata": {},
   "outputs": [
    {
     "data": {
      "text/plain": [
       "((90, 2), (90,))"
      ]
     },
     "execution_count": 112,
     "metadata": {},
     "output_type": "execute_result"
    }
   ],
   "source": [
    "data.shape, target.shape"
   ]
  },
  {
   "cell_type": "markdown",
   "id": "fa452d38",
   "metadata": {},
   "source": [
    "### [3] 학습용 데이터 준비 ==> 학습용, 테스트용, 검증용 ---------------------------\n",
    "\n",
    "- 분류 => 항목 비율\n",
    "    * 데이터 추가 \n",
    "    * 업샘플링/다운샘플링 \n",
    "    * API의 매개변수에 비율조정한 매개변수 체크\n",
    "- 교차검증"
   ]
  },
  {
   "cell_type": "code",
   "execution_count": 113,
   "id": "dc2df2c8",
   "metadata": {},
   "outputs": [],
   "source": [
    "# 타겟의 분류 데이터의 비율이 고르지 않음 => 비율에 맞도록 데이터 분리\n",
    "X_train, X_test, y_train,y_test = train_test_split(data, target, \n",
    "                                                  random_state=11,\n",
    "                                                  test_size=0.2,\n",
    "                                                  stratify=target)"
   ]
  },
  {
   "cell_type": "code",
   "execution_count": 114,
   "id": "5b837d6f",
   "metadata": {},
   "outputs": [
    {
     "data": {
      "text/plain": [
       "(72,\n",
       " 2    43\n",
       " 1    22\n",
       " 0     7\n",
       " Name: bmi_level, dtype: int64,\n",
       " 18,\n",
       " 2    11\n",
       " 1     6\n",
       " 0     1\n",
       " Name: bmi_level, dtype: int64)"
      ]
     },
     "execution_count": 114,
     "metadata": {},
     "output_type": "execute_result"
    }
   ],
   "source": [
    "len(y_train), y_train.value_counts(), len(y_test), y_test.value_counts()"
   ]
  },
  {
   "cell_type": "markdown",
   "id": "6e8a038d",
   "metadata": {},
   "source": [
    "### [4] 학습 모델 객체 생성 및 학습 진행 -----------------------------------------------"
   ]
  },
  {
   "cell_type": "code",
   "execution_count": 115,
   "id": "7724636b",
   "metadata": {},
   "outputs": [],
   "source": [
    "# 분류 KNN 모델 객체 생성  ---- n_neighbors = 5  기본값   \n",
    "knnModel=KNeighborsClassifier(n_neighbors=1)"
   ]
  },
  {
   "cell_type": "code",
   "execution_count": 116,
   "id": "1b900d4a",
   "metadata": {
    "collapsed": true
   },
   "outputs": [
    {
     "name": "stdout",
     "output_type": "stream",
     "text": [
      "[1] : score ;1.0\n",
      "[2] : score ;0.9305555555555556\n",
      "[3] : score ;0.9027777777777778\n",
      "[4] : score ;0.9166666666666666\n",
      "[5] : score ;0.9305555555555556\n",
      "[6] : score ;0.9166666666666666\n",
      "[7] : score ;0.9166666666666666\n",
      "[8] : score ;0.9305555555555556\n",
      "[9] : score ;0.9027777777777778\n",
      "[10] : score ;0.875\n",
      "[11] : score ;0.875\n",
      "[12] : score ;0.875\n",
      "[13] : score ;0.8472222222222222\n",
      "[14] : score ;0.8472222222222222\n",
      "[15] : score ;0.8055555555555556\n",
      "[16] : score ;0.8055555555555556\n",
      "[17] : score ;0.7777777777777778\n",
      "[18] : score ;0.7777777777777778\n",
      "[19] : score ;0.7777777777777778\n",
      "[20] : score ;0.7777777777777778\n",
      "[21] : score ;0.7638888888888888\n",
      "[22] : score ;0.7777777777777778\n",
      "[23] : score ;0.7638888888888888\n",
      "[24] : score ;0.7638888888888888\n",
      "[25] : score ;0.7638888888888888\n",
      "[26] : score ;0.7638888888888888\n",
      "[27] : score ;0.75\n",
      "[28] : score ;0.75\n",
      "[29] : score ;0.7361111111111112\n",
      "[30] : score ;0.75\n",
      "[31] : score ;0.7638888888888888\n",
      "[32] : score ;0.6944444444444444\n",
      "[33] : score ;0.7361111111111112\n",
      "[34] : score ;0.6944444444444444\n",
      "[35] : score ;0.5972222222222222\n",
      "[36] : score ;0.5972222222222222\n",
      "[37] : score ;0.5972222222222222\n",
      "[38] : score ;0.5972222222222222\n",
      "[39] : score ;0.5972222222222222\n",
      "[40] : score ;0.5972222222222222\n",
      "[41] : score ;0.5972222222222222\n",
      "[42] : score ;0.5972222222222222\n",
      "[43] : score ;0.5972222222222222\n",
      "[44] : score ;0.5972222222222222\n",
      "[45] : score ;0.5972222222222222\n",
      "[46] : score ;0.5972222222222222\n",
      "[47] : score ;0.5972222222222222\n",
      "[48] : score ;0.5972222222222222\n",
      "[49] : score ;0.5972222222222222\n",
      "[50] : score ;0.5972222222222222\n",
      "[51] : score ;0.5972222222222222\n",
      "[52] : score ;0.5972222222222222\n",
      "[53] : score ;0.5972222222222222\n",
      "[54] : score ;0.5972222222222222\n",
      "[55] : score ;0.5972222222222222\n",
      "[56] : score ;0.5972222222222222\n",
      "[57] : score ;0.5972222222222222\n",
      "[58] : score ;0.5972222222222222\n",
      "[59] : score ;0.5972222222222222\n",
      "[60] : score ;0.5972222222222222\n",
      "[61] : score ;0.5972222222222222\n",
      "[62] : score ;0.5972222222222222\n",
      "[63] : score ;0.5972222222222222\n",
      "[64] : score ;0.5972222222222222\n",
      "[65] : score ;0.5972222222222222\n",
      "[66] : score ;0.5972222222222222\n",
      "[67] : score ;0.5972222222222222\n",
      "[68] : score ;0.5972222222222222\n",
      "[69] : score ;0.5972222222222222\n",
      "[70] : score ;0.5972222222222222\n",
      "[71] : score ;0.5972222222222222\n"
     ]
    }
   ],
   "source": [
    "scores=[]\n",
    "for n in range(1, X_train.shape[0]):\n",
    "    knnModel.n_neighbors = n  \n",
    "    knnModel.fit(X_train, y_train)\n",
    "    sc=knnModel.score(X_train, y_train)\n",
    "    print(f'[{n}] : score ;{sc}')\n",
    "    scores.append(sc)"
   ]
  },
  {
   "cell_type": "code",
   "execution_count": 117,
   "id": "356799e6",
   "metadata": {
    "collapsed": true
   },
   "outputs": [
    {
     "data": {
      "text/plain": [
       "Text(0, 0.5, 'score')"
      ]
     },
     "execution_count": 117,
     "metadata": {},
     "output_type": "execute_result"
    },
    {
     "data": {
      "image/png": "[encoded data removed]",
      "text/plain": [
       "<Figure size 640x480 with 1 Axes>"
      ]
     },
     "metadata": {},
     "output_type": "display_data"
    }
   ],
   "source": [
    "plt.plot(scores)\n",
    "plt.xlabel('n_neighbors')\n",
    "plt.ylabel('score')"
   ]
  },
  {
   "cell_type": "code",
   "execution_count": 118,
   "id": "061896fc",
   "metadata": {},
   "outputs": [
    {
     "data": {
      "text/html": [
       "<style>#sk-container-id-12 {color: black;background-color: white;}#sk-container-id-12 pre{padding: 0;}#sk-container-id-12 div.sk-toggleable {background-color: white;}#sk-container-id-12 label.sk-toggleable__label {cursor: pointer;display: block;width: 100%;margin-bottom: 0;padding: 0.3em;box-sizing: border-box;text-align: center;}#sk-container-id-12 label.sk-toggleable__label-arrow:before {content: \"▸\";float: left;margin-right: 0.25em;color: #696969;}#sk-container-id-12 label.sk-toggleable__label-arrow:hover:before {color: black;}#sk-container-id-12 div.sk-estimator:hover label.sk-toggleable__label-arrow:before {color: black;}#sk-container-id-12 div.sk-toggleable__content {max-height: 0;max-width: 0;overflow: hidden;text-align: left;background-color: #f0f8ff;}#sk-container-id-12 div.sk-toggleable__content pre {margin: 0.2em;color: black;border-radius: 0.25em;background-color: #f0f8ff;}#sk-container-id-12 input.sk-toggleable__control:checked~div.sk-toggleable__content {max-height: 200px;max-width: 100%;overflow: auto;}#sk-container-id-12 input.sk-toggleable__control:checked~label.sk-toggleable__label-arrow:before {content: \"▾\";}#sk-container-id-12 div.sk-estimator input.sk-toggleable__control:checked~label.sk-toggleable__label {background-color: #d4ebff;}#sk-container-id-12 div.sk-label input.sk-toggleable__control:checked~label.sk-toggleable__label {background-color: #d4ebff;}#sk-container-id-12 input.sk-hidden--visually {border: 0;clip: rect(1px 1px 1px 1px);clip: rect(1px, 1px, 1px, 1px);height: 1px;margin: -1px;overflow: hidden;padding: 0;position: absolute;width: 1px;}#sk-container-id-12 div.sk-estimator {font-family: monospace;background-color: #f0f8ff;border: 1px dotted black;border-radius: 0.25em;box-sizing: border-box;margin-bottom: 0.5em;}#sk-container-id-12 div.sk-estimator:hover {background-color: #d4ebff;}#sk-container-id-12 div.sk-parallel-item::after {content: \"\";width: 100%;border-bottom: 1px solid gray;flex-grow: 1;}#sk-container-id-12 div.sk-label:hover label.sk-toggleable__label {background-color: #d4ebff;}#sk-container-id-12 div.sk-serial::before {content: \"\";position: absolute;border-left: 1px solid gray;box-sizing: border-box;top: 0;bottom: 0;left: 50%;z-index: 0;}#sk-container-id-12 div.sk-serial {display: flex;flex-direction: column;align-items: center;background-color: white;padding-right: 0.2em;padding-left: 0.2em;position: relative;}#sk-container-id-12 div.sk-item {position: relative;z-index: 1;}#sk-container-id-12 div.sk-parallel {display: flex;align-items: stretch;justify-content: center;background-color: white;position: relative;}#sk-container-id-12 div.sk-item::before, #sk-container-id-12 div.sk-parallel-item::before {content: \"\";position: absolute;border-left: 1px solid gray;box-sizing: border-box;top: 0;bottom: 0;left: 50%;z-index: -1;}#sk-container-id-12 div.sk-parallel-item {display: flex;flex-direction: column;z-index: 1;position: relative;background-color: white;}#sk-container-id-12 div.sk-parallel-item:first-child::after {align-self: flex-end;width: 50%;}#sk-container-id-12 div.sk-parallel-item:last-child::after {align-self: flex-start;width: 50%;}#sk-container-id-12 div.sk-parallel-item:only-child::after {width: 0;}#sk-container-id-12 div.sk-dashed-wrapped {border: 1px dashed gray;margin: 0 0.4em 0.5em 0.4em;box-sizing: border-box;padding-bottom: 0.4em;background-color: white;}#sk-container-id-12 div.sk-label label {font-family: monospace;font-weight: bold;display: inline-block;line-height: 1.2em;}#sk-container-id-12 div.sk-label-container {text-align: center;}#sk-container-id-12 div.sk-container {/* jupyter's `normalize.less` sets `[hidden] { display: none; }` but bootstrap.min.css set `[hidden] { display: none !important; }` so we also need the `!important` here to be able to override the default hidden behavior on the sphinx rendered scikit-learn.org. See: https://github.com/scikit-learn/scikit-learn/issues/21755 */display: inline-block !important;position: relative;}#sk-container-id-12 div.sk-text-repr-fallback {display: none;}</style><div id=\"sk-container-id-12\" class=\"sk-top-container\"><div class=\"sk-text-repr-fallback\"><pre>KNeighborsClassifier(n_neighbors=7)</pre><b>In a Jupyter environment, please rerun this cell to show the HTML representation or trust the notebook. <br />On GitHub, the HTML representation is unable to render, please try loading this page with nbviewer.org.</b></div><div class=\"sk-container\" hidden><div class=\"sk-item\"><div class=\"sk-estimator sk-toggleable\"><input class=\"sk-toggleable__control sk-hidden--visually\" id=\"sk-estimator-id-18\" type=\"checkbox\" checked><label for=\"sk-estimator-id-18\" class=\"sk-toggleable__label sk-toggleable__label-arrow\">KNeighborsClassifier</label><div class=\"sk-toggleable__content\"><pre>KNeighborsClassifier(n_neighbors=7)</pre></div></div></div></div></div>"
      ],
      "text/plain": [
       "KNeighborsClassifier(n_neighbors=7)"
      ]
     },
     "execution_count": 118,
     "metadata": {},
     "output_type": "execute_result"
    }
   ],
   "source": [
    "#  결정된 n_neighbors = 2 또는 7\n",
    "knnModel.n_neighbors = 7\n",
    "knnModel.fit(X_train, y_train)"
   ]
  },
  {
   "cell_type": "markdown",
   "id": "5afac1ea",
   "metadata": {},
   "source": [
    "### [5]  예측 및 평가 ---------------------------------------------------------------------\n",
    "\n",
    "- 검증 데이터 => 예측 & 평가\n",
    "- 테스트 데이터 => 예측 & 평가"
   ]
  },
  {
   "cell_type": "code",
   "execution_count": 119,
   "id": "aea4253a",
   "metadata": {},
   "outputs": [
    {
     "data": {
      "text/plain": [
       "0.8333333333333334"
      ]
     },
     "execution_count": 119,
     "metadata": {},
     "output_type": "execute_result"
    }
   ],
   "source": [
    "y_pre=knnModel.predict(X_test)\n",
    "\n",
    "accuracy_score(y_test, y_pre)"
   ]
  },
  {
   "cell_type": "code",
   "execution_count": 120,
   "id": "5c0398ab",
   "metadata": {},
   "outputs": [
    {
     "data": {
      "text/plain": [
       "0.8333333333333334"
      ]
     },
     "execution_count": 120,
     "metadata": {},
     "output_type": "execute_result"
    }
   ],
   "source": [
    "knnModel.score(X_test, y_test)"
   ]
  },
  {
   "cell_type": "markdown",
   "id": "ae34849c",
   "metadata": {},
   "source": [
    "### [6] 결과 --------------------------------------------------------------------------------\n",
    "\n",
    "- 성능 만족스럽지 않음 ==> 튜닝 (하이퍼파라미터)\n",
    "- 성능 만족스러움 => 모델 저장 "
   ]
  },
  {
   "cell_type": "code",
   "execution_count": 121,
   "id": "32ed325e",
   "metadata": {},
   "outputs": [],
   "source": [
    "from sklearn.model_selection import GridSearchCV"
   ]
  },
  {
   "cell_type": "code",
   "execution_count": 122,
   "id": "f0374dc6",
   "metadata": {},
   "outputs": [],
   "source": [
    "#  하이퍼파라미터 =>  n_neighbors, p, weights\n",
    "\n",
    "model = KNeighborsClassifier()\n",
    "params = {'n_neighbors' : [2,3,4,5], 'p':[1,2], 'weights' : ['uniform', 'distance']}\n",
    "\n",
    "grid=GridSearchCV(model, param_grid=params, scoring=\"accuracy\", cv=3)"
   ]
  },
  {
   "cell_type": "code",
   "execution_count": 123,
   "id": "deec3715",
   "metadata": {},
   "outputs": [
    {
     "data": {
      "text/html": [
       "<style>#sk-container-id-13 {color: black;background-color: white;}#sk-container-id-13 pre{padding: 0;}#sk-container-id-13 div.sk-toggleable {background-color: white;}#sk-container-id-13 label.sk-toggleable__label {cursor: pointer;display: block;width: 100%;margin-bottom: 0;padding: 0.3em;box-sizing: border-box;text-align: center;}#sk-container-id-13 label.sk-toggleable__label-arrow:before {content: \"▸\";float: left;margin-right: 0.25em;color: #696969;}#sk-container-id-13 label.sk-toggleable__label-arrow:hover:before {color: black;}#sk-container-id-13 div.sk-estimator:hover label.sk-toggleable__label-arrow:before {color: black;}#sk-container-id-13 div.sk-toggleable__content {max-height: 0;max-width: 0;overflow: hidden;text-align: left;background-color: #f0f8ff;}#sk-container-id-13 div.sk-toggleable__content pre {margin: 0.2em;color: black;border-radius: 0.25em;background-color: #f0f8ff;}#sk-container-id-13 input.sk-toggleable__control:checked~div.sk-toggleable__content {max-height: 200px;max-width: 100%;overflow: auto;}#sk-container-id-13 input.sk-toggleable__control:checked~label.sk-toggleable__label-arrow:before {content: \"▾\";}#sk-container-id-13 div.sk-estimator input.sk-toggleable__control:checked~label.sk-toggleable__label {background-color: #d4ebff;}#sk-container-id-13 div.sk-label input.sk-toggleable__control:checked~label.sk-toggleable__label {background-color: #d4ebff;}#sk-container-id-13 input.sk-hidden--visually {border: 0;clip: rect(1px 1px 1px 1px);clip: rect(1px, 1px, 1px, 1px);height: 1px;margin: -1px;overflow: hidden;padding: 0;position: absolute;width: 1px;}#sk-container-id-13 div.sk-estimator {font-family: monospace;background-color: #f0f8ff;border: 1px dotted black;border-radius: 0.25em;box-sizing: border-box;margin-bottom: 0.5em;}#sk-container-id-13 div.sk-estimator:hover {background-color: #d4ebff;}#sk-container-id-13 div.sk-parallel-item::after {content: \"\";width: 100%;border-bottom: 1px solid gray;flex-grow: 1;}#sk-container-id-13 div.sk-label:hover label.sk-toggleable__label {background-color: #d4ebff;}#sk-container-id-13 div.sk-serial::before {content: \"\";position: absolute;border-left: 1px solid gray;box-sizing: border-box;top: 0;bottom: 0;left: 50%;z-index: 0;}#sk-container-id-13 div.sk-serial {display: flex;flex-direction: column;align-items: center;background-color: white;padding-right: 0.2em;padding-left: 0.2em;position: relative;}#sk-container-id-13 div.sk-item {position: relative;z-index: 1;}#sk-container-id-13 div.sk-parallel {display: flex;align-items: stretch;justify-content: center;background-color: white;position: relative;}#sk-container-id-13 div.sk-item::before, #sk-container-id-13 div.sk-parallel-item::before {content: \"\";position: absolute;border-left: 1px solid gray;box-sizing: border-box;top: 0;bottom: 0;left: 50%;z-index: -1;}#sk-container-id-13 div.sk-parallel-item {display: flex;flex-direction: column;z-index: 1;position: relative;background-color: white;}#sk-container-id-13 div.sk-parallel-item:first-child::after {align-self: flex-end;width: 50%;}#sk-container-id-13 div.sk-parallel-item:last-child::after {align-self: flex-start;width: 50%;}#sk-container-id-13 div.sk-parallel-item:only-child::after {width: 0;}#sk-container-id-13 div.sk-dashed-wrapped {border: 1px dashed gray;margin: 0 0.4em 0.5em 0.4em;box-sizing: border-box;padding-bottom: 0.4em;background-color: white;}#sk-container-id-13 div.sk-label label {font-family: monospace;font-weight: bold;display: inline-block;line-height: 1.2em;}#sk-container-id-13 div.sk-label-container {text-align: center;}#sk-container-id-13 div.sk-container {/* jupyter's `normalize.less` sets `[hidden] { display: none; }` but bootstrap.min.css set `[hidden] { display: none !important; }` so we also need the `!important` here to be able to override the default hidden behavior on the sphinx rendered scikit-learn.org. See: https://github.com/scikit-learn/scikit-learn/issues/21755 */display: inline-block !important;position: relative;}#sk-container-id-13 div.sk-text-repr-fallback {display: none;}</style><div id=\"sk-container-id-13\" class=\"sk-top-container\"><div class=\"sk-text-repr-fallback\"><pre>GridSearchCV(cv=3, estimator=KNeighborsClassifier(),\n",
       "             param_grid={&#x27;n_neighbors&#x27;: [2, 3, 4, 5], &#x27;p&#x27;: [1, 2],\n",
       "                         &#x27;weights&#x27;: [&#x27;uniform&#x27;, &#x27;distance&#x27;]},\n",
       "             scoring=&#x27;accuracy&#x27;)</pre><b>In a Jupyter environment, please rerun this cell to show the HTML representation or trust the notebook. <br />On GitHub, the HTML representation is unable to render, please try loading this page with nbviewer.org.</b></div><div class=\"sk-container\" hidden><div class=\"sk-item sk-dashed-wrapped\"><div class=\"sk-label-container\"><div class=\"sk-label sk-toggleable\"><input class=\"sk-toggleable__control sk-hidden--visually\" id=\"sk-estimator-id-19\" type=\"checkbox\" ><label for=\"sk-estimator-id-19\" class=\"sk-toggleable__label sk-toggleable__label-arrow\">GridSearchCV</label><div class=\"sk-toggleable__content\"><pre>GridSearchCV(cv=3, estimator=KNeighborsClassifier(),\n",
       "             param_grid={&#x27;n_neighbors&#x27;: [2, 3, 4, 5], &#x27;p&#x27;: [1, 2],\n",
       "                         &#x27;weights&#x27;: [&#x27;uniform&#x27;, &#x27;distance&#x27;]},\n",
       "             scoring=&#x27;accuracy&#x27;)</pre></div></div></div><div class=\"sk-parallel\"><div class=\"sk-parallel-item\"><div class=\"sk-item\"><div class=\"sk-label-container\"><div class=\"sk-label sk-toggleable\"><input class=\"sk-toggleable__control sk-hidden--visually\" id=\"sk-estimator-id-20\" type=\"checkbox\" ><label for=\"sk-estimator-id-20\" class=\"sk-toggleable__label sk-toggleable__label-arrow\">estimator: KNeighborsClassifier</label><div class=\"sk-toggleable__content\"><pre>KNeighborsClassifier()</pre></div></div></div><div class=\"sk-serial\"><div class=\"sk-item\"><div class=\"sk-estimator sk-toggleable\"><input class=\"sk-toggleable__control sk-hidden--visually\" id=\"sk-estimator-id-21\" type=\"checkbox\" ><label for=\"sk-estimator-id-21\" class=\"sk-toggleable__label sk-toggleable__label-arrow\">KNeighborsClassifier</label><div class=\"sk-toggleable__content\"><pre>KNeighborsClassifier()</pre></div></div></div></div></div></div></div></div></div></div>"
      ],
      "text/plain": [
       "GridSearchCV(cv=3, estimator=KNeighborsClassifier(),\n",
       "             param_grid={'n_neighbors': [2, 3, 4, 5], 'p': [1, 2],\n",
       "                         'weights': ['uniform', 'distance']},\n",
       "             scoring='accuracy')"
      ]
     },
     "execution_count": 123,
     "metadata": {},
     "output_type": "execute_result"
    }
   ],
   "source": [
    "grid.fit(X_train, y_train)"
   ]
  },
  {
   "cell_type": "code",
   "execution_count": 124,
   "id": "0ff864b7",
   "metadata": {
    "collapsed": true
   },
   "outputs": [
    {
     "data": {
      "text/plain": [
       "{'mean_fit_time': array([0.0003322 , 0.0006632 , 0.00066415, 0.0001804 , 0.00033243,\n",
       "        0.00033188, 0.00033196, 0.00099937, 0.00033212, 0.        ,\n",
       "        0.00044656, 0.00033236, 0.00066439, 0.        , 0.0003322 ,\n",
       "        0.00102941]),\n",
       " 'std_fit_time': array([4.69796871e-04, 4.68956207e-04, 4.69628536e-04, 2.55128923e-04,\n",
       "        4.70134046e-04, 4.69347305e-04, 4.69459697e-04, 5.59592779e-06,\n",
       "        4.69684480e-04, 0.00000000e+00, 4.11504159e-04, 4.70021655e-04,\n",
       "        4.69796871e-04, 0.00000000e+00, 4.69796871e-04, 4.65872317e-05]),\n",
       " 'mean_score_time': array([0.00066511, 0.00033204, 0.00066185, 0.00089661, 0.00099929,\n",
       "        0.00066447, 0.00101725, 0.        , 0.00099699, 0.00099667,\n",
       "        0.0005335 , 0.00066749, 0.00066447, 0.00099643, 0.00102218,\n",
       "        0.        ]),\n",
       " 'std_score_time': array([4.70307075e-04, 4.69572088e-04, 4.68008970e-04, 2.92350850e-04,\n",
       "        2.23938669e-06, 4.69864046e-04, 2.83830506e-05, 0.00000000e+00,\n",
       "        2.92218150e-06, 1.12391596e-07, 4.34117235e-04, 4.72003772e-04,\n",
       "        4.69853077e-04, 4.51249109e-06, 3.60216380e-05, 0.00000000e+00]),\n",
       " 'param_n_neighbors': masked_array(data=[2, 2, 2, 2, 3, 3, 3, 3, 4, 4, 4, 4, 5, 5, 5, 5],\n",
       "              mask=[False, False, False, False, False, False, False, False,\n",
       "                    False, False, False, False, False, False, False, False],\n",
       "        fill_value='?',\n",
       "             dtype=object),\n",
       " 'param_p': masked_array(data=[1, 1, 2, 2, 1, 1, 2, 2, 1, 1, 2, 2, 1, 1, 2, 2],\n",
       "              mask=[False, False, False, False, False, False, False, False,\n",
       "                    False, False, False, False, False, False, False, False],\n",
       "        fill_value='?',\n",
       "             dtype=object),\n",
       " 'param_weights': masked_array(data=['uniform', 'distance', 'uniform', 'distance',\n",
       "                    'uniform', 'distance', 'uniform', 'distance',\n",
       "                    'uniform', 'distance', 'uniform', 'distance',\n",
       "                    'uniform', 'distance', 'uniform', 'distance'],\n",
       "              mask=[False, False, False, False, False, False, False, False,\n",
       "                    False, False, False, False, False, False, False, False],\n",
       "        fill_value='?',\n",
       "             dtype=object),\n",
       " 'params': [{'n_neighbors': 2, 'p': 1, 'weights': 'uniform'},\n",
       "  {'n_neighbors': 2, 'p': 1, 'weights': 'distance'},\n",
       "  {'n_neighbors': 2, 'p': 2, 'weights': 'uniform'},\n",
       "  {'n_neighbors': 2, 'p': 2, 'weights': 'distance'},\n",
       "  {'n_neighbors': 3, 'p': 1, 'weights': 'uniform'},\n",
       "  {'n_neighbors': 3, 'p': 1, 'weights': 'distance'},\n",
       "  {'n_neighbors': 3, 'p': 2, 'weights': 'uniform'},\n",
       "  {'n_neighbors': 3, 'p': 2, 'weights': 'distance'},\n",
       "  {'n_neighbors': 4, 'p': 1, 'weights': 'uniform'},\n",
       "  {'n_neighbors': 4, 'p': 1, 'weights': 'distance'},\n",
       "  {'n_neighbors': 4, 'p': 2, 'weights': 'uniform'},\n",
       "  {'n_neighbors': 4, 'p': 2, 'weights': 'distance'},\n",
       "  {'n_neighbors': 5, 'p': 1, 'weights': 'uniform'},\n",
       "  {'n_neighbors': 5, 'p': 1, 'weights': 'distance'},\n",
       "  {'n_neighbors': 5, 'p': 2, 'weights': 'uniform'},\n",
       "  {'n_neighbors': 5, 'p': 2, 'weights': 'distance'}],\n",
       " 'split0_test_score': array([0.79166667, 0.79166667, 0.83333333, 0.875     , 0.79166667,\n",
       "        0.83333333, 0.79166667, 0.79166667, 0.75      , 0.79166667,\n",
       "        0.75      , 0.83333333, 0.79166667, 0.79166667, 0.79166667,\n",
       "        0.79166667]),\n",
       " 'split1_test_score': array([0.875     , 0.875     , 0.875     , 0.875     , 0.875     ,\n",
       "        0.875     , 0.91666667, 0.875     , 0.875     , 0.875     ,\n",
       "        0.91666667, 0.91666667, 0.875     , 0.875     , 0.95833333,\n",
       "        0.91666667]),\n",
       " 'split2_test_score': array([0.83333333, 0.875     , 0.83333333, 0.875     , 0.875     ,\n",
       "        0.875     , 0.91666667, 0.91666667, 0.875     , 0.875     ,\n",
       "        0.91666667, 0.91666667, 0.91666667, 0.91666667, 0.91666667,\n",
       "        0.91666667]),\n",
       " 'mean_test_score': array([0.83333333, 0.84722222, 0.84722222, 0.875     , 0.84722222,\n",
       "        0.86111111, 0.875     , 0.86111111, 0.83333333, 0.84722222,\n",
       "        0.86111111, 0.88888889, 0.86111111, 0.86111111, 0.88888889,\n",
       "        0.875     ]),\n",
       " 'std_test_score': array([0.03402069, 0.03928371, 0.01964186, 0.        , 0.03928371,\n",
       "        0.01964186, 0.05892557, 0.05196746, 0.05892557, 0.03928371,\n",
       "        0.07856742, 0.03928371, 0.05196746, 0.05196746, 0.07081972,\n",
       "        0.05892557]),\n",
       " 'rank_test_score': array([15, 12, 11,  3, 12,  6,  3,  7, 15, 12,  7,  1,  7,  7,  1,  3])}"
      ]
     },
     "execution_count": 124,
     "metadata": {},
     "output_type": "execute_result"
    }
   ],
   "source": [
    "grid.cv_results_"
   ]
  },
  {
   "cell_type": "code",
   "execution_count": 125,
   "id": "bd524819",
   "metadata": {},
   "outputs": [
    {
     "data": {
      "text/plain": [
       "({'n_neighbors': 4, 'p': 2, 'weights': 'distance'}, 0.8888888888888888)"
      ]
     },
     "execution_count": 125,
     "metadata": {},
     "output_type": "execute_result"
    }
   ],
   "source": [
    "grid.best_params_, grid.best_score_"
   ]
  },
  {
   "cell_type": "code",
   "execution_count": 126,
   "id": "49b711cc",
   "metadata": {},
   "outputs": [],
   "source": [
    "model=grid.best_estimator_"
   ]
  },
  {
   "cell_type": "code",
   "execution_count": null,
   "id": "7af0da94",
   "metadata": {},
   "outputs": [],
   "source": []
  }
 ],
 "metadata": {
  "kernelspec": {
   "display_name": "Python 3 (ipykernel)",
   "language": "python",
   "name": "python3"
  },
  "language_info": {
   "codemirror_mode": {
    "name": "ipython",
    "version": 3
   },
   "file_extension": ".py",
   "mimetype": "text/x-python",
   "name": "python",
   "nbconvert_exporter": "python",
   "pygments_lexer": "ipython3",
   "version": "3.9.13"
  }
 },
 "nbformat": 4,
 "nbformat_minor": 5
}
