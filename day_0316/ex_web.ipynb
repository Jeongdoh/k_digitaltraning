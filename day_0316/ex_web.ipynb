{
 "cells": [
  {
   "cell_type": "code",
   "execution_count": 1,
   "metadata": {},
   "outputs": [],
   "source": [
    "import joblib"
   ]
  },
  {
   "cell_type": "code",
   "execution_count": 2,
   "metadata": {},
   "outputs": [
    {
     "data": {
      "text/plain": [
       "'c:\\\\Users\\\\y2kjd\\\\OneDrive\\\\Desktop\\\\practice\\\\22.12.26~\\\\python\\\\k_digitaltraning-1\\\\day_0316'"
      ]
     },
     "execution_count": 2,
     "metadata": {},
     "output_type": "execute_result"
    }
   ],
   "source": [
    "%pwd"
   ]
  },
  {
   "cell_type": "code",
   "execution_count": 3,
   "metadata": {},
   "outputs": [
    {
     "name": "stdout",
     "output_type": "stream",
     "text": [
      " C ����̺��� �������� �̸��� �����ϴ�.\n",
      " ���� �Ϸ� ��ȣ: 146E-A3FB\n",
      "\n",
      " c:\\Users\\y2kjd\\OneDrive\\Desktop\\practice\\22.12.26~\\python\\k_digitaltraning-1\\day_0316 ���͸�\n",
      "\n",
      "2023-03-16  ���� 11:06    <DIR>          .\n",
      "2023-03-16  ���� 09:07    <DIR>          ..\n",
      "2023-03-16  ���� 10:59                 0 ex_web.ipynb\n",
      "2023-03-16  ���� 11:05                 0 index.html\n",
      "               2�� ����                   0 ����Ʈ\n",
      "               2�� ���͸�  154,285,228,032 ����Ʈ ����\n"
     ]
    }
   ],
   "source": [
    "%ls"
   ]
  },
  {
   "cell_type": "code",
   "execution_count": null,
   "metadata": {},
   "outputs": [],
   "source": []
  }
 ],
 "metadata": {
  "kernelspec": {
   "display_name": "ML",
   "language": "python",
   "name": "python3"
  },
  "language_info": {
   "codemirror_mode": {
    "name": "ipython",
    "version": 3
   },
   "file_extension": ".py",
   "mimetype": "text/x-python",
   "name": "python",
   "nbconvert_exporter": "python",
   "pygments_lexer": "ipython3",
   "version": "3.8.16"
  },
  "orig_nbformat": 4
 },
 "nbformat": 4,
 "nbformat_minor": 2
}
