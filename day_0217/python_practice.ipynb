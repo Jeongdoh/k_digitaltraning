{
 "cells": [
  {
   "cell_type": "code",
   "execution_count": 7,
   "metadata": {},
   "outputs": [
    {
     "name": "stdout",
     "output_type": "stream",
     "text": [
      "F\n"
     ]
    }
   ],
   "source": [
    "# 1번 문제\n",
    "def getGrade(score):\n",
    "    if score >= 90:\n",
    "        print(\"A\")\n",
    "    elif score >= 80:\n",
    "        print(\"B\")\n",
    "    elif score >= 70:\n",
    "        print(\"C\")\n",
    "    elif score >= 60:\n",
    "        print(\"D\")\n",
    "    else:\n",
    "        print(\"F\")\n",
    "\n",
    "getGrade(59)"
   ]
  },
  {
   "cell_type": "code",
   "execution_count": 25,
   "metadata": {},
   "outputs": [
    {
     "name": "stdout",
     "output_type": "stream",
     "text": [
      "인간4,컴퓨터3=인간 승리\n"
     ]
    }
   ],
   "source": [
    "# 2번 문제\n",
    "import random\n",
    "\n",
    "def dice_game():\n",
    "    Human=random.randint(1,6)\n",
    "    computer=random.randint(1,6)\n",
    "    while 1:\n",
    "        if Human>computer:\n",
    "            print(\"인간{},컴퓨터{}=인간 승리\".format(Human,computer))\n",
    "        elif Human<computer:\n",
    "            print(\"인간{},컴퓨터{}=컴퓨터 승리\".format(Human,computer))\n",
    "        else:\n",
    "            print(\"인간{},컴퓨터{}=비겼습니다.\".format(Human,computer))\n",
    "\n",
    "        question=input(\"중단할까요? Yy/Nn\")\n",
    "        if question=='Y'or'y':\n",
    "            break\n",
    "        elif question=='N'or'n':\n",
    "            return dice_game()\n",
    "\n",
    "dice_game()"
   ]
  },
  {
   "cell_type": "code",
   "execution_count": 47,
   "metadata": {},
   "outputs": [
    {
     "name": "stdout",
     "output_type": "stream",
     "text": [
      "1 2 X 4 5 X 7 8 X 10 11 12 X 14 15 X 17 18 X 20 21 22 X 24 25 X 27 28 X X X X XX X X XX X X XX 40 41 42 X 44 45 X 47 48 X 50 51 52 X 54 55 X 57 58 X X X X XX X X XX X X XX 70 71 72 X 74 75 X 77 78 X 80 81 82 X 84 85 X 87 88 X X X X XX X X XX X X XX 100 "
     ]
    }
   ],
   "source": [
    "# 3번 문제\n",
    "num=int(input(\"숫자 입력\"))\n",
    "for i in range(1,num+1):\n",
    "    string=str(i)\n",
    "    count=0\n",
    "    #print(string)\n",
    "    for j in string:\n",
    "        if j=='3' or j=='6' or j =='9':\n",
    "            count+=1\n",
    "    if count==0:\n",
    "        print(i,end=\" \")\n",
    "    else:\n",
    "        print(count*'X',end=\" \")"
   ]
  },
  {
   "cell_type": "code",
   "execution_count": 66,
   "metadata": {},
   "outputs": [
    {
     "name": "stdout",
     "output_type": "stream",
     "text": [
      "0\n"
     ]
    }
   ],
   "source": [
    "# 4번 문제\n",
    "# 문자열을 입력받아 각 문자열마다 모음의 개수를 출력해주세요.\n",
    "# 문자열 대신 #이 입력되면 멈춥니다.\n",
    "\n",
    "alphabet=['A','a','E','e','I','i','O','o','U','u']\n",
    "\n",
    "a=input(\"문자열을 입력하세요 : \")\n",
    "ls=[]\n",
    "for i in a:\n",
    "    if i in alphabet:\n",
    "        ls.append(int(len(i)))\n",
    "    elif i in '#':\n",
    "        pass\n",
    "print(sum(ls))"
   ]
  },
  {
   "cell_type": "code",
   "execution_count": null,
   "metadata": {},
   "outputs": [],
   "source": []
  },
  {
   "cell_type": "code",
   "execution_count": null,
   "metadata": {},
   "outputs": [],
   "source": []
  }
 ],
 "metadata": {
  "kernelspec": {
   "display_name": "base",
   "language": "python",
   "name": "python3"
  },
  "language_info": {
   "codemirror_mode": {
    "name": "ipython",
    "version": 3
   },
   "file_extension": ".py",
   "mimetype": "text/x-python",
   "name": "python",
   "nbconvert_exporter": "python",
   "pygments_lexer": "ipython3",
   "version": "3.9.13"
  },
  "orig_nbformat": 4,
  "vscode": {
   "interpreter": {
    "hash": "eb8f946b1bed9d4c187cb5cd8c9637ed8e0cf7622b356295ec0a7b79391bc593"
   }
  }
 },
 "nbformat": 4,
 "nbformat_minor": 2
}
