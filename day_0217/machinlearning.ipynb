{
 "cells": [
  {
   "cell_type": "code",
   "execution_count": 2,
   "metadata": {},
   "outputs": [],
   "source": [
    "import pandas as pd\n",
    "import matplotlib.pyplot as plt\n",
    "import seaborn as sns\n"
   ]
  },
  {
   "cell_type": "code",
   "execution_count": 9,
   "metadata": {},
   "outputs": [
    {
     "data": {
      "text/html": [
       "<div>\n",
       "<style scoped>\n",
       "    .dataframe tbody tr th:only-of-type {\n",
       "        vertical-align: middle;\n",
       "    }\n",
       "\n",
       "    .dataframe tbody tr th {\n",
       "        vertical-align: top;\n",
       "    }\n",
       "\n",
       "    .dataframe thead th {\n",
       "        text-align: right;\n",
       "    }\n",
       "</style>\n",
       "<table border=\"1\" class=\"dataframe\">\n",
       "  <thead>\n",
       "    <tr style=\"text-align: right;\">\n",
       "      <th></th>\n",
       "      <th>transaction_id</th>\n",
       "      <th>apartment_id</th>\n",
       "      <th>city</th>\n",
       "      <th>dong</th>\n",
       "      <th>jibun</th>\n",
       "      <th>apt</th>\n",
       "      <th>addr_kr</th>\n",
       "      <th>exclusive_use_area</th>\n",
       "      <th>year_of_completion</th>\n",
       "      <th>transaction_year_month</th>\n",
       "      <th>transaction_date</th>\n",
       "      <th>floor</th>\n",
       "      <th>transaction_real_price</th>\n",
       "    </tr>\n",
       "  </thead>\n",
       "  <tbody>\n",
       "    <tr>\n",
       "      <th>0</th>\n",
       "      <td>0</td>\n",
       "      <td>7622</td>\n",
       "      <td>서울특별시</td>\n",
       "      <td>신교동</td>\n",
       "      <td>6-13</td>\n",
       "      <td>신현(101동)</td>\n",
       "      <td>신교동 6-13 신현(101동)</td>\n",
       "      <td>84.82</td>\n",
       "      <td>2002</td>\n",
       "      <td>200801</td>\n",
       "      <td>21~31</td>\n",
       "      <td>2</td>\n",
       "      <td>37500</td>\n",
       "    </tr>\n",
       "    <tr>\n",
       "      <th>1</th>\n",
       "      <td>1</td>\n",
       "      <td>5399</td>\n",
       "      <td>서울특별시</td>\n",
       "      <td>필운동</td>\n",
       "      <td>142</td>\n",
       "      <td>사직파크맨션</td>\n",
       "      <td>필운동 142 사직파크맨션</td>\n",
       "      <td>99.17</td>\n",
       "      <td>1973</td>\n",
       "      <td>200801</td>\n",
       "      <td>1~10</td>\n",
       "      <td>6</td>\n",
       "      <td>20000</td>\n",
       "    </tr>\n",
       "    <tr>\n",
       "      <th>2</th>\n",
       "      <td>2</td>\n",
       "      <td>3578</td>\n",
       "      <td>서울특별시</td>\n",
       "      <td>필운동</td>\n",
       "      <td>174-1</td>\n",
       "      <td>두레엘리시안</td>\n",
       "      <td>필운동 174-1 두레엘리시안</td>\n",
       "      <td>84.74</td>\n",
       "      <td>2007</td>\n",
       "      <td>200801</td>\n",
       "      <td>1~10</td>\n",
       "      <td>6</td>\n",
       "      <td>38500</td>\n",
       "    </tr>\n",
       "  </tbody>\n",
       "</table>\n",
       "</div>"
      ],
      "text/plain": [
       "   transaction_id  apartment_id   city dong  jibun       apt  \\\n",
       "0               0          7622  서울특별시  신교동   6-13  신현(101동)   \n",
       "1               1          5399  서울특별시  필운동    142    사직파크맨션   \n",
       "2               2          3578  서울특별시  필운동  174-1    두레엘리시안   \n",
       "\n",
       "             addr_kr  exclusive_use_area  year_of_completion  \\\n",
       "0  신교동 6-13 신현(101동)               84.82                2002   \n",
       "1     필운동 142 사직파크맨션               99.17                1973   \n",
       "2   필운동 174-1 두레엘리시안               84.74                2007   \n",
       "\n",
       "   transaction_year_month transaction_date  floor  transaction_real_price  \n",
       "0                  200801            21~31      2                   37500  \n",
       "1                  200801             1~10      6                   20000  \n",
       "2                  200801             1~10      6                   38500  "
      ]
     },
     "execution_count": 9,
     "metadata": {},
     "output_type": "execute_result"
    }
   ],
   "source": [
    "train_df=pd.read_csv(\"./data/train.csv\")\n",
    "train_df.head(3)"
   ]
  },
  {
   "cell_type": "code",
   "execution_count": 10,
   "metadata": {},
   "outputs": [
    {
     "data": {
      "text/html": [
       "<div>\n",
       "<style scoped>\n",
       "    .dataframe tbody tr th:only-of-type {\n",
       "        vertical-align: middle;\n",
       "    }\n",
       "\n",
       "    .dataframe tbody tr th {\n",
       "        vertical-align: top;\n",
       "    }\n",
       "\n",
       "    .dataframe thead th {\n",
       "        text-align: right;\n",
       "    }\n",
       "</style>\n",
       "<table border=\"1\" class=\"dataframe\">\n",
       "  <thead>\n",
       "    <tr style=\"text-align: right;\">\n",
       "      <th></th>\n",
       "      <th>transaction_id</th>\n",
       "      <th>apartment_id</th>\n",
       "      <th>city</th>\n",
       "      <th>dong</th>\n",
       "      <th>jibun</th>\n",
       "      <th>apt</th>\n",
       "      <th>addr_kr</th>\n",
       "      <th>exclusive_use_area</th>\n",
       "      <th>year_of_completion</th>\n",
       "      <th>transaction_year_month</th>\n",
       "      <th>transaction_date</th>\n",
       "      <th>floor</th>\n",
       "    </tr>\n",
       "  </thead>\n",
       "  <tbody>\n",
       "    <tr>\n",
       "      <th>0</th>\n",
       "      <td>1145756</td>\n",
       "      <td>10453</td>\n",
       "      <td>서울특별시</td>\n",
       "      <td>목동</td>\n",
       "      <td>938</td>\n",
       "      <td>청학</td>\n",
       "      <td>목동 938 청학</td>\n",
       "      <td>35.55</td>\n",
       "      <td>2002</td>\n",
       "      <td>201711</td>\n",
       "      <td>11~20</td>\n",
       "      <td>2</td>\n",
       "    </tr>\n",
       "    <tr>\n",
       "      <th>1</th>\n",
       "      <td>1198704</td>\n",
       "      <td>989</td>\n",
       "      <td>부산광역시</td>\n",
       "      <td>초량동</td>\n",
       "      <td>1143-8</td>\n",
       "      <td>고관맨션</td>\n",
       "      <td>초량동 1143-8 고관맨션</td>\n",
       "      <td>68.72</td>\n",
       "      <td>1977</td>\n",
       "      <td>201708</td>\n",
       "      <td>21~31</td>\n",
       "      <td>2</td>\n",
       "    </tr>\n",
       "    <tr>\n",
       "      <th>2</th>\n",
       "      <td>1222384</td>\n",
       "      <td>8597</td>\n",
       "      <td>부산광역시</td>\n",
       "      <td>괴정동</td>\n",
       "      <td>447-13</td>\n",
       "      <td>우림그린</td>\n",
       "      <td>괴정동 447-13 우림그린</td>\n",
       "      <td>72.54</td>\n",
       "      <td>1989</td>\n",
       "      <td>201710</td>\n",
       "      <td>11~20</td>\n",
       "      <td>2</td>\n",
       "    </tr>\n",
       "  </tbody>\n",
       "</table>\n",
       "</div>"
      ],
      "text/plain": [
       "   transaction_id  apartment_id   city dong   jibun   apt          addr_kr  \\\n",
       "0         1145756         10453  서울특별시   목동     938    청학        목동 938 청학   \n",
       "1         1198704           989  부산광역시  초량동  1143-8  고관맨션  초량동 1143-8 고관맨션   \n",
       "2         1222384          8597  부산광역시  괴정동  447-13  우림그린  괴정동 447-13 우림그린   \n",
       "\n",
       "   exclusive_use_area  year_of_completion  transaction_year_month  \\\n",
       "0               35.55                2002                  201711   \n",
       "1               68.72                1977                  201708   \n",
       "2               72.54                1989                  201710   \n",
       "\n",
       "  transaction_date  floor  \n",
       "0            11~20      2  \n",
       "1            21~31      2  \n",
       "2            11~20      2  "
      ]
     },
     "execution_count": 10,
     "metadata": {},
     "output_type": "execute_result"
    }
   ],
   "source": [
    "test_df=pd.read_csv(\"./data/test.csv\")\n",
    "test_df.head(3)"
   ]
  },
  {
   "cell_type": "code",
   "execution_count": 11,
   "metadata": {},
   "outputs": [
    {
     "name": "stdout",
     "output_type": "stream",
     "text": [
      "<class 'pandas.core.frame.DataFrame'>\n",
      "RangeIndex: 1216553 entries, 0 to 1216552\n",
      "Data columns (total 13 columns):\n",
      " #   Column                  Non-Null Count    Dtype  \n",
      "---  ------                  --------------    -----  \n",
      " 0   transaction_id          1216553 non-null  int64  \n",
      " 1   apartment_id            1216553 non-null  int64  \n",
      " 2   city                    1216553 non-null  object \n",
      " 3   dong                    1216553 non-null  object \n",
      " 4   jibun                   1216553 non-null  object \n",
      " 5   apt                     1216553 non-null  object \n",
      " 6   addr_kr                 1216553 non-null  object \n",
      " 7   exclusive_use_area      1216553 non-null  float64\n",
      " 8   year_of_completion      1216553 non-null  int64  \n",
      " 9   transaction_year_month  1216553 non-null  int64  \n",
      " 10  transaction_date        1216553 non-null  object \n",
      " 11  floor                   1216553 non-null  int64  \n",
      " 12  transaction_real_price  1216553 non-null  int64  \n",
      "dtypes: float64(1), int64(6), object(6)\n",
      "memory usage: 120.7+ MB\n"
     ]
    }
   ],
   "source": [
    "train_df.info()"
   ]
  },
  {
   "cell_type": "code",
   "execution_count": 12,
   "metadata": {},
   "outputs": [
    {
     "name": "stdout",
     "output_type": "stream",
     "text": [
      "<class 'pandas.core.frame.DataFrame'>\n",
      "RangeIndex: 5463 entries, 0 to 5462\n",
      "Data columns (total 12 columns):\n",
      " #   Column                  Non-Null Count  Dtype  \n",
      "---  ------                  --------------  -----  \n",
      " 0   transaction_id          5463 non-null   int64  \n",
      " 1   apartment_id            5463 non-null   int64  \n",
      " 2   city                    5463 non-null   object \n",
      " 3   dong                    5463 non-null   object \n",
      " 4   jibun                   5463 non-null   object \n",
      " 5   apt                     5463 non-null   object \n",
      " 6   addr_kr                 5463 non-null   object \n",
      " 7   exclusive_use_area      5463 non-null   float64\n",
      " 8   year_of_completion      5463 non-null   int64  \n",
      " 9   transaction_year_month  5463 non-null   int64  \n",
      " 10  transaction_date        5463 non-null   object \n",
      " 11  floor                   5463 non-null   int64  \n",
      "dtypes: float64(1), int64(5), object(6)\n",
      "memory usage: 512.3+ KB\n"
     ]
    }
   ],
   "source": [
    "test_df.info()"
   ]
  },
  {
   "cell_type": "code",
   "execution_count": null,
   "metadata": {},
   "outputs": [],
   "source": []
  }
 ],
 "metadata": {
  "kernelspec": {
   "display_name": "base",
   "language": "python",
   "name": "python3"
  },
  "language_info": {
   "codemirror_mode": {
    "name": "ipython",
    "version": 3
   },
   "file_extension": ".py",
   "mimetype": "text/x-python",
   "name": "python",
   "nbconvert_exporter": "python",
   "pygments_lexer": "ipython3",
   "version": "3.9.13"
  },
  "orig_nbformat": 4,
  "vscode": {
   "interpreter": {
    "hash": "eb8f946b1bed9d4c187cb5cd8c9637ed8e0cf7622b356295ec0a7b79391bc593"
   }
  }
 },
 "nbformat": 4,
 "nbformat_minor": 2
}
